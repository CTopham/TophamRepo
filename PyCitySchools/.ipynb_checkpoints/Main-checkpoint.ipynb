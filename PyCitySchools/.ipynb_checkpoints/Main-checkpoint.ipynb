{
 "cells": [
  {
   "cell_type": "code",
   "execution_count": null,
   "metadata": {
    "collapsed": true
   },
   "outputs": [],
   "source": [
    "#Craig Topham \n",
    "#School Analysis\n",
    "\n",
    "#Dependencies\n",
    "import pandas as pd\n",
    "import numpy as np\n"
   ]
  },
  {
   "cell_type": "code",
   "execution_count": null,
   "metadata": {
    "collapsed": true
   },
   "outputs": [],
   "source": [
    "#Pathing inputs\n",
    "csv_school = \"raw_data/schools_complete.csv\"\n",
    "csv_student = \"raw_data/students_complete.csv\""
   ]
  },
  {
   "cell_type": "code",
   "execution_count": null,
   "metadata": {},
   "outputs": [],
   "source": [
    "#Reading files\n",
    "school_df = pd.read_csv(csv_school)\n",
    "student_df = pd.read_csv(csv_student)\n",
    "school_df.head(15)"
   ]
  },
  {
   "cell_type": "code",
   "execution_count": null,
   "metadata": {},
   "outputs": [],
   "source": [
    "student_df.head()"
   ]
  },
  {
   "cell_type": "code",
   "execution_count": null,
   "metadata": {},
   "outputs": [],
   "source": [
    "student_df.count()"
   ]
  },
  {
   "cell_type": "code",
   "execution_count": null,
   "metadata": {},
   "outputs": [],
   "source": [
    "#Getting the number of schools\n",
    "school_count = len(school_df.index)\n",
    "school_count"
   ]
  },
  {
   "cell_type": "code",
   "execution_count": null,
   "metadata": {},
   "outputs": [],
   "source": [
    "#Grabbing student count\n",
    "student_count = len (student_df.index)\n",
    "student_count\n"
   ]
  },
  {
   "cell_type": "code",
   "execution_count": null,
   "metadata": {},
   "outputs": [],
   "source": [
    "#Total Budget\n",
    "total_budget = school_df[\"budget\"].sum()\n",
    "total_budget"
   ]
  },
  {
   "cell_type": "code",
   "execution_count": null,
   "metadata": {},
   "outputs": [],
   "source": [
    "student_df.columns"
   ]
  },
  {
   "cell_type": "code",
   "execution_count": null,
   "metadata": {},
   "outputs": [],
   "source": [
    "#Average Math score\n",
    "average_math = student_df[\"math_score\"].mean()\n",
    "average_math"
   ]
  },
  {
   "cell_type": "code",
   "execution_count": null,
   "metadata": {},
   "outputs": [],
   "source": [
    "#Average reading score\n",
    "average_reading = student_df[\"reading_score\"].mean()\n",
    "average_reading"
   ]
  },
  {
   "cell_type": "code",
   "execution_count": null,
   "metadata": {
    "collapsed": true
   },
   "outputs": [],
   "source": [
    "# % passing math\n",
    "#Looping to place a \"p\" in a list for each pass\n",
    "math_passer= []\n",
    "for row in student_df['math_score']:\n",
    "    if row >= 70:\n",
    "        math_passer.append('p')\n",
    "    "
   ]
  },
  {
   "cell_type": "code",
   "execution_count": null,
   "metadata": {},
   "outputs": [],
   "source": [
    "# % passing math..cont..\n",
    "#placing \"p\" in list for a count \n",
    "math_df=pd.DataFrame(math_passer)\n",
    "x = len (math_df.index)\n",
    "x"
   ]
  },
  {
   "cell_type": "code",
   "execution_count": null,
   "metadata": {},
   "outputs": [],
   "source": [
    "# % passing math..cont..\n",
    "#dividing passers by total students \n",
    "math_pass_percentage = x / student_count\n",
    "math_pass_percentage"
   ]
  },
  {
   "cell_type": "code",
   "execution_count": null,
   "metadata": {
    "collapsed": true
   },
   "outputs": [],
   "source": [
    "# % passing reading\n",
    "#Looping to place a \"p\" in a list for each pass\n",
    "read_passer= []\n",
    "for row in student_df['reading_score']:\n",
    "    if row >= 70:\n",
    "        read_passer.append('p')"
   ]
  },
  {
   "cell_type": "code",
   "execution_count": null,
   "metadata": {},
   "outputs": [],
   "source": [
    "# % passing reading..cont..\n",
    "#placing \"p\" in list for a count \n",
    "read_df=pd.DataFrame(read_passer)\n",
    "y = len (read_df.index)\n",
    "y"
   ]
  },
  {
   "cell_type": "code",
   "execution_count": null,
   "metadata": {},
   "outputs": [],
   "source": [
    "# % passing reading..cont..\n",
    "#dividing passers by total students\n",
    "read_pass_percentage = y / student_count\n",
    "read_pass_percentage"
   ]
  },
  {
   "cell_type": "code",
   "execution_count": null,
   "metadata": {},
   "outputs": [],
   "source": [
    "#Calculating the combined percentage of passing students\n",
    "passers=read_pass_percentage + math_pass_percentage\n",
    "combined_pass = passers / 2\n",
    "combined_pass"
   ]
  },
  {
   "cell_type": "code",
   "execution_count": null,
   "metadata": {},
   "outputs": [],
   "source": [
    "#-----------------------------------------------------------------\n",
    "#Final District Summary\n",
    "#-----------------------------------------------------------------\n",
    "district_summary_table = pd.DataFrame({\"School Count\":school_count,\n",
    "                             \"Student Count\":[student_count],\n",
    "                             \"Total Budget\":[total_budget],\n",
    "                             \"Average Math Score\":[average_math],\n",
    "                             \"Average Reading Score\":[average_reading],\n",
    "                             \"Math Pass %\":[math_pass_percentage],\n",
    "                             \"Reading Pass %\":[read_pass_percentage],\n",
    "                              \"Combined Pass Percent\":[combined_pass]})\n",
    "\n",
    "district_summary_table = district_summary_table[[\"School Count\",\"Student Count\",\"Total Budget\",\"Average Math Score\",\"Average Reading Score\",\"Math Pass %\",\"Reading Pass %\",\"Combined Pass Percent\"]]\n",
    "district_summary_table.head()"
   ]
  },
  {
   "cell_type": "code",
   "execution_count": null,
   "metadata": {},
   "outputs": [],
   "source": [
    "#renaming school column to match so I can merge on it\n",
    "school_df.rename(columns={'name':'school'}, inplace=True)\n",
    "school_df.head()\n",
    "                 "
   ]
  },
  {
   "cell_type": "code",
   "execution_count": null,
   "metadata": {
    "collapsed": true
   },
   "outputs": [],
   "source": [
    "# game plan for 2nd question\n",
    "\n",
    "#create a df with all the data you need combined = merged_df\n",
    "#grab all schools info\n",
    "#complete a use case after two school on a concat / merge\n",
    "#combined the findings with a merge or concat"
   ]
  },
  {
   "cell_type": "code",
   "execution_count": null,
   "metadata": {},
   "outputs": [],
   "source": [
    "school_df[\"school\"].unique"
   ]
  },
  {
   "cell_type": "code",
   "execution_count": null,
   "metadata": {},
   "outputs": [],
   "source": [
    "#merging on school\n",
    "merged_df = pd.merge(school_df, student_df, on=\"school\")\n",
    "merged_df.tail()"
   ]
  },
  {
   "cell_type": "code",
   "execution_count": null,
   "metadata": {},
   "outputs": [],
   "source": [
    "#Making a combined percentage column\n",
    "merged_df[\"Combined Score Percentage\"]= merged_df[\"reading_score\"]+merged_df[\"math_score\"]\n",
    "merged_df.loc[:,'Combined Score Percentage'] /= 200\n",
    "merged_df.head()"
   ]
  },
  {
   "cell_type": "code",
   "execution_count": null,
   "metadata": {},
   "outputs": [],
   "source": [
    "#Creating a DF with pena school resetting index\n",
    "#PENA HIGHSCHOOL\n",
    "pena_df = merged_df.loc[merged_df[\"school\"]==\"Pena High School\",:]\n",
    "pena_df = pena_df.reset_index(drop=True)\n",
    "pena_df.head()"
   ]
  },
  {
   "cell_type": "code",
   "execution_count": null,
   "metadata": {},
   "outputs": [],
   "source": [
    "#Grabing all pena high school info\n",
    "pena_school_name = pena_df.iloc[0,1]\n",
    "pena_school_name"
   ]
  },
  {
   "cell_type": "code",
   "execution_count": null,
   "metadata": {},
   "outputs": [],
   "source": [
    "pena_school_type = pena_df.iloc[0,2]\n",
    "pena_school_type"
   ]
  },
  {
   "cell_type": "code",
   "execution_count": null,
   "metadata": {},
   "outputs": [],
   "source": [
    "pena_total_students = pena_df.iloc[0,3]\n",
    "pena_total_students"
   ]
  },
  {
   "cell_type": "code",
   "execution_count": null,
   "metadata": {},
   "outputs": [],
   "source": [
    "pena_budget = pena_df.iloc[0,4]\n",
    "pena_budget"
   ]
  },
  {
   "cell_type": "code",
   "execution_count": null,
   "metadata": {},
   "outputs": [],
   "source": [
    "pena_budget_per_student = pena_budget / pena_total_students\n",
    "pena_budget_per_student"
   ]
  },
  {
   "cell_type": "code",
   "execution_count": null,
   "metadata": {},
   "outputs": [],
   "source": [
    "pena_ave_math = pena_df['math_score'].mean()\n",
    "pena_ave_math"
   ]
  },
  {
   "cell_type": "code",
   "execution_count": null,
   "metadata": {},
   "outputs": [],
   "source": [
    "pena_ave_read = pena_df['reading_score'].mean()\n",
    "pena_ave_read"
   ]
  },
  {
   "cell_type": "code",
   "execution_count": null,
   "metadata": {},
   "outputs": [],
   "source": [
    "#Percent passing math at Pena\n",
    "#Looping to place a \"p\" in a list for each pass\n",
    "math_passer= []\n",
    "for row in pena_df['math_score']:\n",
    "    if row >= 70:\n",
    "        math_passer.append('p')\n",
    "math_df=pd.DataFrame(math_passer)\n",
    "x = len (math_df.index)\n",
    "math_pass_percentage = x / pena_total_students\n",
    "math_pass_percentage"
   ]
  },
  {
   "cell_type": "code",
   "execution_count": null,
   "metadata": {},
   "outputs": [],
   "source": [
    "#Percent passing reading at Pena\n",
    "#Looping to place a \"p\" in a list for each pass\n",
    "read_passer= []\n",
    "for row in pena_df['reading_score']:\n",
    "    if row >= 70:\n",
    "        read_passer.append('p')\n",
    "read_df=pd.DataFrame(read_passer)\n",
    "x = len (read_df.index)\n",
    "read_pass_percentage = x / pena_total_students\n",
    "read_pass_percentage"
   ]
  },
  {
   "cell_type": "code",
   "execution_count": null,
   "metadata": {},
   "outputs": [],
   "source": [
    "#Grab all the data that is required\n",
    "#combined score percentage\n",
    "pena_combined_ave = pena_df['Combined Score Percentage'].mean()\n",
    "pena_combined_ave"
   ]
  },
  {
   "cell_type": "code",
   "execution_count": null,
   "metadata": {},
   "outputs": [],
   "source": [
    "passers=read_pass_percentage + math_pass_percentage\n",
    "combined_pass = passers / 2\n",
    "combined_pass"
   ]
  },
  {
   "cell_type": "code",
   "execution_count": null,
   "metadata": {},
   "outputs": [],
   "source": [
    "#----------------------\n",
    "#Pena School Dataframe\n",
    "#---------------------\n",
    "pena_summary_table = pd.DataFrame({\"School Name\":pena_school_name,\n",
    "                             \"Type\":[pena_school_type],\n",
    "                             \"Total Students\":[pena_total_students],\n",
    "                             \"Budget\":[pena_budget],\n",
    "                             \"Budget Per Student\":[pena_budget_per_student],\n",
    "                             \"Average Math Score\":[pena_ave_math],\n",
    "                             \"Average Reading Score\":[pena_ave_read],\n",
    "                             \"% Passing Math\":[math_pass_percentage],\n",
    "                             \"% Passing Reading\":[read_pass_percentage],\n",
    "                              \"Overall Passing\":[combined_pass]})\n",
    "\n",
    "pena_summary_table = pena_summary_table[[\"School Name\",\"Type\",\"Total Students\",\"Budget\",\"Budget Per Student\",\"Average Math Score\",\"Average Reading Score\",\"% Passing Math\", \"% Passing Reading\", \"Overall Passing\"]]\n",
    "\n",
    "pena_summary_table.head()"
   ]
  },
  {
   "cell_type": "code",
   "execution_count": null,
   "metadata": {},
   "outputs": [],
   "source": [
    "#Creating a DF with Huang school resetting index\n",
    "#Huang High School\n",
    "huang_df = merged_df.loc[merged_df[\"school\"]==\"Huang High School\",:]\n",
    "huang_df = huang_df.reset_index(drop=True)\n",
    "huang_df.head()"
   ]
  },
  {
   "cell_type": "code",
   "execution_count": null,
   "metadata": {},
   "outputs": [],
   "source": [
    "#Grabbing all huang high school info\n",
    "huang_school_name = huang_df.iloc[0,1]\n",
    "huang_school_type = huang_df.iloc[0,2]\n",
    "huang_total_students = huang_df.iloc[0,3]\n",
    "huang_budget = huang_df.iloc[0,4]\n",
    "huang_budget_per_student = huang_budget / huang_total_students\n",
    "huang_ave_math = huang_df['math_score'].mean()\n",
    "huang_ave_read = huang_df['reading_score'].mean()\n",
    "\n",
    "#Percent passing math at huang\n",
    "#Looping to place a \"p\" in a list for each pass\n",
    "math_passer= []\n",
    "for row in huang_df['math_score']:\n",
    "    if row >= 70:\n",
    "        math_passer.append('p')\n",
    "math_df=pd.DataFrame(math_passer)\n",
    "x = len (math_df.index)\n",
    "math_pass_percentage = x / huang_total_students\n",
    "\n",
    "#Percent passing reading at huang\n",
    "#Looping to place a \"p\" in a list for each pass\n",
    "read_passer= []\n",
    "for row in huang_df['reading_score']:\n",
    "    if row >= 70:\n",
    "        read_passer.append('p')\n",
    "read_df=pd.DataFrame(read_passer)\n",
    "x = len (read_df.index)\n",
    "read_pass_percentage = x / huang_total_students\n",
    "\n",
    "passers=read_pass_percentage + math_pass_percentage\n",
    "combined_pass = passers / 2\n",
    "\n",
    "#----------------------\n",
    "#huang School Dataframe\n",
    "#---------------------\n",
    "huang_summary_table = pd.DataFrame({\"School Name\":huang_school_name,\n",
    "                             \"Type\":[huang_school_type],\n",
    "                             \"Total Students\":[huang_total_students],\n",
    "                             \"Budget\":[huang_budget],\n",
    "                             \"Budget Per Student\":[huang_budget_per_student],\n",
    "                             \"Average Math Score\":[huang_ave_math],\n",
    "                             \"Average Reading Score\":[huang_ave_read],\n",
    "                             \"% Passing Math\":[math_pass_percentage],\n",
    "                             \"% Passing Reading\":[read_pass_percentage],\n",
    "                              \"Overall Passing\":[combined_pass]})\n",
    "\n",
    "huang_summary_table = huang_summary_table[[\"School Name\",\"Type\",\"Total Students\",\"Budget\",\"Budget Per Student\",\"Average Math Score\",\"Average Reading Score\",\"% Passing Math\", \"% Passing Reading\", \"Overall Passing\"]]\n",
    "\n",
    "huang_summary_table.head()"
   ]
  },
  {
   "cell_type": "code",
   "execution_count": null,
   "metadata": {},
   "outputs": [],
   "source": [
    "#Creating a DF with Figueroa school resetting index\n",
    "#Figueroa High School\n",
    "Figueroa_df = merged_df.loc[merged_df[\"school\"]==\"Figueroa High School\",:]\n",
    "Figueroa_df = Figueroa_df.reset_index(drop=True)\n",
    "Figueroa_df.head()"
   ]
  },
  {
   "cell_type": "code",
   "execution_count": null,
   "metadata": {},
   "outputs": [],
   "source": [
    "#Grabbing all Figueroa high school info\n",
    "Figueroa_school_name = Figueroa_df.iloc[0,1]\n",
    "Figueroa_school_type = Figueroa_df.iloc[0,2]\n",
    "Figueroa_total_students = Figueroa_df.iloc[0,3]\n",
    "Figueroa_budget = Figueroa_df.iloc[0,4]\n",
    "Figueroa_budget_per_student = Figueroa_budget / Figueroa_total_students\n",
    "Figueroa_ave_math = Figueroa_df['math_score'].mean()\n",
    "Figueroa_ave_read = Figueroa_df['reading_score'].mean()\n",
    "\n",
    "#Percent passing math at Figueroa\n",
    "#Looping to place a \"p\" in a list for each pass\n",
    "math_passer= []\n",
    "for row in Figueroa_df['math_score']:\n",
    "    if row >= 70:\n",
    "        math_passer.append('p')\n",
    "math_df=pd.DataFrame(math_passer)\n",
    "x = len (math_df.index)\n",
    "math_pass_percentage = x / Figueroa_total_students\n",
    "\n",
    "#Percent passing reading at Figueroa\n",
    "#Looping to place a \"p\" in a list for each pass\n",
    "read_passer= []\n",
    "for row in Figueroa_df['reading_score']:\n",
    "    if row >= 70:\n",
    "        read_passer.append('p')\n",
    "read_df=pd.DataFrame(read_passer)\n",
    "x = len (read_df.index)\n",
    "read_pass_percentage = x / Figueroa_total_students\n",
    "\n",
    "passers=read_pass_percentage + math_pass_percentage\n",
    "combined_pass = passers / 2\n",
    "\n",
    "#----------------------\n",
    "#Figueroa School Dataframe\n",
    "#---------------------\n",
    "Figueroa_summary_table = pd.DataFrame({\"School Name\":Figueroa_school_name,\n",
    "                             \"Type\":[Figueroa_school_type],\n",
    "                             \"Total Students\":[Figueroa_total_students],\n",
    "                             \"Budget\":[Figueroa_budget],\n",
    "                             \"Budget Per Student\":[Figueroa_budget_per_student],\n",
    "                             \"Average Math Score\":[Figueroa_ave_math],\n",
    "                             \"Average Reading Score\":[Figueroa_ave_read],\n",
    "                             \"% Passing Math\":[math_pass_percentage],\n",
    "                             \"% Passing Reading\":[read_pass_percentage],\n",
    "                              \"Overall Passing\":[combined_pass]})\n",
    "\n",
    "Figueroa_summary_table = Figueroa_summary_table[[\"School Name\",\"Type\",\"Total Students\",\"Budget\",\"Budget Per Student\",\"Average Math Score\",\"Average Reading Score\",\"% Passing Math\", \"% Passing Reading\", \"Overall Passing\"]]\n",
    "\n",
    "Figueroa_summary_table.head()"
   ]
  },
  {
   "cell_type": "code",
   "execution_count": null,
   "metadata": {},
   "outputs": [],
   "source": [
    "#Creating a DF with Shelton school resetting index\n",
    "#Shelton High School\n",
    "Shelton_df = merged_df.loc[merged_df[\"school\"]==\"Shelton High School\",:]\n",
    "Shelton_df = Shelton_df.reset_index(drop=True)\n",
    "Shelton_df.head()"
   ]
  },
  {
   "cell_type": "code",
   "execution_count": null,
   "metadata": {},
   "outputs": [],
   "source": [
    "#Grabbing all Shelton high school info\n",
    "Shelton_school_name = Shelton_df.iloc[0,1]\n",
    "Shelton_school_type = Shelton_df.iloc[0,2]\n",
    "Shelton_total_students = Shelton_df.iloc[0,3]\n",
    "Shelton_budget = Shelton_df.iloc[0,4]\n",
    "Shelton_budget_per_student = Shelton_budget / Shelton_total_students\n",
    "Shelton_ave_math = Shelton_df['math_score'].mean()\n",
    "Shelton_ave_read = Shelton_df['reading_score'].mean()\n",
    "\n",
    "#Percent passing math at Shelton\n",
    "#Looping to place a \"p\" in a list for each pass\n",
    "math_passer= []\n",
    "for row in Shelton_df['math_score']:\n",
    "    if row >= 70:\n",
    "        math_passer.append('p')\n",
    "math_df=pd.DataFrame(math_passer)\n",
    "x = len (math_df.index)\n",
    "math_pass_percentage = x / Shelton_total_students\n",
    "\n",
    "#Percent passing reading at Shelton\n",
    "#Looping to place a \"p\" in a list for each pass\n",
    "read_passer= []\n",
    "for row in Shelton_df['reading_score']:\n",
    "    if row >= 70:\n",
    "        read_passer.append('p')\n",
    "read_df=pd.DataFrame(read_passer)\n",
    "x = len (read_df.index)\n",
    "read_pass_percentage = x / Shelton_total_students\n",
    "\n",
    "passers=read_pass_percentage + math_pass_percentage\n",
    "combined_pass = passers / 2\n",
    "\n",
    "#----------------------\n",
    "#Shelton School Dataframe\n",
    "#---------------------\n",
    "Shelton_summary_table = pd.DataFrame({\"School Name\":Shelton_school_name,\n",
    "                             \"Type\":[Shelton_school_type],\n",
    "                             \"Total Students\":[Shelton_total_students],\n",
    "                             \"Budget\":[Shelton_budget],\n",
    "                             \"Budget Per Student\":[Shelton_budget_per_student],\n",
    "                             \"Average Math Score\":[Shelton_ave_math],\n",
    "                             \"Average Reading Score\":[Shelton_ave_read],\n",
    "                             \"% Passing Math\":[math_pass_percentage],\n",
    "                             \"% Passing Reading\":[read_pass_percentage],\n",
    "                              \"Overall Passing\":[combined_pass]})\n",
    "\n",
    "Shelton_summary_table = Shelton_summary_table[[\"School Name\",\"Type\",\"Total Students\",\"Budget\",\"Budget Per Student\",\"Average Math Score\",\"Average Reading Score\",\"% Passing Math\", \"% Passing Reading\", \"Overall Passing\"]]\n",
    "\n",
    "Shelton_summary_table.head()"
   ]
  },
  {
   "cell_type": "code",
   "execution_count": null,
   "metadata": {},
   "outputs": [],
   "source": [
    "#Creating a DF with Hernandez school resetting index\n",
    "#Hernandez High School\n",
    "Hernandez_df = merged_df.loc[merged_df[\"school\"]==\"Hernandez High School\",:]\n",
    "Hernandez_df = Hernandez_df.reset_index(drop=True)\n",
    "Hernandez_df.head()"
   ]
  },
  {
   "cell_type": "code",
   "execution_count": null,
   "metadata": {},
   "outputs": [],
   "source": [
    "#Grabbing all Hernandez high school info\n",
    "Hernandez_school_name = Hernandez_df.iloc[0,1]\n",
    "Hernandez_school_type = Hernandez_df.iloc[0,2]\n",
    "Hernandez_total_students = Hernandez_df.iloc[0,3]\n",
    "Hernandez_budget = Hernandez_df.iloc[0,4]\n",
    "Hernandez_budget_per_student = Hernandez_budget / Hernandez_total_students\n",
    "Hernandez_ave_math = Hernandez_df['math_score'].mean()\n",
    "Hernandez_ave_read = Hernandez_df['reading_score'].mean()\n",
    "\n",
    "#Percent passing math at Hernandez\n",
    "#Looping to place a \"p\" in a list for each pass\n",
    "math_passer= []\n",
    "for row in Hernandez_df['math_score']:\n",
    "    if row >= 70:\n",
    "        math_passer.append('p')\n",
    "math_df=pd.DataFrame(math_passer)\n",
    "x = len (math_df.index)\n",
    "math_pass_percentage = x / Hernandez_total_students\n",
    "\n",
    "#Percent passing reading at Hernandez\n",
    "#Looping to place a \"p\" in a list for each pass\n",
    "read_passer= []\n",
    "for row in Hernandez_df['reading_score']:\n",
    "    if row >= 70:\n",
    "        read_passer.append('p')\n",
    "read_df=pd.DataFrame(read_passer)\n",
    "x = len (read_df.index)\n",
    "read_pass_percentage = x / Hernandez_total_students\n",
    "\n",
    "passers=read_pass_percentage + math_pass_percentage\n",
    "combined_pass = passers / 2\n",
    "\n",
    "#----------------------\n",
    "#Hernandez School Dataframe\n",
    "#---------------------\n",
    "Hernandez_summary_table = pd.DataFrame({\"School Name\":Hernandez_school_name,\n",
    "                             \"Type\":[Hernandez_school_type],\n",
    "                             \"Total Students\":[Hernandez_total_students],\n",
    "                             \"Budget\":[Hernandez_budget],\n",
    "                             \"Budget Per Student\":[Hernandez_budget_per_student],\n",
    "                             \"Average Math Score\":[Hernandez_ave_math],\n",
    "                             \"Average Reading Score\":[Hernandez_ave_read],\n",
    "                             \"% Passing Math\":[math_pass_percentage],\n",
    "                             \"% Passing Reading\":[read_pass_percentage],\n",
    "                              \"Overall Passing\":[combined_pass]})\n",
    "\n",
    "Hernandez_summary_table = Hernandez_summary_table[[\"School Name\",\"Type\",\"Total Students\",\"Budget\",\"Budget Per Student\",\"Average Math Score\",\"Average Reading Score\",\"% Passing Math\", \"% Passing Reading\", \"Overall Passing\"]]\n",
    "\n",
    "Hernandez_summary_table.head()"
   ]
  },
  {
   "cell_type": "code",
   "execution_count": null,
   "metadata": {},
   "outputs": [],
   "source": [
    "#Creating a DF with Griffin school resetting index\n",
    "#Griffin High School\n",
    "Griffin_df = merged_df.loc[merged_df[\"school\"]==\"Griffin High School\",:]\n",
    "Griffin_df = Griffin_df.reset_index(drop=True)\n",
    "Griffin_df.head()"
   ]
  },
  {
   "cell_type": "code",
   "execution_count": null,
   "metadata": {},
   "outputs": [],
   "source": [
    "#Grabbing all Griffin high school info\n",
    "Griffin_school_name = Griffin_df.iloc[0,1]\n",
    "Griffin_school_type = Griffin_df.iloc[0,2]\n",
    "Griffin_total_students = Griffin_df.iloc[0,3]\n",
    "Griffin_budget = Griffin_df.iloc[0,4]\n",
    "Griffin_budget_per_student = Griffin_budget / Griffin_total_students\n",
    "Griffin_ave_math = Griffin_df['math_score'].mean()\n",
    "Griffin_ave_read = Griffin_df['reading_score'].mean()\n",
    "\n",
    "#Percent passing math at Griffin\n",
    "#Looping to place a \"p\" in a list for each pass\n",
    "math_passer= []\n",
    "for row in Griffin_df['math_score']:\n",
    "    if row >= 70:\n",
    "        math_passer.append('p')\n",
    "math_df=pd.DataFrame(math_passer)\n",
    "x = len (math_df.index)\n",
    "math_pass_percentage = x / Griffin_total_students\n",
    "\n",
    "#Percent passing reading at Griffin\n",
    "#Looping to place a \"p\" in a list for each pass\n",
    "read_passer= []\n",
    "for row in Griffin_df['reading_score']:\n",
    "    if row >= 70:\n",
    "        read_passer.append('p')\n",
    "read_df=pd.DataFrame(read_passer)\n",
    "x = len (read_df.index)\n",
    "read_pass_percentage = x / Griffin_total_students\n",
    "\n",
    "passers=read_pass_percentage + math_pass_percentage\n",
    "combined_pass = passers / 2\n",
    "\n",
    "#----------------------\n",
    "#Griffin School Dataframe\n",
    "#---------------------\n",
    "Griffin_summary_table = pd.DataFrame({\"School Name\":Griffin_school_name,\n",
    "                             \"Type\":[Griffin_school_type],\n",
    "                             \"Total Students\":[Griffin_total_students],\n",
    "                             \"Budget\":[Griffin_budget],\n",
    "                             \"Budget Per Student\":[Griffin_budget_per_student],\n",
    "                             \"Average Math Score\":[Griffin_ave_math],\n",
    "                             \"Average Reading Score\":[Griffin_ave_read],\n",
    "                             \"% Passing Math\":[math_pass_percentage],\n",
    "                             \"% Passing Reading\":[read_pass_percentage],\n",
    "                              \"Overall Passing\":[combined_pass]})\n",
    "\n",
    "Griffin_summary_table = Griffin_summary_table[[\"School Name\",\"Type\",\"Total Students\",\"Budget\",\"Budget Per Student\",\"Average Math Score\",\"Average Reading Score\",\"% Passing Math\", \"% Passing Reading\", \"Overall Passing\"]]\n",
    "\n",
    "Griffin_summary_table.head()"
   ]
  },
  {
   "cell_type": "code",
   "execution_count": null,
   "metadata": {},
   "outputs": [],
   "source": [
    "#Creating a DF with Wilson school resetting index\n",
    "#Wilson High School\n",
    "Wilson_df = merged_df.loc[merged_df[\"school\"]==\"Wilson High School\",:]\n",
    "Wilson_df = Wilson_df.reset_index(drop=True)\n",
    "Wilson_df.head()"
   ]
  },
  {
   "cell_type": "code",
   "execution_count": null,
   "metadata": {},
   "outputs": [],
   "source": [
    "#Grabbing all Wilson high school info\n",
    "Wilson_school_name = Wilson_df.iloc[0,1]\n",
    "Wilson_school_type = Wilson_df.iloc[0,2]\n",
    "Wilson_total_students = Wilson_df.iloc[0,3]\n",
    "Wilson_budget = Wilson_df.iloc[0,4]\n",
    "Wilson_budget_per_student = Wilson_budget / Wilson_total_students\n",
    "Wilson_ave_math = Wilson_df['math_score'].mean()\n",
    "Wilson_ave_read = Wilson_df['reading_score'].mean()\n",
    "\n",
    "#Percent passing math at Wilson\n",
    "#Looping to place a \"p\" in a list for each pass\n",
    "math_passer= []\n",
    "for row in Wilson_df['math_score']:\n",
    "    if row >= 70:\n",
    "        math_passer.append('p')\n",
    "math_df=pd.DataFrame(math_passer)\n",
    "x = len (math_df.index)\n",
    "math_pass_percentage = x / Wilson_total_students\n",
    "\n",
    "#Percent passing reading at Wilson\n",
    "#Looping to place a \"p\" in a list for each pass\n",
    "read_passer= []\n",
    "for row in Wilson_df['reading_score']:\n",
    "    if row >= 70:\n",
    "        read_passer.append('p')\n",
    "read_df=pd.DataFrame(read_passer)\n",
    "x = len (read_df.index)\n",
    "read_pass_percentage = x / Wilson_total_students\n",
    "\n",
    "passers=read_pass_percentage + math_pass_percentage\n",
    "combined_pass = passers / 2\n",
    "\n",
    "#----------------------\n",
    "#Wilson School Dataframe\n",
    "#---------------------\n",
    "Wilson_summary_table = pd.DataFrame({\"School Name\":Wilson_school_name,\n",
    "                             \"Type\":[Wilson_school_type],\n",
    "                             \"Total Students\":[Wilson_total_students],\n",
    "                             \"Budget\":[Wilson_budget],\n",
    "                             \"Budget Per Student\":[Wilson_budget_per_student],\n",
    "                             \"Average Math Score\":[Wilson_ave_math],\n",
    "                             \"Average Reading Score\":[Wilson_ave_read],\n",
    "                             \"% Passing Math\":[math_pass_percentage],\n",
    "                             \"% Passing Reading\":[read_pass_percentage],\n",
    "                              \"Overall Passing\":[combined_pass]})\n",
    "\n",
    "Wilson_summary_table = Wilson_summary_table[[\"School Name\",\"Type\",\"Total Students\",\"Budget\",\"Budget Per Student\",\"Average Math Score\",\"Average Reading Score\",\"% Passing Math\", \"% Passing Reading\", \"Overall Passing\"]]\n",
    "\n",
    "Wilson_summary_table.head()"
   ]
  },
  {
   "cell_type": "code",
   "execution_count": null,
   "metadata": {},
   "outputs": [],
   "source": [
    "#Creating a DF with Cabrera school resetting index\n",
    "#Cabrera High School\n",
    "Cabrera_df = merged_df.loc[merged_df[\"school\"]==\"Cabrera High School\",:]\n",
    "Cabrera_df = Cabrera_df.reset_index(drop=True)\n",
    "Cabrera_df.head()"
   ]
  },
  {
   "cell_type": "code",
   "execution_count": null,
   "metadata": {},
   "outputs": [],
   "source": [
    "#Grabbing all Cabrera high school info\n",
    "Cabrera_school_name = Cabrera_df.iloc[0,1]\n",
    "Cabrera_school_type = Cabrera_df.iloc[0,2]\n",
    "Cabrera_total_students = Cabrera_df.iloc[0,3]\n",
    "Cabrera_budget = Cabrera_df.iloc[0,4]\n",
    "Cabrera_budget_per_student = Cabrera_budget / Cabrera_total_students\n",
    "Cabrera_ave_math = Cabrera_df['math_score'].mean()\n",
    "Cabrera_ave_read = Cabrera_df['reading_score'].mean()\n",
    "\n",
    "#Percent passing math at Cabrera\n",
    "#Looping to place a \"p\" in a list for each pass\n",
    "math_passer= []\n",
    "for row in Cabrera_df['math_score']:\n",
    "    if row >= 70:\n",
    "        math_passer.append('p')\n",
    "math_df=pd.DataFrame(math_passer)\n",
    "x = len (math_df.index)\n",
    "math_pass_percentage = x / Cabrera_total_students\n",
    "\n",
    "#Percent passing reading at Cabrera\n",
    "#Looping to place a \"p\" in a list for each pass\n",
    "read_passer= []\n",
    "for row in Cabrera_df['reading_score']:\n",
    "    if row >= 70:\n",
    "        read_passer.append('p')\n",
    "read_df=pd.DataFrame(read_passer)\n",
    "x = len (read_df.index)\n",
    "read_pass_percentage = x / Cabrera_total_students\n",
    "\n",
    "passers=read_pass_percentage + math_pass_percentage\n",
    "combined_pass = passers / 2\n",
    "\n",
    "#----------------------\n",
    "#Cabrera School Dataframe\n",
    "#---------------------\n",
    "Cabrera_summary_table = pd.DataFrame({\"School Name\":Cabrera_school_name,\n",
    "                             \"Type\":[Cabrera_school_type],\n",
    "                             \"Total Students\":[Cabrera_total_students],\n",
    "                             \"Budget\":[Cabrera_budget],\n",
    "                             \"Budget Per Student\":[Cabrera_budget_per_student],\n",
    "                             \"Average Math Score\":[Cabrera_ave_math],\n",
    "                             \"Average Reading Score\":[Cabrera_ave_read],\n",
    "                             \"% Passing Math\":[math_pass_percentage],\n",
    "                             \"% Passing Reading\":[read_pass_percentage],\n",
    "                              \"Overall Passing\":[combined_pass]})\n",
    "\n",
    "Cabrera_summary_table = Cabrera_summary_table[[\"School Name\",\"Type\",\"Total Students\",\"Budget\",\"Budget Per Student\",\"Average Math Score\",\"Average Reading Score\",\"% Passing Math\", \"% Passing Reading\", \"Overall Passing\"]]\n",
    "\n",
    "Cabrera_summary_table.head()"
   ]
  },
  {
   "cell_type": "code",
   "execution_count": null,
   "metadata": {},
   "outputs": [],
   "source": [
    "#Creating a DF with Bailey school resetting index\n",
    "#Bailey High School\n",
    "Bailey_df = merged_df.loc[merged_df[\"school\"]==\"Bailey High School\",:]\n",
    "Bailey_df = Bailey_df.reset_index(drop=True)\n",
    "Bailey_df.head()"
   ]
  },
  {
   "cell_type": "code",
   "execution_count": null,
   "metadata": {},
   "outputs": [],
   "source": [
    "#Grabbing all Bailey high school info\n",
    "Bailey_school_name = Bailey_df.iloc[0,1]\n",
    "Bailey_school_type = Bailey_df.iloc[0,2]\n",
    "Bailey_total_students = Bailey_df.iloc[0,3]\n",
    "Bailey_budget = Bailey_df.iloc[0,4]\n",
    "Bailey_budget_per_student = Bailey_budget / Bailey_total_students\n",
    "Bailey_ave_math = Bailey_df['math_score'].mean()\n",
    "Bailey_ave_read = Bailey_df['reading_score'].mean()\n",
    "\n",
    "#Percent passing math at Bailey\n",
    "#Looping to place a \"p\" in a list for each pass\n",
    "math_passer= []\n",
    "for row in Bailey_df['math_score']:\n",
    "    if row >= 70:\n",
    "        math_passer.append('p')\n",
    "math_df=pd.DataFrame(math_passer)\n",
    "x = len (math_df.index)\n",
    "math_pass_percentage = x / Bailey_total_students\n",
    "\n",
    "#Percent passing reading at Bailey\n",
    "#Looping to place a \"p\" in a list for each pass\n",
    "read_passer= []\n",
    "for row in Bailey_df['reading_score']:\n",
    "    if row >= 70:\n",
    "        read_passer.append('p')\n",
    "read_df=pd.DataFrame(read_passer)\n",
    "x = len (read_df.index)\n",
    "read_pass_percentage = x / Bailey_total_students\n",
    "\n",
    "passers=read_pass_percentage + math_pass_percentage\n",
    "combined_pass = passers / 2\n",
    "\n",
    "#----------------------\n",
    "#Bailey School Dataframe\n",
    "#---------------------\n",
    "Bailey_summary_table = pd.DataFrame({\"School Name\":Bailey_school_name,\n",
    "                             \"Type\":[Bailey_school_type],\n",
    "                             \"Total Students\":[Bailey_total_students],\n",
    "                             \"Budget\":[Bailey_budget],\n",
    "                             \"Budget Per Student\":[Bailey_budget_per_student],\n",
    "                             \"Average Math Score\":[Bailey_ave_math],\n",
    "                             \"Average Reading Score\":[Bailey_ave_read],\n",
    "                             \"% Passing Math\":[math_pass_percentage],\n",
    "                             \"% Passing Reading\":[read_pass_percentage],\n",
    "                              \"Overall Passing\":[combined_pass]})\n",
    "\n",
    "Bailey_summary_table = Bailey_summary_table[[\"School Name\",\"Type\",\"Total Students\",\"Budget\",\"Budget Per Student\",\"Average Math Score\",\"Average Reading Score\",\"% Passing Math\", \"% Passing Reading\", \"Overall Passing\"]]\n",
    "\n",
    "Bailey_summary_table.head()"
   ]
  },
  {
   "cell_type": "code",
   "execution_count": null,
   "metadata": {},
   "outputs": [],
   "source": [
    "#Creating a DF with Holden school resetting index\n",
    "#Holden High School\n",
    "Holden_df = merged_df.loc[merged_df[\"school\"]==\"Holden High School\",:]\n",
    "Holden_df = Holden_df.reset_index(drop=True)\n",
    "Holden_df.head()"
   ]
  },
  {
   "cell_type": "code",
   "execution_count": null,
   "metadata": {},
   "outputs": [],
   "source": [
    "#Grabbing all Holden high school info\n",
    "Holden_school_name = Holden_df.iloc[0,1]\n",
    "Holden_school_type = Holden_df.iloc[0,2]\n",
    "Holden_total_students = Holden_df.iloc[0,3]\n",
    "Holden_budget = Holden_df.iloc[0,4]\n",
    "Holden_budget_per_student = Holden_budget / Holden_total_students\n",
    "Holden_ave_math = Holden_df['math_score'].mean()\n",
    "Holden_ave_read = Holden_df['reading_score'].mean()\n",
    "\n",
    "#Percent passing math at Holden\n",
    "#Looping to place a \"p\" in a list for each pass\n",
    "math_passer= []\n",
    "for row in Holden_df['math_score']:\n",
    "    if row >= 70:\n",
    "        math_passer.append('p')\n",
    "math_df=pd.DataFrame(math_passer)\n",
    "x = len (math_df.index)\n",
    "math_pass_percentage = x / Holden_total_students\n",
    "\n",
    "#Percent passing reading at Holden\n",
    "#Looping to place a \"p\" in a list for each pass\n",
    "read_passer= []\n",
    "for row in Holden_df['reading_score']:\n",
    "    if row >= 70:\n",
    "        read_passer.append('p')\n",
    "read_df=pd.DataFrame(read_passer)\n",
    "x = len (read_df.index)\n",
    "read_pass_percentage = x / Holden_total_students\n",
    "\n",
    "passers=read_pass_percentage + math_pass_percentage\n",
    "combined_pass = passers / 2\n",
    "\n",
    "#----------------------\n",
    "#Holden School Dataframe\n",
    "#---------------------\n",
    "Holden_summary_table = pd.DataFrame({\"School Name\":Holden_school_name,\n",
    "                             \"Type\":[Holden_school_type],\n",
    "                             \"Total Students\":[Holden_total_students],\n",
    "                             \"Budget\":[Holden_budget],\n",
    "                             \"Budget Per Student\":[Holden_budget_per_student],\n",
    "                             \"Average Math Score\":[Holden_ave_math],\n",
    "                             \"Average Reading Score\":[Holden_ave_read],\n",
    "                             \"% Passing Math\":[math_pass_percentage],\n",
    "                             \"% Passing Reading\":[read_pass_percentage],\n",
    "                              \"Overall Passing\":[combined_pass]})\n",
    "\n",
    "Holden_summary_table = Holden_summary_table[[\"School Name\",\"Type\",\"Total Students\",\"Budget\",\"Budget Per Student\",\"Average Math Score\",\"Average Reading Score\",\"% Passing Math\", \"% Passing Reading\", \"Overall Passing\"]]\n",
    "\n",
    "Holden_summary_table.head()"
   ]
  },
  {
   "cell_type": "code",
   "execution_count": null,
   "metadata": {},
   "outputs": [],
   "source": [
    "#Creating a DF with Wright school resetting index\n",
    "#Wright High School\n",
    "Wright_df = merged_df.loc[merged_df[\"school\"]==\"Wright High School\",:]\n",
    "Wright_df = Wright_df.reset_index(drop=True)\n",
    "Wright_df.head()"
   ]
  },
  {
   "cell_type": "code",
   "execution_count": null,
   "metadata": {},
   "outputs": [],
   "source": [
    "#Grabbing all Wright high school info\n",
    "Wright_school_name = Wright_df.iloc[0,1]\n",
    "Wright_school_type = Wright_df.iloc[0,2]\n",
    "Wright_total_students = Wright_df.iloc[0,3]\n",
    "Wright_budget = Wright_df.iloc[0,4]\n",
    "Wright_budget_per_student = Wright_budget / Wright_total_students\n",
    "Wright_ave_math = Wright_df['math_score'].mean()\n",
    "Wright_ave_read = Wright_df['reading_score'].mean()\n",
    "\n",
    "#Percent passing math at Wright\n",
    "#Looping to place a \"p\" in a list for each pass\n",
    "math_passer= []\n",
    "for row in Wright_df['math_score']:\n",
    "    if row >= 70:\n",
    "        math_passer.append('p')\n",
    "math_df=pd.DataFrame(math_passer)\n",
    "x = len (math_df.index)\n",
    "math_pass_percentage = x / Wright_total_students\n",
    "\n",
    "#Percent passing reading at Wright\n",
    "#Looping to place a \"p\" in a list for each pass\n",
    "read_passer= []\n",
    "for row in Wright_df['reading_score']:\n",
    "    if row >= 70:\n",
    "        read_passer.append('p')\n",
    "read_df=pd.DataFrame(read_passer)\n",
    "x = len (read_df.index)\n",
    "read_pass_percentage = x / Wright_total_students\n",
    "\n",
    "passers=read_pass_percentage + math_pass_percentage\n",
    "combined_pass = passers / 2\n",
    "\n",
    "#----------------------\n",
    "#Wright School Dataframe\n",
    "#---------------------\n",
    "Wright_summary_table = pd.DataFrame({\"School Name\":Wright_school_name,\n",
    "                             \"Type\":[Wright_school_type],\n",
    "                             \"Total Students\":[Wright_total_students],\n",
    "                             \"Budget\":[Wright_budget],\n",
    "                             \"Budget Per Student\":[Wright_budget_per_student],\n",
    "                             \"Average Math Score\":[Wright_ave_math],\n",
    "                             \"Average Reading Score\":[Wright_ave_read],\n",
    "                             \"% Passing Math\":[math_pass_percentage],\n",
    "                             \"% Passing Reading\":[read_pass_percentage],\n",
    "                              \"Overall Passing\":[combined_pass]})\n",
    "\n",
    "Wright_summary_table = Wright_summary_table[[\"School Name\",\"Type\",\"Total Students\",\"Budget\",\"Budget Per Student\",\"Average Math Score\",\"Average Reading Score\",\"% Passing Math\", \"% Passing Reading\", \"Overall Passing\"]]\n",
    "\n",
    "Wright_summary_table.head()"
   ]
  },
  {
   "cell_type": "code",
   "execution_count": null,
   "metadata": {},
   "outputs": [],
   "source": [
    "#Creating a DF with Rodriguez school resetting index\n",
    "#Rodriguez High School\n",
    "Rodriguez_df = merged_df.loc[merged_df[\"school\"]==\"Rodriguez High School\",:]\n",
    "Rodriguez_df = Rodriguez_df.reset_index(drop=True)\n",
    "Rodriguez_df.head()"
   ]
  },
  {
   "cell_type": "code",
   "execution_count": null,
   "metadata": {},
   "outputs": [],
   "source": [
    "#Grabbing all Rodriguez high school info\n",
    "Rodriguez_school_name = Rodriguez_df.iloc[0,1]\n",
    "Rodriguez_school_type = Rodriguez_df.iloc[0,2]\n",
    "Rodriguez_total_students = Rodriguez_df.iloc[0,3]\n",
    "Rodriguez_budget = Rodriguez_df.iloc[0,4]\n",
    "Rodriguez_budget_per_student = Rodriguez_budget / Rodriguez_total_students\n",
    "Rodriguez_ave_math = Rodriguez_df['math_score'].mean()\n",
    "Rodriguez_ave_read = Rodriguez_df['reading_score'].mean()\n",
    "\n",
    "#Percent passing math at Rodriguez\n",
    "#Looping to place a \"p\" in a list for each pass\n",
    "math_passer= []\n",
    "for row in Rodriguez_df['math_score']:\n",
    "    if row >= 70:\n",
    "        math_passer.append('p')\n",
    "math_df=pd.DataFrame(math_passer)\n",
    "x = len (math_df.index)\n",
    "math_pass_percentage = x / Rodriguez_total_students\n",
    "\n",
    "#Percent passing reading at Rodriguez\n",
    "#Looping to place a \"p\" in a list for each pass\n",
    "read_passer= []\n",
    "for row in Rodriguez_df['reading_score']:\n",
    "    if row >= 70:\n",
    "        read_passer.append('p')\n",
    "read_df=pd.DataFrame(read_passer)\n",
    "x = len (read_df.index)\n",
    "read_pass_percentage = x / Rodriguez_total_students\n",
    "\n",
    "passers=read_pass_percentage + math_pass_percentage\n",
    "combined_pass = passers / 2\n",
    "\n",
    "#----------------------\n",
    "#Rodriguez School Dataframe\n",
    "#---------------------\n",
    "Rodriguez_summary_table = pd.DataFrame({\"School Name\":Rodriguez_school_name,\n",
    "                             \"Type\":[Rodriguez_school_type],\n",
    "                             \"Total Students\":[Rodriguez_total_students],\n",
    "                             \"Budget\":[Rodriguez_budget],\n",
    "                             \"Budget Per Student\":[Rodriguez_budget_per_student],\n",
    "                             \"Average Math Score\":[Rodriguez_ave_math],\n",
    "                             \"Average Reading Score\":[Rodriguez_ave_read],\n",
    "                             \"% Passing Math\":[math_pass_percentage],\n",
    "                             \"% Passing Reading\":[read_pass_percentage],\n",
    "                              \"Overall Passing\":[combined_pass]})\n",
    "\n",
    "Rodriguez_summary_table = Rodriguez_summary_table[[\"School Name\",\"Type\",\"Total Students\",\"Budget\",\"Budget Per Student\",\"Average Math Score\",\"Average Reading Score\",\"% Passing Math\", \"% Passing Reading\", \"Overall Passing\"]]\n",
    "\n",
    "Rodriguez_summary_table.head()"
   ]
  },
  {
   "cell_type": "code",
   "execution_count": null,
   "metadata": {},
   "outputs": [],
   "source": [
    "#Creating a DF with Johnson school resetting index\n",
    "#Johnson High School\n",
    "Johnson_df = merged_df.loc[merged_df[\"school\"]==\"Johnson High School\",:]\n",
    "Johnson_df = Johnson_df.reset_index(drop=True)\n",
    "Johnson_df.head()"
   ]
  },
  {
   "cell_type": "code",
   "execution_count": null,
   "metadata": {},
   "outputs": [],
   "source": [
    "#Grabbing all Johnson high school info\n",
    "Johnson_school_name = Johnson_df.iloc[0,1]\n",
    "Johnson_school_type = Johnson_df.iloc[0,2]\n",
    "Johnson_total_students = Johnson_df.iloc[0,3]\n",
    "Johnson_budget = Johnson_df.iloc[0,4]\n",
    "Johnson_budget_per_student = Johnson_budget / Johnson_total_students\n",
    "Johnson_ave_math = Johnson_df['math_score'].mean()\n",
    "Johnson_ave_read = Johnson_df['reading_score'].mean()\n",
    "\n",
    "#Percent passing math at Johnson\n",
    "#Looping to place a \"p\" in a list for each pass\n",
    "math_passer= []\n",
    "for row in Johnson_df['math_score']:\n",
    "    if row >= 70:\n",
    "        math_passer.append('p')\n",
    "math_df=pd.DataFrame(math_passer)\n",
    "x = len (math_df.index)\n",
    "math_pass_percentage = x / Johnson_total_students\n",
    "\n",
    "#Percent passing reading at Johnson\n",
    "#Looping to place a \"p\" in a list for each pass\n",
    "read_passer= []\n",
    "for row in Johnson_df['reading_score']:\n",
    "    if row >= 70:\n",
    "        read_passer.append('p')\n",
    "read_df=pd.DataFrame(read_passer)\n",
    "x = len (read_df.index)\n",
    "read_pass_percentage = x / Johnson_total_students\n",
    "\n",
    "passers=read_pass_percentage + math_pass_percentage\n",
    "combined_pass = passers / 2\n",
    "\n",
    "#----------------------\n",
    "#Johnson School Dataframe\n",
    "#---------------------\n",
    "Johnson_summary_table = pd.DataFrame({\"School Name\":Johnson_school_name,\n",
    "                             \"Type\":[Johnson_school_type],\n",
    "                             \"Total Students\":[Johnson_total_students],\n",
    "                             \"Budget\":[Johnson_budget],\n",
    "                             \"Budget Per Student\":[Johnson_budget_per_student],\n",
    "                             \"Average Math Score\":[Johnson_ave_math],\n",
    "                             \"Average Reading Score\":[Johnson_ave_read],\n",
    "                             \"% Passing Math\":[math_pass_percentage],\n",
    "                             \"% Passing Reading\":[read_pass_percentage],\n",
    "                              \"Overall Passing\":[combined_pass]})\n",
    "\n",
    "Johnson_summary_table = Johnson_summary_table[[\"School Name\",\"Type\",\"Total Students\",\"Budget\",\"Budget Per Student\",\"Average Math Score\",\"Average Reading Score\",\"% Passing Math\", \"% Passing Reading\", \"Overall Passing\"]]\n",
    "\n",
    "Johnson_summary_table.head()"
   ]
  },
  {
   "cell_type": "code",
   "execution_count": null,
   "metadata": {},
   "outputs": [],
   "source": [
    "#Creating a DF with Ford school resetting index\n",
    "#Ford High School\n",
    "Ford_df = merged_df.loc[merged_df[\"school\"]==\"Ford High School\",:]\n",
    "Ford_df = Ford_df.reset_index(drop=True)\n",
    "Ford_df.head()"
   ]
  },
  {
   "cell_type": "code",
   "execution_count": null,
   "metadata": {},
   "outputs": [],
   "source": [
    "#Grabbing all Ford high school info\n",
    "Ford_school_name = Ford_df.iloc[0,1]\n",
    "Ford_school_type = Ford_df.iloc[0,2]\n",
    "Ford_total_students = Ford_df.iloc[0,3]\n",
    "Ford_budget = Ford_df.iloc[0,4]\n",
    "Ford_budget_per_student = Ford_budget / Ford_total_students\n",
    "Ford_ave_math = Ford_df['math_score'].mean()\n",
    "Ford_ave_read = Ford_df['reading_score'].mean()\n",
    "\n",
    "#Percent passing math at Ford\n",
    "#Looping to place a \"p\" in a list for each pass\n",
    "math_passer= []\n",
    "for row in Ford_df['math_score']:\n",
    "    if row >= 70:\n",
    "        math_passer.append('p')\n",
    "math_df=pd.DataFrame(math_passer)\n",
    "x = len (math_df.index)\n",
    "math_pass_percentage = x / Ford_total_students\n",
    "\n",
    "#Percent passing reading at Ford\n",
    "#Looping to place a \"p\" in a list for each pass\n",
    "read_passer= []\n",
    "for row in Ford_df['reading_score']:\n",
    "    if row >= 70:\n",
    "        read_passer.append('p')\n",
    "read_df=pd.DataFrame(read_passer)\n",
    "x = len (read_df.index)\n",
    "read_pass_percentage = x / Ford_total_students\n",
    "\n",
    "passers=read_pass_percentage + math_pass_percentage\n",
    "combined_pass = passers / 2\n",
    "\n",
    "#----------------------\n",
    "#Ford School Dataframe\n",
    "#---------------------\n",
    "Ford_summary_table = pd.DataFrame({\"School Name\":Ford_school_name,\n",
    "                             \"Type\":[Ford_school_type],\n",
    "                             \"Total Students\":[Ford_total_students],\n",
    "                             \"Budget\":[Ford_budget],\n",
    "                             \"Budget Per Student\":[Ford_budget_per_student],\n",
    "                             \"Average Math Score\":[Ford_ave_math],\n",
    "                             \"Average Reading Score\":[Ford_ave_read],\n",
    "                             \"% Passing Math\":[math_pass_percentage],\n",
    "                             \"% Passing Reading\":[read_pass_percentage],\n",
    "                              \"Overall Passing\":[combined_pass]})\n",
    "\n",
    "Ford_summary_table = Ford_summary_table[[\"School Name\",\"Type\",\"Total Students\",\"Budget\",\"Budget Per Student\",\"Average Math Score\",\"Average Reading Score\",\"% Passing Math\", \"% Passing Reading\", \"Overall Passing\"]]\n",
    "\n",
    "Ford_summary_table.head()"
   ]
  },
  {
   "cell_type": "code",
   "execution_count": null,
   "metadata": {},
   "outputs": [],
   "source": [
    "#Creating a DF with Thomas school resetting index\n",
    "#Thomas High School\n",
    "Thomas_df = merged_df.loc[merged_df[\"school\"]==\"Thomas High School\",:]\n",
    "Thomas_df = Thomas_df.reset_index(drop=True)\n",
    "Thomas_df.head()"
   ]
  },
  {
   "cell_type": "code",
   "execution_count": null,
   "metadata": {},
   "outputs": [],
   "source": [
    "#Grabbing all Thomas high school info\n",
    "Thomas_school_name = Thomas_df.iloc[0,1]\n",
    "Thomas_school_type = Thomas_df.iloc[0,2]\n",
    "Thomas_total_students = Thomas_df.iloc[0,3]\n",
    "Thomas_budget = Thomas_df.iloc[0,4]\n",
    "Thomas_budget_per_student = Thomas_budget / Thomas_total_students\n",
    "Thomas_ave_math = Thomas_df['math_score'].mean()\n",
    "Thomas_ave_read = Thomas_df['reading_score'].mean()\n",
    "\n",
    "#Percent passing math at Thomas\n",
    "#Looping to place a \"p\" in a list for each pass\n",
    "math_passer= []\n",
    "for row in Thomas_df['math_score']:\n",
    "    if row >= 70:\n",
    "        math_passer.append('p')\n",
    "math_df=pd.DataFrame(math_passer)\n",
    "x = len (math_df.index)\n",
    "math_pass_percentage = x / Thomas_total_students\n",
    "\n",
    "#Percent passing reading at Thomas\n",
    "#Looping to place a \"p\" in a list for each pass\n",
    "read_passer= []\n",
    "for row in Thomas_df['reading_score']:\n",
    "    if row >= 70:\n",
    "        read_passer.append('p')\n",
    "read_df=pd.DataFrame(read_passer)\n",
    "x = len (read_df.index)\n",
    "read_pass_percentage = x / Thomas_total_students\n",
    "\n",
    "passers=read_pass_percentage + math_pass_percentage\n",
    "combined_pass = passers / 2\n",
    "\n",
    "#----------------------\n",
    "#Thomas School Dataframe\n",
    "#---------------------\n",
    "Thomas_summary_table = pd.DataFrame({\"School Name\":Thomas_school_name,\n",
    "                             \"Type\":[Thomas_school_type],\n",
    "                             \"Total Students\":[Thomas_total_students],\n",
    "                             \"Budget\":[Thomas_budget],\n",
    "                             \"Budget Per Student\":[Thomas_budget_per_student],\n",
    "                             \"Average Math Score\":[Thomas_ave_math],\n",
    "                             \"Average Reading Score\":[Thomas_ave_read],\n",
    "                             \"% Passing Math\":[math_pass_percentage],\n",
    "                             \"% Passing Reading\":[read_pass_percentage],\n",
    "                              \"Overall Passing\":[combined_pass]})\n",
    "\n",
    "Thomas_summary_table = Thomas_summary_table[[\"School Name\",\"Type\",\"Total Students\",\"Budget\",\"Budget Per Student\",\"Average Math Score\",\"Average Reading Score\",\"% Passing Math\", \"% Passing Reading\", \"Overall Passing\"]]\n",
    "\n",
    "Thomas_summary_table.head()"
   ]
  },
  {
   "cell_type": "code",
   "execution_count": null,
   "metadata": {},
   "outputs": [],
   "source": [
    "#====================================\n",
    "#School Summary\n",
    "#====================================\n",
    "School_Final_Summary=pd.concat([pena_summary_table,Figueroa_summary_table,huang_summary_table,Shelton_summary_table,Cabrera_summary_table,Hernandez_summary_table,Bailey_summary_table,Holden_summary_table,Wright_summary_table,Johnson_summary_table,Ford_summary_table,Thomas_summary_table,Griffin_summary_table,Wilson_summary_table,Rodriguez_summary_table], axis=0)   \n",
    "School_Final_Summary = School_Final_Summary.sort_values(\"Overall Passing\", ascending=False)\n",
    "School_Final_Summary = School_Final_Summary.reset_index(drop=True)\n",
    "School_Final_Summary"
   ]
  },
  {
   "cell_type": "code",
   "execution_count": null,
   "metadata": {},
   "outputs": [],
   "source": [
    "#Top Schools by Passing Rate\n",
    "Top_Schools = School_Final_Summary.iloc[0:5,0:10]\n",
    "Top_Schools.head()"
   ]
  },
  {
   "cell_type": "code",
   "execution_count": null,
   "metadata": {},
   "outputs": [],
   "source": [
    "#-----------------------------------\n",
    "#Bottom Schools by Passing Rate\n",
    "#-----------------------------------\n",
    "Bottom_Schools = School_Final_Summary.iloc[10:15,0:10]\n",
    "Bottom_Schools.head()"
   ]
  },
  {
   "cell_type": "code",
   "execution_count": null,
   "metadata": {},
   "outputs": [],
   "source": [
    "#--------------------------------------\n",
    "#Working on scores per grade break down\n",
    "#-----------------------------------------\n",
    "#looking at the number of grades listed in the data set\n",
    "school_df['school'].unique"
   ]
  },
  {
   "cell_type": "code",
   "execution_count": null,
   "metadata": {},
   "outputs": [],
   "source": [
    "#Getting Math and Reading Averages by grade and placing them into a DF\n",
    "#Huang averages per grade\n",
    "huang_group=huang_df.groupby(['grade'], as_index=False).mean()[['grade','reading_score','math_score']]\n",
    "huang_group[\"school\"] = 'Huang High School'\n",
    "huang_group = huang_group [['school','grade','reading_score','math_score']]\n",
    "huang_group[\"school\"] = 'Huang High School'\n",
    "huang_group.head()"
   ]
  },
  {
   "cell_type": "code",
   "execution_count": null,
   "metadata": {},
   "outputs": [],
   "source": [
    "#Getting Math and Reading Averages by grade and placing them into a DF\n",
    "#Figueroa averages per grade\n",
    "Figueroa_group=Figueroa_df.groupby(['grade'], as_index=False).mean()[['grade','reading_score','math_score']]\n",
    "Figueroa_group[\"school\"] = 'Figueroa High School'\n",
    "Figueroa_group = Figueroa_group [['school','grade','reading_score','math_score']]\n",
    "Figueroa_group[\"school\"] = 'Figueroa High School'\n",
    "Figueroa_group.head()"
   ]
  },
  {
   "cell_type": "code",
   "execution_count": null,
   "metadata": {},
   "outputs": [],
   "source": [
    "#Getting Math and Reading Averages by grade and placing them into a DF\n",
    "#Shelton averages per grade\n",
    "Shelton_group=Shelton_df.groupby(['grade'], as_index=False).mean()[['grade','reading_score','math_score']]\n",
    "Shelton_group[\"school\"] = 'Shelton High School'\n",
    "Shelton_group = Shelton_group [['school','grade','reading_score','math_score']]\n",
    "Shelton_group[\"school\"] = 'Shelton High School'\n",
    "Shelton_group.head()"
   ]
  },
  {
   "cell_type": "code",
   "execution_count": null,
   "metadata": {},
   "outputs": [],
   "source": [
    "#Getting Math and Reading Averages by grade and placing them into a DF\n",
    "#Hernandez averages per grade\n",
    "Hernandez_group=Hernandez_df.groupby(['grade'], as_index=False).mean()[['grade','reading_score','math_score']]\n",
    "Hernandez_group[\"school\"] = 'Hernandez High School'\n",
    "Hernandez_group = Hernandez_group [['school','grade','reading_score','math_score']]\n",
    "Hernandez_group[\"school\"] = 'Hernandez High School'\n",
    "Hernandez_group.head()"
   ]
  },
  {
   "cell_type": "code",
   "execution_count": null,
   "metadata": {},
   "outputs": [],
   "source": [
    "#Getting Math and Reading Averages by grade and placing them into a DF\n",
    "#Griffin averages per grade\n",
    "Griffin_group=Griffin_df.groupby(['grade'], as_index=False).mean()[['grade','reading_score','math_score']]\n",
    "Griffin_group[\"school\"] = 'Griffin High School'\n",
    "Griffin_group = Griffin_group [['school','grade','reading_score','math_score']]\n",
    "Griffin_group[\"school\"] = 'Griffin High School'\n",
    "Griffin_group.head()"
   ]
  },
  {
   "cell_type": "code",
   "execution_count": null,
   "metadata": {},
   "outputs": [],
   "source": [
    "#Getting Math and Reading Averages by grade and placing them into a DF\n",
    "#Wilson averages per grade\n",
    "Wilson_group=Wilson_df.groupby(['grade'], as_index=False).mean()[['grade','reading_score','math_score']]\n",
    "Wilson_group[\"school\"] = 'Wilson High School'\n",
    "Wilson_group = Wilson_group [['school','grade','reading_score','math_score']]\n",
    "Wilson_group[\"school\"] = 'Wilson High School'\n",
    "Wilson_group.head()"
   ]
  },
  {
   "cell_type": "code",
   "execution_count": null,
   "metadata": {},
   "outputs": [],
   "source": [
    "#Getting Math and Reading Averages by grade and placing them into a DF\n",
    "#Cabrera averages per grade\n",
    "Cabrera_group=Cabrera_df.groupby(['grade'], as_index=False).mean()[['grade','reading_score','math_score']]\n",
    "Cabrera_group[\"school\"] = 'Cabrera High School'\n",
    "Cabrera_group = Cabrera_group [['school','grade','reading_score','math_score']]\n",
    "Cabrera_group[\"school\"] = 'Cabrera High School'\n",
    "Cabrera_group.head()\n"
   ]
  },
  {
   "cell_type": "code",
   "execution_count": null,
   "metadata": {},
   "outputs": [],
   "source": [
    "#Getting Math and Reading Averages by grade and placing them into a DF\n",
    "#Bailey averages per grade\n",
    "Bailey_group=Bailey_df.groupby(['grade'], as_index=False).mean()[['grade','reading_score','math_score']]\n",
    "Bailey_group[\"school\"] = 'Bailey High School'\n",
    "Bailey_group = Bailey_group [['school','grade','reading_score','math_score']]\n",
    "Bailey_group[\"school\"] = 'Bailey High School'\n",
    "Bailey_group.head()"
   ]
  },
  {
   "cell_type": "code",
   "execution_count": null,
   "metadata": {},
   "outputs": [],
   "source": [
    "#Getting Math and Reading Averages by grade and placing them into a DF\n",
    "#Holden averages per grade\n",
    "Holden_group=Holden_df.groupby(['grade'], as_index=False).mean()[['grade','reading_score','math_score']]\n",
    "Holden_group[\"school\"] = 'Holden High School'\n",
    "Holden_group = Holden_group [['school','grade','reading_score','math_score']]\n",
    "Holden_group[\"school\"] = 'Holden High School'\n",
    "Holden_group.head()"
   ]
  },
  {
   "cell_type": "code",
   "execution_count": null,
   "metadata": {},
   "outputs": [],
   "source": [
    "#Getting Math and Reading Averages by grade and placing them into a DF\n",
    "#Pena averages per grade\n",
    "Pena_group=pena_df.groupby(['grade'], as_index=False).mean()[['grade','reading_score','math_score']]\n",
    "Pena_group[\"school\"] = 'Pena High School'\n",
    "Pena_group = Pena_group [['school','grade','reading_score','math_score']]\n",
    "Pena_group[\"school\"] = 'Pena High School'\n",
    "Pena_group.head()"
   ]
  },
  {
   "cell_type": "code",
   "execution_count": null,
   "metadata": {},
   "outputs": [],
   "source": [
    "#Getting Math and Reading Averages by grade and placing them into a DF\n",
    "#Wright averages per grade\n",
    "Wright_group=Wright_df.groupby(['grade'], as_index=False).mean()[['grade','reading_score','math_score']]\n",
    "Wright_group[\"school\"] = 'Wright High School'\n",
    "Wright_group = Wright_group [['school','grade','reading_score','math_score']]\n",
    "Wright_group[\"school\"] = 'Wright High School'\n",
    "Wright_group.head()"
   ]
  },
  {
   "cell_type": "code",
   "execution_count": null,
   "metadata": {},
   "outputs": [],
   "source": [
    "#Getting Math and Reading Averages by grade and placing them into a DF\n",
    "#Rodriguez averages per grade\n",
    "Rodriguez_group=Rodriguez_df.groupby(['grade'], as_index=False).mean()[['grade','reading_score','math_score']]\n",
    "Rodriguez_group[\"school\"] = 'Rodriguez High School'\n",
    "Rodriguez_group = Rodriguez_group [['school','grade','reading_score','math_score']]\n",
    "Rodriguez_group[\"school\"] = 'Rodriguez High School'\n",
    "Rodriguez_group.head()"
   ]
  },
  {
   "cell_type": "code",
   "execution_count": null,
   "metadata": {},
   "outputs": [],
   "source": [
    "#Getting Math and Reading Averages by grade and placing them into a DF\n",
    "#Johnson averages per grade\n",
    "Johnson_group=Johnson_df.groupby(['grade'], as_index=False).mean()[['grade','reading_score','math_score']]\n",
    "Johnson_group[\"school\"] = 'Johnson High School'\n",
    "Johnson_group = Johnson_group [['school','grade','reading_score','math_score']]\n",
    "Johnson_group[\"school\"] = 'Johnson High School'\n",
    "Johnson_group.head()"
   ]
  },
  {
   "cell_type": "code",
   "execution_count": null,
   "metadata": {},
   "outputs": [],
   "source": [
    "#Getting Math and Reading Averages by grade and placing them into a DF\n",
    "#Ford averages per grade\n",
    "Ford_group=Ford_df.groupby(['grade'], as_index=False).mean()[['grade','reading_score','math_score']]\n",
    "Ford_group[\"school\"] = 'Ford High School'\n",
    "Ford_group = Ford_group [['school','grade','reading_score','math_score']]\n",
    "Ford_group[\"school\"] = 'Ford High School'\n",
    "Ford_group.head()"
   ]
  },
  {
   "cell_type": "code",
   "execution_count": null,
   "metadata": {},
   "outputs": [],
   "source": [
    "#Getting Math and Reading Averages by grade and placing them into a DF\n",
    "#Thomas averages per grade\n",
    "Thomas_group=Thomas_df.groupby(['grade'], as_index=False).mean()[['grade','reading_score','math_score']]\n",
    "Thomas_group[\"school\"] = 'Thomas High School'\n",
    "Thomas_group = Thomas_group [['school','grade','reading_score','math_score']]\n",
    "Thomas_group[\"school\"] = 'Thomas High School'\n",
    "Thomas_group.head()"
   ]
  },
  {
   "cell_type": "code",
   "execution_count": null,
   "metadata": {},
   "outputs": [],
   "source": [
    "#-----------------------------------------\n",
    "#Average scores by grade for each school\n",
    "#-----------------------------------------\n",
    "Grade_Summary=pd.concat([Pena_group,Figueroa_group,huang_group,Shelton_group,Cabrera_group,Hernandez_group,Bailey_group,Holden_group,Wright_group,Johnson_group,Ford_group,Thomas_group,Griffin_group,Wilson_group,Rodriguez_group], axis=0)   \n",
    "Grade_Summary.head(20)"
   ]
  },
  {
   "cell_type": "code",
   "execution_count": null,
   "metadata": {},
   "outputs": [],
   "source": [
    "#Scores by School Spending\n",
    "School_Final_Summary.head()"
   ]
  },
  {
   "cell_type": "code",
   "execution_count": null,
   "metadata": {},
   "outputs": [],
   "source": [
    "Budget_Breakdown = School_Final_Summary\n",
    "Budget_Breakdown.head(15)"
   ]
  },
  {
   "cell_type": "code",
   "execution_count": null,
   "metadata": {},
   "outputs": [],
   "source": [
    "#Creating Bins for school spending\n",
    "bins = [0,584,626,645,656]\n",
    "\n",
    "# Create the names for the four bins\n",
    "group_names = ['Low Budget', 'Mid Budget', 'Good Budget', 'Great Budget']\n",
    "\n",
    "#Assigning to column the bins will look at\n",
    "pd.cut(Budget_Breakdown[\"Budget Per Student\"], bins, labels=group_names)"
   ]
  },
  {
   "cell_type": "code",
   "execution_count": null,
   "metadata": {},
   "outputs": [],
   "source": [
    "#Placing the bins into a column of their own\n",
    "Budget_Breakdown[\"Budget Bin\"] = pd.cut(Budget_Breakdown[\"Budget Per Student\"], bins, labels=group_names)\n",
    "Budget_Breakdown.head(10)"
   ]
  },
  {
   "cell_type": "code",
   "execution_count": null,
   "metadata": {},
   "outputs": [],
   "source": [
    "#-=================================\n",
    "#Budget Breakdown\n",
    "#=================================\n",
    "Budget_Breakdown=Budget_Breakdown.groupby(['Budget Bin'], as_index=False).mean()[['Budget Bin','Average Math Score','Average Reading Score',\"% Passing Math\",\"% Passing Reading\",\"Overall Passing\"]]\n",
    "Budget_Breakdown.head()"
   ]
  },
  {
   "cell_type": "code",
   "execution_count": null,
   "metadata": {},
   "outputs": [],
   "source": [
    "Size_Breakdown = School_Final_Summary\n",
    "Size_Breakdown.head()"
   ]
  },
  {
   "cell_type": "code",
   "execution_count": null,
   "metadata": {},
   "outputs": [],
   "source": [
    "#Creating Bins for school spending\n",
    "bins = [0,1801,3001,5001]\n",
    "\n",
    "# Create the names for the four bins\n",
    "group_names = ['Small School', 'Medium School', 'Large School']\n",
    "\n",
    "#Assigning to column the bins will look at\n",
    "pd.cut(Size_Breakdown[\"Total Students\"], bins, labels=group_names)"
   ]
  },
  {
   "cell_type": "code",
   "execution_count": null,
   "metadata": {},
   "outputs": [],
   "source": [
    "#Placing the bins into a column of their own\n",
    "Size_Breakdown[\"Size Bin\"] = pd.cut(Size_Breakdown[\"Total Students\"], bins, labels=group_names)\n",
    "Size_Breakdown.head(10)"
   ]
  },
  {
   "cell_type": "code",
   "execution_count": null,
   "metadata": {},
   "outputs": [],
   "source": [
    "#-=================================\n",
    "#Budget Breakdown\n",
    "#groups by Size Column, then places in DF\n",
    "#=================================\n",
    "Size_Breakdown=Size_Breakdown.groupby(['Size Bin'], as_index=False).mean()[['Size Bin','Average Math Score','Average Reading Score',\"% Passing Math\",\"% Passing Reading\",\"Overall Passing\"]]\n",
    "Size_Breakdown.head()"
   ]
  },
  {
   "cell_type": "code",
   "execution_count": null,
   "metadata": {},
   "outputs": [],
   "source": [
    "#-=================================\n",
    "#Type Breakdown\n",
    "#=================================\n",
    "Type_Breakdown=School_Final_Summary.groupby(['Type'], as_index=False).mean()[['Type','Average Math Score','Average Reading Score',\"% Passing Math\",\"% Passing Reading\",\"Overall Passing\"]]\n",
    "Type_Breakdown.head()"
   ]
  },
  {
   "cell_type": "code",
   "execution_count": null,
   "metadata": {
    "collapsed": true
   },
   "outputs": [],
   "source": []
  }
 ],
 "metadata": {
  "kernelspec": {
   "display_name": "Python 3",
   "language": "python",
   "name": "python3"
  },
  "language_info": {
   "codemirror_mode": {
    "name": "ipython",
    "version": 3
   },
   "file_extension": ".py",
   "mimetype": "text/x-python",
   "name": "python",
   "nbconvert_exporter": "python",
   "pygments_lexer": "ipython3",
   "version": "3.6.3"
  }
 },
 "nbformat": 4,
 "nbformat_minor": 2
}
