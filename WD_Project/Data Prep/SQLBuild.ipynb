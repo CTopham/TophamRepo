{
 "cells": [
  {
   "cell_type": "code",
   "execution_count": 1,
   "metadata": {},
   "outputs": [],
   "source": [
    "!rm wd.sqlite\n",
    "#Normal Analytics Dependencies#Normal \n",
    "import matplotlib\n",
    "import pandas as pd\n",
    "import numpy as np\n",
    "matplotlib.use('nbagg')\n",
    "import matplotlib.pyplot as plt\n",
    "from matplotlib import style\n",
    "import datetime as dt\n",
    "from sqlalchemy.orm import Session\n",
    "style.use('seaborn')\n",
    "\n",
    "#ORM Dependencies\n",
    "import sqlalchemy\n",
    "from sqlalchemy import create_engine, MetaData\n",
    "from sqlalchemy import create_engine, Column, Integer, String, Float, inspect, MetaData\n",
    "from sqlalchemy.ext.declarative import declarative_base\n",
    "\n",
    "# Declaritive base for table schema creation\n",
    "Base = declarative_base()"
   ]
  },
  {
   "cell_type": "code",
   "execution_count": 2,
   "metadata": {},
   "outputs": [],
   "source": [
    "# Bringing in the cleaned CSV's\n",
    "wd_path = \"../Data/CleanedSet.xlsx\"\n",
    "\n",
    "#Reading data\n",
    "wd_df = pd.read_excel(wd_path, encoding=\"utf-8\")"
   ]
  },
  {
   "cell_type": "code",
   "execution_count": 3,
   "metadata": {},
   "outputs": [
    {
     "data": {
      "text/html": [
       "<div>\n",
       "<style scoped>\n",
       "    .dataframe tbody tr th:only-of-type {\n",
       "        vertical-align: middle;\n",
       "    }\n",
       "\n",
       "    .dataframe tbody tr th {\n",
       "        vertical-align: top;\n",
       "    }\n",
       "\n",
       "    .dataframe thead th {\n",
       "        text-align: right;\n",
       "    }\n",
       "</style>\n",
       "<table border=\"1\" class=\"dataframe\">\n",
       "  <thead>\n",
       "    <tr style=\"text-align: right;\">\n",
       "      <th></th>\n",
       "      <th>Type</th>\n",
       "      <th>Rating</th>\n",
       "      <th>Latitude</th>\n",
       "      <th>Longitude</th>\n",
       "      <th>Year</th>\n",
       "      <th>Magnitude</th>\n",
       "      <th>Mass</th>\n",
       "      <th>VEI</th>\n",
       "    </tr>\n",
       "  </thead>\n",
       "  <tbody>\n",
       "    <tr>\n",
       "      <th>0</th>\n",
       "      <td>Volcano</td>\n",
       "      <td>5</td>\n",
       "      <td>41.980</td>\n",
       "      <td>128.080</td>\n",
       "      <td>1000</td>\n",
       "      <td>NaN</td>\n",
       "      <td>NaN</td>\n",
       "      <td>7.0</td>\n",
       "    </tr>\n",
       "    <tr>\n",
       "      <th>1</th>\n",
       "      <td>Volcano</td>\n",
       "      <td>5</td>\n",
       "      <td>30.780</td>\n",
       "      <td>130.280</td>\n",
       "      <td>-4350</td>\n",
       "      <td>NaN</td>\n",
       "      <td>NaN</td>\n",
       "      <td>7.0</td>\n",
       "    </tr>\n",
       "    <tr>\n",
       "      <th>2</th>\n",
       "      <td>Volcano</td>\n",
       "      <td>5</td>\n",
       "      <td>-8.250</td>\n",
       "      <td>118.000</td>\n",
       "      <td>1815</td>\n",
       "      <td>NaN</td>\n",
       "      <td>NaN</td>\n",
       "      <td>7.0</td>\n",
       "    </tr>\n",
       "    <tr>\n",
       "      <th>3</th>\n",
       "      <td>Volcano</td>\n",
       "      <td>5</td>\n",
       "      <td>-30.200</td>\n",
       "      <td>-178.470</td>\n",
       "      <td>-4360</td>\n",
       "      <td>NaN</td>\n",
       "      <td>NaN</td>\n",
       "      <td>6.0</td>\n",
       "    </tr>\n",
       "    <tr>\n",
       "      <th>4</th>\n",
       "      <td>Volcano</td>\n",
       "      <td>5</td>\n",
       "      <td>-4.271</td>\n",
       "      <td>152.203</td>\n",
       "      <td>540</td>\n",
       "      <td>NaN</td>\n",
       "      <td>NaN</td>\n",
       "      <td>6.0</td>\n",
       "    </tr>\n",
       "  </tbody>\n",
       "</table>\n",
       "</div>"
      ],
      "text/plain": [
       "      Type  Rating  Latitude  Longitude   Year  Magnitude  Mass  VEI\n",
       "0  Volcano       5    41.980    128.080   1000        NaN   NaN  7.0\n",
       "1  Volcano       5    30.780    130.280  -4350        NaN   NaN  7.0\n",
       "2  Volcano       5    -8.250    118.000   1815        NaN   NaN  7.0\n",
       "3  Volcano       5   -30.200   -178.470  -4360        NaN   NaN  6.0\n",
       "4  Volcano       5    -4.271    152.203    540        NaN   NaN  6.0"
      ]
     },
     "execution_count": 3,
     "metadata": {},
     "output_type": "execute_result"
    }
   ],
   "source": [
    "wd_df.head()"
   ]
  },
  {
   "cell_type": "code",
   "execution_count": 4,
   "metadata": {
    "scrolled": true
   },
   "outputs": [],
   "source": [
    "wd_df = wd_df[pd.notnull(wd_df['Year'])]"
   ]
  },
  {
   "cell_type": "code",
   "execution_count": 5,
   "metadata": {},
   "outputs": [
    {
     "data": {
      "text/html": [
       "<div>\n",
       "<style scoped>\n",
       "    .dataframe tbody tr th:only-of-type {\n",
       "        vertical-align: middle;\n",
       "    }\n",
       "\n",
       "    .dataframe tbody tr th {\n",
       "        vertical-align: top;\n",
       "    }\n",
       "\n",
       "    .dataframe thead th {\n",
       "        text-align: right;\n",
       "    }\n",
       "</style>\n",
       "<table border=\"1\" class=\"dataframe\">\n",
       "  <thead>\n",
       "    <tr style=\"text-align: right;\">\n",
       "      <th></th>\n",
       "      <th>Type</th>\n",
       "      <th>Rating</th>\n",
       "      <th>Latitude</th>\n",
       "      <th>Longitude</th>\n",
       "      <th>Year</th>\n",
       "      <th>Magnitude</th>\n",
       "      <th>Mass</th>\n",
       "      <th>VEI</th>\n",
       "    </tr>\n",
       "  </thead>\n",
       "  <tbody>\n",
       "    <tr>\n",
       "      <th>11599</th>\n",
       "      <td>Earthquake</td>\n",
       "      <td>1</td>\n",
       "      <td>36.344</td>\n",
       "      <td>142.344</td>\n",
       "      <td>520Z</td>\n",
       "      <td>5.8</td>\n",
       "      <td>NaN</td>\n",
       "      <td>NaN</td>\n",
       "    </tr>\n",
       "    <tr>\n",
       "      <th>17320</th>\n",
       "      <td>Earthquake</td>\n",
       "      <td>1</td>\n",
       "      <td>8.017</td>\n",
       "      <td>124.075</td>\n",
       "      <td>000Z</td>\n",
       "      <td>5.6</td>\n",
       "      <td>NaN</td>\n",
       "      <td>NaN</td>\n",
       "    </tr>\n",
       "    <tr>\n",
       "      <th>19315</th>\n",
       "      <td>Earthquake</td>\n",
       "      <td>1</td>\n",
       "      <td>-32.998</td>\n",
       "      <td>-71.766</td>\n",
       "      <td>530Z</td>\n",
       "      <td>5.6</td>\n",
       "      <td>NaN</td>\n",
       "      <td>NaN</td>\n",
       "    </tr>\n",
       "  </tbody>\n",
       "</table>\n",
       "</div>"
      ],
      "text/plain": [
       "             Type  Rating  Latitude  Longitude  Year  Magnitude  Mass  VEI\n",
       "11599  Earthquake       1    36.344    142.344  520Z        5.8   NaN  NaN\n",
       "17320  Earthquake       1     8.017    124.075  000Z        5.6   NaN  NaN\n",
       "19315  Earthquake       1   -32.998    -71.766  530Z        5.6   NaN  NaN"
      ]
     },
     "execution_count": 5,
     "metadata": {},
     "output_type": "execute_result"
    }
   ],
   "source": [
    "df = wd_df[wd_df.Year.str.contains(\"Z\") == True]\n",
    "df.head()"
   ]
  },
  {
   "cell_type": "code",
   "execution_count": 6,
   "metadata": {},
   "outputs": [],
   "source": [
    "wd_df = wd_df.drop([11599,17320,19315])"
   ]
  },
  {
   "cell_type": "code",
   "execution_count": 7,
   "metadata": {
    "scrolled": false
   },
   "outputs": [
    {
     "data": {
      "text/plain": [
       "0        1000.0\n",
       "1       -4350.0\n",
       "2        1815.0\n",
       "3       -4360.0\n",
       "4         540.0\n",
       "5        1280.0\n",
       "6          60.0\n",
       "7        1580.0\n",
       "8         230.0\n",
       "9         240.0\n",
       "10        450.0\n",
       "11       1452.0\n",
       "12        -50.0\n",
       "13        710.0\n",
       "14       1600.0\n",
       "15        800.0\n",
       "16        800.0\n",
       "17        930.0\n",
       "18       1660.0\n",
       "19       1912.0\n",
       "20         50.0\n",
       "21       -100.0\n",
       "22      -1860.0\n",
       "23      -4050.0\n",
       "24      -4000.0\n",
       "25      -3580.0\n",
       "26      -3550.0\n",
       "27       1883.0\n",
       "28      -2040.0\n",
       "29       1902.0\n",
       "          ...  \n",
       "69917    2000.0\n",
       "69918    1998.0\n",
       "69919    1994.0\n",
       "69920    1998.0\n",
       "69921    2000.0\n",
       "69922    2000.0\n",
       "69923    1998.0\n",
       "69924    1996.0\n",
       "69925    1996.0\n",
       "69926    1998.0\n",
       "69927    1999.0\n",
       "69928    2000.0\n",
       "69929    2000.0\n",
       "69930    1996.0\n",
       "69931    2000.0\n",
       "69932    2002.0\n",
       "69933    2002.0\n",
       "69934    2002.0\n",
       "69935    2002.0\n",
       "69936    2002.0\n",
       "69937    1966.0\n",
       "69938    1980.0\n",
       "69939    1968.0\n",
       "69940    1964.0\n",
       "69941    2501.0\n",
       "69942    1931.0\n",
       "69943    1931.0\n",
       "69944    1978.0\n",
       "69945    1979.0\n",
       "69946    1930.0\n",
       "Name: Year, Length: 69655, dtype: float64"
      ]
     },
     "execution_count": 7,
     "metadata": {},
     "output_type": "execute_result"
    }
   ],
   "source": [
    "wd_df['Year'].astype(float)"
   ]
  },
  {
   "cell_type": "code",
   "execution_count": 8,
   "metadata": {},
   "outputs": [],
   "source": [
    "engine = create_engine(\"sqlite:///wd.sqlite\")\n",
    "conn = engine.connect()"
   ]
  },
  {
   "cell_type": "code",
   "execution_count": 9,
   "metadata": {},
   "outputs": [],
   "source": [
    "class Measurement(Base):\n",
    "    __tablename__ = \"wd\"\n",
    "    \n",
    "    index= Column(Integer, primary_key=True)\n",
    "    Type = Column(String)\n",
    "    Rating = Column(Integer) \n",
    "    Latitude = Column(Float) \n",
    "    Longitude = Column(Float)\n",
    "    Year = Column(Float)\n",
    "    Magnitude = Column(Float)\n",
    "    Mass = Column(Float)\n",
    "    VEI = Column(Integer)"
   ]
  },
  {
   "cell_type": "code",
   "execution_count": 10,
   "metadata": {},
   "outputs": [],
   "source": [
    "Base.metadata.create_all(engine)\n",
    "session = Session(bind=engine)"
   ]
  },
  {
   "cell_type": "code",
   "execution_count": 11,
   "metadata": {},
   "outputs": [],
   "source": [
    "metadata = MetaData(bind=engine)\n",
    "metadata.reflect()"
   ]
  },
  {
   "cell_type": "code",
   "execution_count": 12,
   "metadata": {},
   "outputs": [
    {
     "data": {
      "text/plain": [
       "{'Latitude': 41.98,\n",
       " 'Longitude': 128.08,\n",
       " 'Magnitude': nan,\n",
       " 'Mass': nan,\n",
       " 'Rating': 5,\n",
       " 'Type': 'Volcano',\n",
       " 'VEI': 7.0,\n",
       " 'Year': 1000}"
      ]
     },
     "execution_count": 12,
     "metadata": {},
     "output_type": "execute_result"
    }
   ],
   "source": [
    "data_wd = wd_df.to_dict(orient='records')\n",
    "data_wd[0]"
   ]
  },
  {
   "cell_type": "code",
   "execution_count": 13,
   "metadata": {},
   "outputs": [],
   "source": [
    "Measure = sqlalchemy.Table('wd', metadata, autoload=True)"
   ]
  },
  {
   "cell_type": "code",
   "execution_count": 14,
   "metadata": {},
   "outputs": [
    {
     "data": {
      "text/plain": [
       "<sqlalchemy.engine.result.ResultProxy at 0x25e6d468668>"
      ]
     },
     "execution_count": 14,
     "metadata": {},
     "output_type": "execute_result"
    }
   ],
   "source": [
    "conn.execute(Measure.insert(), data_wd)"
   ]
  },
  {
   "cell_type": "code",
   "execution_count": 15,
   "metadata": {},
   "outputs": [
    {
     "data": {
      "text/plain": [
       "[(1, 'Volcano', 5, 41.98, 128.08, 1000.0, None, None, 7),\n",
       " (2, 'Volcano', 5, 30.78, 130.28, -4350.0, None, None, 7),\n",
       " (3, 'Volcano', 5, -8.25, 118.0, 1815.0, None, None, 7),\n",
       " (4, 'Volcano', 5, -30.2, -178.47, -4360.0, None, None, 6),\n",
       " (5, 'Volcano', 5, -4.271, 152.203, 540.0, None, None, 6)]"
      ]
     },
     "execution_count": 15,
     "metadata": {},
     "output_type": "execute_result"
    }
   ],
   "source": [
    "conn.execute(\"select * from wd limit 5\").fetchall()"
   ]
  },
  {
   "cell_type": "code",
   "execution_count": null,
   "metadata": {},
   "outputs": [],
   "source": []
  }
 ],
 "metadata": {
  "kernelspec": {
   "display_name": "Python 3",
   "language": "python",
   "name": "python3"
  },
  "language_info": {
   "codemirror_mode": {
    "name": "ipython",
    "version": 3
   },
   "file_extension": ".py",
   "mimetype": "text/x-python",
   "name": "python",
   "nbconvert_exporter": "python",
   "pygments_lexer": "ipython3",
   "version": "3.6.4"
  }
 },
 "nbformat": 4,
 "nbformat_minor": 2
}
