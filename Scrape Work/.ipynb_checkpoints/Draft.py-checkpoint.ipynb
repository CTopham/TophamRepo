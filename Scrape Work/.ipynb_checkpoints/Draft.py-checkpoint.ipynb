{
 "cells": [
  {
   "cell_type": "code",
   "execution_count": 2,
   "metadata": {},
   "outputs": [],
   "source": [
    "import time\n",
    "from splinter import Browser\n",
    "from bs4 import BeautifulSoup\n",
    "from selenium import webdriver\n",
    "import pandas as pd\n",
    "import numpy as np\n"
   ]
  },
  {
   "cell_type": "code",
   "execution_count": 3,
   "metadata": {},
   "outputs": [],
   "source": [
    "def init_browser():\n",
    "    executable_path = {'executable_path': r'C:\\Users\\Craig\\Desktop\\chromedriver.exe'}\n",
    "    return Browser(\"chrome\", **executable_path, headless=False)\n"
   ]
  },
  {
   "cell_type": "code",
   "execution_count": null,
   "metadata": {},
   "outputs": [],
   "source": [
    "#url = \"https://mars.nasa.gov/news/?page=0&per_page=40&order=publish_date+desc%2Ccreated_at+desc&search=&category=19%2C165%2C184%2C204&blank_scope=Latest\"\n",
    "#browser.visit(url)\n",
    "\n",
    "#xpath = '//div[contains(concat(' ', normalize-space(@class), ' '), ' content_title ')'\n",
    "\n",
    "#results = browser.find_by_xpath(xpath)\n",
    "#img = results[0]\n",
    "#img.click()"
   ]
  },
  {
   "cell_type": "code",
   "execution_count": 14,
   "metadata": {},
   "outputs": [],
   "source": [
    "#def scrape():\n",
    "#    browser = init_browser()\n",
    "#    listings = {}\n",
    "#Setting url to website\n",
    "#    url = \"https://mars.nasa.gov/news/?page=0&per_page=40&order=publish_date+desc%2Ccreated_at+desc&search=&category=19%2C165%2C184%2C204&blank_scope=Latest\"\n",
    "#    browser.visit(url)\n",
    "#    time.sleep(2)\n",
    "#grabbing html\n",
    "#    html = browser.html\n",
    "#    soup = BeautifulSoup(html, \"html.parser\")\n",
    "#Grabbing title and paragraph text\n",
    "#    listings[\"News Title\"] = soup.find(\"a\", class_=\"content_title\").get_text()\n",
    "    \n",
    "#    xpath = '//*[contains(@class, content_title)]'\n",
    "#    results = browser.find_by_xpath(xpath)\n",
    "#    img = results[0]\n",
    "#    img.click()\n",
    "    \n",
    "    \n",
    "    \n",
    "    #listings[\"News P\"] = soup.find(\"span\", class_=\"result-price\").get_text()\n",
    "\n",
    "#    return listings\n"
   ]
  },
  {
   "cell_type": "code",
   "execution_count": 24,
   "metadata": {},
   "outputs": [],
   "source": [
    "browser = init_browser()\n",
    "listings = {}\n",
    "#Setting url to website\n",
    "url = \"https://mars.nasa.gov/news/?page=0&per_page=40&order=publish_date+desc%2Ccreated_at+desc&search=&category=19%2C165%2C184%2C204&blank_scope=Latest\"\n",
    "browser.visit(url)\n",
    "time.sleep(2)\n",
    "#grabbing html\n",
    "html = browser.html\n",
    "soup = BeautifulSoup(html, \"html.parser\")\n",
    "#Grabbing title and paragraph text\n",
    "try:\n",
    "    listings[\"News Title\"] = soup.find(class_=\"content_title\").get_text()\n",
    "except AttributeError:\n",
    "        print (\"Error found\")\n",
    "    \n",
    "\n"
   ]
  },
  {
   "cell_type": "code",
   "execution_count": 37,
   "metadata": {},
   "outputs": [],
   "source": [
    "browser = init_browser()\n",
    "listings = {}\n",
    "#Setting url to website\n",
    "url = \"https://mars.nasa.gov/news/?page=0&per_page=40&order=publish_date+desc%2Ccreated_at+desc&search=&category=19%2C165%2C184%2C204&blank_scope=Latest\"\n",
    "browser.visit(url)\n",
    "time.sleep(2)\n",
    "#grabbing html\n",
    "html = browser.html\n",
    "soup = BeautifulSoup(html, \"html.parser\")\n",
    "#Grabbing title and paragraph text\n",
    "try:\n",
    "    listings[\"News Title\"] = soup.find(class_=\"content_title\").get_text()\n",
    "    xpath = '//*[contains(@class, \"list_image\")]'\n",
    "    results = browser.find_by_xpath(xpath)\n",
    "    img = results[0]\n",
    "    img.click()\n",
    "    html = browser.html\n",
    "    soup = BeautifulSoup(html, \"html.parser\")\n",
    "    #opening new window with [paragraph]\n",
    "    html = browser.html\n",
    "    soup = BeautifulSoup(html, \"html.parser\")\n",
    "    listings[\"News p\"] = soup.find(class_=\"wysiwyg_content\").get_text()\n",
    "except AttributeError:\n",
    "        print (\"Error found\")"
   ]
  },
  {
   "cell_type": "code",
   "execution_count": 35,
   "metadata": {},
   "outputs": [],
   "source": [
    "browser = init_browser()\n",
    "listings = {}\n",
    "#Setting url to website\n",
    "url = \"https://mars.nasa.gov/news/?page=0&per_page=40&order=publish_date+desc%2Ccreated_at+desc&search=&category=19%2C165%2C184%2C204&blank_scope=Latest\"\n",
    "browser.visit(url)\n",
    "time.sleep(2)\n",
    "#grabbing html\n",
    "xpath = '//*[contains(@class, \"list_image\")]'\n",
    "results = browser.find_by_xpath(xpath)\n",
    "img = results[0]\n",
    "img.click()\n",
    "#opening new window with [paragraph]\n",
    "html = browser.html\n",
    "soup = BeautifulSoup(html, \"html.parser\")\n",
    "#Grabbing title and paragraph text\n",
    "try:\n",
    "    listings[\"News p\"] = soup.find(class_=\"wysiwyg_content\").get_text()\n",
    "except AttributeError:\n",
    "        print (\"Error found\")\n",
    "    \n"
   ]
  },
  {
   "cell_type": "code",
   "execution_count": 38,
   "metadata": {},
   "outputs": [
    {
     "data": {
      "text/plain": [
       "{'News Title': \"NASA's First Deep-Space CubeSats Say: ‘Polo!’\",\n",
       " 'News p': '\\nNASA has received radio signals indicating that the first-ever CubeSats headed to deep space are alive and well. The first signal was received at 12:15 p.m. PST (3:15 p.m. EST) today; the second at 1:58 p.m. PST (4:58 p.m. EST). Engineers will now be performing a series of checks before both CubeSats enter their cruise to deep space.\\nMars Cube One, or MarCO, is a pair of briefcase-sized spacecraft that launched along with NASA\\'s InSight Mars lander at 4:05 a.m. PDT (7:05 a.m. EDT) today from Vandenberg Air Force Base in Central California. InSight is a scientific mission that will probe the Red Planet\\'s deep interior for the first time; the name stands for Interior Exploration using Seismic Investigations, Geodesy and Heat Transport.\\nThe twin MarCO CubeSats are on their own separate mission: rather than collecting science, they will follow the InSight lander on its cruise to Mars, testing out miniature spacecraft technology along the way.\\nBoth were programmed to unfold their solar panels soon after launch, followed by several opportunities to radio back their health.\\n\"Both MarCO-A and B say \\'Polo!\\' It\\'s a sign that the little sats are alive and well,\" said Andy Klesh, chief engineer for the MarCO mission at NASA\\'s Jet Propulsion Laboratory in Pasadena, California, which built the twin spacecraft.\\nThe computers inside each MarCO CubeSat haven\\'t been turned on since being tested at California Polytechnic State University, San Luis Obispo, in mid-March, where they were prepared for launch by Tyvak Nano-Satellite Systems of Irvine, California. Each spacecraft had to do a lot of things right by itself for the team to hear a signal: batteries had to retain enough charge for the spacecraft to deploy their solar arrays, stabilize their attitude, turn toward the Sun and turn on their radios.\\nA couple of weeks will be spent assessing how the MarCO CubeSats are performing. If they survive the radiation of space and function as planned, they\\'ll fly over the Red Planet during InSight\\'s entry, descent and landing in November. They each have a special antenna to relay InSight\\'s vital signs during the infamous \"Seven Minutes of Terror,\" the crucial phase which has claimed the majority of humanity\\'s probes sent to land on the Red Planet.\\nCubeSats are a kind of boxy satellite invented to teach engineering students how to build spacecraft. Today, they offer access to space for private companies and research institutions. They\\'re just one kind of \"SmallSat,\" which includes a broad range organized by weight class. CubeSats are generally under 33 pounds (15 kilograms), and can weigh as little as about five pounds (2.5 kilograms). They\\'re distinctively modular, which makes it easier to buy \"plug-in\" parts rather than custom-design every part of the spacecraft.\\nNASA is taking the opportunity to test several experimental systems with MarCO. Their radios, folding high-gain antennas, attitude control and propulsion systems are all included to prove new technologies in deep space.\\n\"We\\'re nervous but excited,\" said Joel Krajewski of JPL, MarCO\\'s project manager. \"A lot of work went into designing and testing these components so that they could survive the trip to Mars and relay data during InSight’s landing. But our broader goal is to learn more about how to adapt CubeSat technologies for future deep-space missions.\"\\nWhen InSight arrives on Mars in November, it won\\'t rely on MarCO for sending landing data back to Earth. That job will go to NASA\\'s Mars Reconnaissance Orbiter, as well as several Earth-based astronomy telescopes. But the MarCO mission could help prove the potential for CubeSats as a kind of bring-your-own \"black box\" for future NASA missions.\\nMarCO was built by JPL, which manages InSight and MarCO for NASA. It was funded by both JPL and NASA\\'s Science Mission Directorate. A number of commercial suppliers provided unique technologies for MarCO. A full list, along with more information about the spacecraft, can be found here.\\nAndrew Good\\nJet Propulsion Laboratory, Pasadena, Calif.\\n818-393-2433\\nandrew.c.good@jpl.nasa.gov\\nJoAnna Wendel\\nHeadquarters, Washington\\n202-358-1003\\njoanna.r.wendel@nasa.gov\\n'}"
      ]
     },
     "execution_count": 38,
     "metadata": {},
     "output_type": "execute_result"
    }
   ],
   "source": [
    "listings"
   ]
  },
  {
   "cell_type": "code",
   "execution_count": 31,
   "metadata": {},
   "outputs": [
    {
     "ename": "AttributeError",
     "evalue": "'str' object has no attribute 'get_text'",
     "output_type": "error",
     "traceback": [
      "\u001b[1;31m---------------------------------------------------------------------------\u001b[0m",
      "\u001b[1;31mAttributeError\u001b[0m                            Traceback (most recent call last)",
      "\u001b[1;32m<ipython-input-31-68ac3e7b9862>\u001b[0m in \u001b[0;36m<module>\u001b[1;34m()\u001b[0m\n\u001b[0;32m      1\u001b[0m \u001b[0mfinal_report\u001b[0m \u001b[1;33m=\u001b[0m \u001b[1;34m\"\"\u001b[0m\u001b[1;33m\u001b[0m\u001b[0m\n\u001b[0;32m      2\u001b[0m \u001b[1;32mfor\u001b[0m \u001b[0mx\u001b[0m \u001b[1;32min\u001b[0m \u001b[0mlistings\u001b[0m\u001b[1;33m:\u001b[0m\u001b[1;33m\u001b[0m\u001b[0m\n\u001b[1;32m----> 3\u001b[1;33m     \u001b[0mfinal_report\u001b[0m \u001b[1;33m+=\u001b[0m \u001b[1;34m\" \"\u001b[0m \u001b[1;33m+\u001b[0m \u001b[0mx\u001b[0m\u001b[1;33m.\u001b[0m\u001b[0mget_text\u001b[0m\u001b[1;33m(\u001b[0m\u001b[1;33m)\u001b[0m\u001b[1;33m\u001b[0m\u001b[0m\n\u001b[0m\u001b[0;32m      4\u001b[0m     \u001b[0mprint\u001b[0m\u001b[1;33m(\u001b[0m\u001b[0mfinal_report\u001b[0m\u001b[1;33m)\u001b[0m\u001b[1;33m\u001b[0m\u001b[0m\n",
      "\u001b[1;31mAttributeError\u001b[0m: 'str' object has no attribute 'get_text'"
     ]
    }
   ],
   "source": [
    "final_report = \"\"\n",
    "for x in listings:\n",
    "    final_report += \" \" + x.get_text()\n",
    "    print(final_report)"
   ]
  },
  {
   "cell_type": "code",
   "execution_count": null,
   "metadata": {},
   "outputs": [],
   "source": []
  }
 ],
 "metadata": {
  "kernelspec": {
   "display_name": "Python 3",
   "language": "python",
   "name": "python3"
  },
  "language_info": {
   "codemirror_mode": {
    "name": "ipython",
    "version": 3
   },
   "file_extension": ".py",
   "mimetype": "text/x-python",
   "name": "python",
   "nbconvert_exporter": "python",
   "pygments_lexer": "ipython3",
   "version": "3.6.4"
  }
 },
 "nbformat": 4,
 "nbformat_minor": 2
}
