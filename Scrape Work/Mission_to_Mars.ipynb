{
 "cells": [
  {
   "cell_type": "code",
   "execution_count": 1,
   "metadata": {},
   "outputs": [],
   "source": [
    "#Importing dependencies\n",
    "import time\n",
    "from splinter import Browser\n",
    "from bs4 import BeautifulSoup\n",
    "from selenium import webdriver\n",
    "import pandas as pd\n",
    "import numpy as np\n"
   ]
  },
  {
   "cell_type": "code",
   "execution_count": 2,
   "metadata": {},
   "outputs": [],
   "source": [
    "#Executing Chrome Driver for auto navigation to click links\n",
    "def init_browser():\n",
    "    executable_path = {'executable_path': r'C:\\Users\\Craig\\Desktop\\chromedriver.exe'}\n",
    "    return Browser(\"chrome\", **executable_path, headless=False)"
   ]
  },
  {
   "cell_type": "code",
   "execution_count": 3,
   "metadata": {},
   "outputs": [],
   "source": [
    "#Looping through Nasa website and grabbing the latest title and news\n",
    "browser = init_browser()\n",
    "listings = {}\n",
    "#Setting url to website\n",
    "url = \"https://mars.nasa.gov/news/?page=0&per_page=40&order=publish_date+desc%2Ccreated_at+desc&search=&category=19%2C165%2C184%2C204&blank_scope=Latest\"\n",
    "browser.visit(url)\n",
    "time.sleep(2)\n",
    "#grabbing html\n",
    "html = browser.html\n",
    "soup = BeautifulSoup(html, \"html.parser\")\n",
    "#Grabbing title and paragraph text\n",
    "try:\n",
    "    listings[\"News Title\"] = soup.find(class_=\"content_title\").get_text()\n",
    "    xpath = '//*[contains(@class, \"list_image\")]'\n",
    "    results = browser.find_by_xpath(xpath)\n",
    "    img = results[0]\n",
    "    img.click()\n",
    "    html = browser.html\n",
    "    soup = BeautifulSoup(html, \"html.parser\")\n",
    "    #opening new window with [paragraph]\n",
    "    html = browser.html\n",
    "    soup = BeautifulSoup(html, \"html.parser\")\n",
    "    listings[\"News p\"] = soup.find(class_=\"wysiwyg_content\").get_text()\n",
    "except AttributeError:\n",
    "        print (\"Error found\")"
   ]
  },
  {
   "cell_type": "code",
   "execution_count": 4,
   "metadata": {},
   "outputs": [
    {
     "data": {
      "text/plain": [
       "{'News Title': 'Mars Helicopter to Fly on NASA’s Next Red Planet Rover Mission',\n",
       " 'News p': \"\\n\\n\\n\\nNASA is sending a helicopter to Mars.\\nThe Mars Helicopter, a small, autonomous rotorcraft, will travel with the agency’s Mars 2020 rover mission, currently scheduled to launch in July 2020, to demonstrate the viability and potential of heavier-than-air vehicles on the Red Planet. \\n“NASA has a proud history of firsts,” said NASA Administrator Jim Bridenstine. “The idea of a helicopter flying the skies of another planet is thrilling. The Mars Helicopter holds much promise for our future science, discovery, and exploration missions to Mars.”\\nU.S. Rep. John Culberson of Texas echoed Bridenstine’s appreciation of the impact of American firsts on the future of exploration and discovery.\\n“It’s fitting that the United States of America is the first nation in history to fly the first heavier-than-air craft on another world,” Culberson said. “This exciting and visionary achievement will inspire young people all over the United States to become scientists and engineers, paving the way for even greater discoveries in the future.”\\nStarted in August 2013 as a technology development project at NASA’s Jet Propulsion Laboratory, the Mars Helicopter had to prove that big things could come in small packages. The result of the team’s four years of design, testing and redesign weighs in at little under four pounds (1.8 kilograms). Its fuselage is about the size of a softball, and its twin, counter-rotating blades will bite into the thin Martian atmosphere at almost 3,000 rpm -- about 10 times the rate of a helicopter on Earth.\\n“Exploring the Red Planet with NASA’s Mars Helicopter exemplifies a successful marriage of science and technology innovation and is a unique opportunity to advance Mars exploration for the future,” said Thomas Zurbuchen, Associate Administrator for NASA's Science Mission Directorate at the agency headquarters in Washington. “After the Wright Brothers proved 117 years ago that powered, sustained, and controlled flight was possible here on Earth, another group of American pioneers may prove the same can be done on another world.”\\nThe helicopter also contains built-in capabilities needed for operation at Mars, including solar cells to charge its lithium-ion batteries, and a heating mechanism to keep it warm through the cold Martian nights. But before the helicopter can fly at Mars it has to get there. It will do so attached to the belly pan of the Mars 2020 rover.\\n“The altitude record for a helicopter flying here on Earth is about 40,000 feet. The atmosphere of Mars is only one percent that of Earth, so when our helicopter is on the Martian surface, it’s already at the Earth equivalent of 100,000 feet up,” said Mimi Aung, Mars Helicopter project manager at JPL. “To make it fly at that low atmospheric density, we had to scrutinize everything, make it as light as possible while being as strong and as powerful as it can possibly be.”\\nOnce the rover is on the planet’s surface, a suitable location will be found to deploy the helicopter down from the vehicle and place it onto the ground. The rover then will be driven away from the helicopter to a safe distance from which it will relay commands. After its batteries are charged and a myriad of tests are performed, controllers on Earth will command the Mars Helicopter to take its first autonomous flight into history.\\n“We don’t have a pilot and Earth will be several light minutes away, so there is no way to joystick this mission in real time,” said Aung. “Instead, we have an autonomous capability that will be able to receive and interpret commands from the ground, and then fly the mission on its own.”\\nThe full 30-day flight test campaign will include up to five flights of incrementally farther flight distances, up to a few hundred meters, and longer durations as long as 90 seconds, over a period. On its first flight, the helicopter will make a short vertical climb to 10 feet (3 meters), where it will hover for about 30 seconds.\\nAs a technology demonstration, the Mars Helicopter is considered a high-risk, high-reward project. If it does not work, the Mars 2020 mission will not be impacted. If it does work, helicopters may have a real future as low-flying scouts and aerial vehicles to access locations not reachable by ground travel.\\n“The ability to see clearly what lies beyond the next hill is crucial for future explorers,” said Zurbuchen. “We already have great views of Mars from the surface as well as from orbit. With the added dimension of a bird’s-eye view from a ‘marscopter,’ we can only imagine what future missions will achieve.”\\nMars 2020 will launch on a United Launch Alliance (ULA) Atlas V rocket from Space Launch Complex 41 at Cape Canaveral Air Force Station in Florida, and is expected to reach Mars in February 2021.\\nThe rover will conduct geological assessments of its landing site on Mars, determine the habitability of the environment, search for signs of ancient Martian life, and assess natural resources and hazards for future human explorers. Scientists will use the instruments aboard the rover to identify and collect samples of rock and soil, encase them in sealed tubes, and leave them on the planet’s surface for potential return to Earth on a future Mars mission.\\nThe Mars 2020 Project at JPL in Pasadena, California, manages rover development for the Science Mission Directorate at NASA Headquarters in Washington. NASA’s Launch Services Program, based at the agency’s Kennedy Space Center in Florida, is responsible for launch management.\\nFor more information about NASA’s Mars missions, go to:\\nhttps://www.nasa.gov/mars\\nNews Media Contacts:\\nDC Agle\\nJet Propulsion Laboratory, Pasadena, Calif.\\n818-393-9011\\nagle@jpl.nasa.gov\\nDwayne Brown / JoAnna Wendel\\nNASA Headquarters, Washington\\n202-358-1726 / 202-358-1003\\ndwayne.c.brown@nasa.gov / joanna.r.wendel@nasa.gov\\n\"}"
      ]
     },
     "execution_count": 4,
     "metadata": {},
     "output_type": "execute_result"
    }
   ],
   "source": [
    "listings"
   ]
  },
  {
   "cell_type": "code",
   "execution_count": 31,
   "metadata": {},
   "outputs": [],
   "source": [
    "browser = init_browser()\n",
    "featured_image_url = []\n",
    "url = \"https://www.jpl.nasa.gov/spaceimages/?search=&category=Mars\"\n",
    "browser.visit(url)\n",
    "time.sleep(2)\n",
    "html = browser.html\n",
    "soup = BeautifulSoup(html, \"html.parser\")\n",
    "try: \n",
    "    xpath = '//*[contains(@class, \"button fancybox\")]'\n",
    "    results = browser.find_by_xpath(xpath)\n",
    "    img = results[0]\n",
    "    img.click()\n",
    "    time.sleep(2)\n",
    "    html = browser.html\n",
    "    soup = BeautifulSoup(html, \"html.parser\")\n",
    "    elem = soup.find(id=\"fancybox-lock\")\n",
    "    img_src = elem.find(\"img\")[\"src\"]\n",
    "\n",
    "except AttributeError:\n",
    "        print (\"Error found\")"
   ]
  },
  {
   "cell_type": "code",
   "execution_count": 33,
   "metadata": {},
   "outputs": [
    {
     "data": {
      "text/plain": [
       "'/spaceimages/images/mediumsize/PIA01486_ip.jpg'"
      ]
     },
     "execution_count": 33,
     "metadata": {},
     "output_type": "execute_result"
    }
   ],
   "source": [
    "img_src"
   ]
  },
  {
   "cell_type": "code",
   "execution_count": 34,
   "metadata": {},
   "outputs": [],
   "source": [
    "#Concatting the img src to the URL\n",
    "featured_image_url = 'www.jpl.nasa.gov' + img_src"
   ]
  },
  {
   "cell_type": "code",
   "execution_count": 35,
   "metadata": {},
   "outputs": [
    {
     "data": {
      "text/plain": [
       "'www.jpl.nasa.gov/spaceimages/images/mediumsize/PIA01486_ip.jpg'"
      ]
     },
     "execution_count": 35,
     "metadata": {},
     "output_type": "execute_result"
    }
   ],
   "source": [
    "featured_image_url"
   ]
  },
  {
   "cell_type": "code",
   "execution_count": 38,
   "metadata": {},
   "outputs": [],
   "source": [
    "#Looping through the Mars Report on Twitter and grabbing the most recent Tweet\n",
    "browser = init_browser()\n",
    "last_tweet = []\n",
    "#Setting url to website\n",
    "url = \"https://twitter.com/marswxreport?lang=en\"\n",
    "browser.visit(url)\n",
    "time.sleep(2)\n",
    "#grabbing html\n",
    "html = browser.html\n",
    "soup = BeautifulSoup(html, \"html.parser\")\n",
    "#Clicking the most recent tweet and collecting data\n",
    "\n",
    "try:\n",
    "    xpath = '//*[contains(@class, \"js-tweet-text-container\")]'\n",
    "    results = browser.find_by_xpath(xpath)\n",
    "    img = results[0]\n",
    "    img.click()\n",
    "    time.sleep(6)\n",
    "    html = browser.html\n",
    "    soup = BeautifulSoup(html, \"html.parser\")\n",
    "    last_tweet = soup.find(class_=\"TweetTextSize TweetTextSize--jumbo js-tweet-text tweet-text\").get_text()\n",
    "except AttributeError:\n",
    "        print (\"Error found\")"
   ]
  },
  {
   "cell_type": "code",
   "execution_count": 39,
   "metadata": {},
   "outputs": [
    {
     "name": "stdout",
     "output_type": "stream",
     "text": [
      "Sol 2047 (May 10, 2018), Sunny, high 3C/37F, low -71C/-95F, pressure at 7.33 hPa, daylight 05:22-17:20\n"
     ]
    }
   ],
   "source": [
    "print(last_tweet)"
   ]
  },
  {
   "cell_type": "code",
   "execution_count": 40,
   "metadata": {},
   "outputs": [],
   "source": [
    "Key_lime = []\n",
    "#Looping through Space  website and grabbing the keys to build a DF\n",
    "browser = init_browser()\n",
    "#Setting url to website\n",
    "url = \"https://space-facts.com/mars/\"\n",
    "browser.visit(url)\n",
    "time.sleep(2)\n",
    "#grabbing html\n",
    "html = browser.html\n",
    "soup = BeautifulSoup(html, \"html.parser\")\n",
    "for strong_tag in soup.find_all('strong'):\n",
    "    Key_lime.append(strong_tag.text)\n"
   ]
  },
  {
   "cell_type": "code",
   "execution_count": 41,
   "metadata": {},
   "outputs": [],
   "source": [
    "v_tagz = []\n",
    "#Looping through Space  website and grabbing the values to build a DF\n",
    "browser = init_browser()\n",
    "#Setting url to website\n",
    "url = \"https://space-facts.com/mars/\"\n",
    "browser.visit(url)\n",
    "time.sleep(2)\n",
    "#grabbing html\n",
    "html = browser.html\n",
    "soup = BeautifulSoup(html, \"html.parser\")\n",
    "for v_tag in soup.find_all(class_='column-2'):\n",
    "    v_tagz.append(v_tag.text)"
   ]
  },
  {
   "cell_type": "code",
   "execution_count": 42,
   "metadata": {},
   "outputs": [
    {
     "data": {
      "text/html": [
       "<div>\n",
       "<style scoped>\n",
       "    .dataframe tbody tr th:only-of-type {\n",
       "        vertical-align: middle;\n",
       "    }\n",
       "\n",
       "    .dataframe tbody tr th {\n",
       "        vertical-align: top;\n",
       "    }\n",
       "\n",
       "    .dataframe thead th {\n",
       "        text-align: right;\n",
       "    }\n",
       "</style>\n",
       "<table border=\"1\" class=\"dataframe\">\n",
       "  <thead>\n",
       "    <tr style=\"text-align: right;\">\n",
       "      <th></th>\n",
       "      <th>Keys</th>\n",
       "      <th>Values</th>\n",
       "    </tr>\n",
       "  </thead>\n",
       "  <tbody>\n",
       "    <tr>\n",
       "      <th>0</th>\n",
       "      <td>Equatorial Diameter:</td>\n",
       "      <td>6,792 km\\n</td>\n",
       "    </tr>\n",
       "    <tr>\n",
       "      <th>1</th>\n",
       "      <td>Polar Diameter:</td>\n",
       "      <td>6,752 km\\n</td>\n",
       "    </tr>\n",
       "    <tr>\n",
       "      <th>2</th>\n",
       "      <td>Mass:</td>\n",
       "      <td>6.42 x 10^23 kg (10.7% Earth)</td>\n",
       "    </tr>\n",
       "    <tr>\n",
       "      <th>3</th>\n",
       "      <td>Moons:</td>\n",
       "      <td>2 (Phobos &amp; Deimos)</td>\n",
       "    </tr>\n",
       "    <tr>\n",
       "      <th>4</th>\n",
       "      <td>Orbit Distance:</td>\n",
       "      <td>227,943,824 km (1.52 AU)</td>\n",
       "    </tr>\n",
       "    <tr>\n",
       "      <th>5</th>\n",
       "      <td>Orbit Period:</td>\n",
       "      <td>687 days (1.9 years)\\n</td>\n",
       "    </tr>\n",
       "    <tr>\n",
       "      <th>6</th>\n",
       "      <td>Surface Temperature:</td>\n",
       "      <td>-153 to 20 °C</td>\n",
       "    </tr>\n",
       "    <tr>\n",
       "      <th>7</th>\n",
       "      <td>First Record:</td>\n",
       "      <td>2nd millennium BC</td>\n",
       "    </tr>\n",
       "    <tr>\n",
       "      <th>8</th>\n",
       "      <td>Recorded By:</td>\n",
       "      <td>Egyptian astronomers</td>\n",
       "    </tr>\n",
       "  </tbody>\n",
       "</table>\n",
       "</div>"
      ],
      "text/plain": [
       "                    Keys                         Values\n",
       "0   Equatorial Diameter:                     6,792 km\\n\n",
       "1        Polar Diameter:                     6,752 km\\n\n",
       "2                  Mass:  6.42 x 10^23 kg (10.7% Earth)\n",
       "3                 Moons:            2 (Phobos & Deimos)\n",
       "4        Orbit Distance:       227,943,824 km (1.52 AU)\n",
       "5          Orbit Period:         687 days (1.9 years)\\n\n",
       "6  Surface Temperature:                   -153 to 20 °C\n",
       "7          First Record:              2nd millennium BC\n",
       "8           Recorded By:           Egyptian astronomers"
      ]
     },
     "execution_count": 42,
     "metadata": {},
     "output_type": "execute_result"
    }
   ],
   "source": [
    "#Creating a DF with the table keys and values\n",
    "df = pd.DataFrame(\n",
    "    {'Keys': Key_lime[:9],\n",
    "     'Values': v_tagz,\n",
    "    })\n",
    "df"
   ]
  },
  {
   "cell_type": "code",
   "execution_count": 43,
   "metadata": {},
   "outputs": [],
   "source": [
    "#Converting to html\n",
    "df.to_html('Output/Mars_Table.html')"
   ]
  },
  {
   "cell_type": "code",
   "execution_count": 45,
   "metadata": {},
   "outputs": [],
   "source": [
    "#Going to the Astrogeology  website and clicking on each of the 4 mars images to get full size and grabbing their title\n",
    "Astro_title = []\n",
    "Astro_img = []    \n",
    "browser = init_browser()\n",
    "url = \"https://astrogeology.usgs.gov/search/results?q=hemisphere+enhanced&k1=target&v1=Mars\"\n",
    "browser.visit(url)\n",
    "time.sleep(2)\n",
    "#grabbing html\n",
    "html = browser.html\n",
    "soup = BeautifulSoup(html, \"html.parser\")\n",
    "#Grabbing title and paragraph text\n",
    "\n",
    "try:\n",
    "    #Pulling data from Cerberus Page\n",
    "    xpath = '//*[contains(@src,\"/cache/images/dfaf3849e74bf973b59eb50dab52b583_cerberus_enhanced.tif_thumb.png\")]'\n",
    "    results = browser.find_by_xpath(xpath)\n",
    "    img = results[0]\n",
    "    img.click()\n",
    "    time.sleep(6)\n",
    "    html = browser.html\n",
    "    soup = BeautifulSoup(html, \"html.parser\")\n",
    "    Astro_title.append(soup.find(class_='title').text)\n",
    "    all_Images = soup.find(\"div\", {\"downloads\"},{\"img\"})\n",
    "    Astro_img.append(all_Images.find('a', href=True)['href'])\n",
    "    \n",
    "    #Pulling data from Schiaparelli Page\n",
    "    \n",
    "    browser.execute_script(\"window.history.go(-1)\")\n",
    "    time.sleep(2)\n",
    "    xpath = '//*[contains(@src,\"/cache/images/7677c0a006b83871b5a2f66985ab5857_schiaparelli_enhanced.tif_thumb.png\")]'\n",
    "    results = browser.find_by_xpath(xpath)\n",
    "    img = results[0]\n",
    "    img.click()\n",
    "    time.sleep(2)\n",
    "    html = browser.html\n",
    "    soup = BeautifulSoup(html, \"html.parser\")\n",
    "    Astro_title.append(soup.find(class_='title').text)\n",
    "    all_Images = soup.find(\"div\", {\"downloads\"},{\"img\"})\n",
    "    Astro_img.append(all_Images.find('a', href=True)['href'])\n",
    "    \n",
    "        #Pulling data from Syrtus Page\n",
    "    \n",
    "    browser.execute_script(\"window.history.go(-1)\")\n",
    "    time.sleep(2)\n",
    "    xpath = '//*[contains(@src,\"/cache/images/aae41197e40d6d4f3ea557f8cfe51d15_syrtis_major_enhanced.tif_thumb.png\")]'\n",
    "    results = browser.find_by_xpath(xpath)\n",
    "    img = results[0]\n",
    "    img.click()\n",
    "    time.sleep(2)\n",
    "    html = browser.html\n",
    "    soup = BeautifulSoup(html, \"html.parser\")\n",
    "    Astro_title.append(soup.find(class_='title').text)\n",
    "    all_Images = soup.find(\"div\", {\"downloads\"},{\"img\"})\n",
    "    Astro_img.append(all_Images.find('a', href=True)['href'])\n",
    "    \n",
    "            #Pulling data from Valles Marineras Page\n",
    "    \n",
    "    browser.execute_script(\"window.history.go(-1)\")\n",
    "    time.sleep(2)\n",
    "    xpath = '//*[contains(@src,\"/cache/images/aae41197e40d6d4f3ea557f8cfe51d15_syrtis_major_enhanced.tif_thumb.png\")]'\n",
    "    results = browser.find_by_xpath(xpath)\n",
    "    img = results[0]\n",
    "    img.click()\n",
    "    time.sleep(2)\n",
    "    html = browser.html\n",
    "    soup = BeautifulSoup(html, \"html.parser\")\n",
    "    Astro_title.append(soup.find(class_='title').text)\n",
    "    all_Images = soup.find(\"div\", {\"downloads\"},{\"img\"})\n",
    "    Astro_img.append(all_Images.find('a', href=True)['href'])\n",
    "\n",
    "except AttributeError:\n",
    "        print (\"Error found\")"
   ]
  },
  {
   "cell_type": "code",
   "execution_count": 46,
   "metadata": {},
   "outputs": [
    {
     "data": {
      "text/html": [
       "<div>\n",
       "<style scoped>\n",
       "    .dataframe tbody tr th:only-of-type {\n",
       "        vertical-align: middle;\n",
       "    }\n",
       "\n",
       "    .dataframe tbody tr th {\n",
       "        vertical-align: top;\n",
       "    }\n",
       "\n",
       "    .dataframe thead th {\n",
       "        text-align: right;\n",
       "    }\n",
       "</style>\n",
       "<table border=\"1\" class=\"dataframe\">\n",
       "  <thead>\n",
       "    <tr style=\"text-align: right;\">\n",
       "      <th></th>\n",
       "      <th>Link</th>\n",
       "      <th>Title</th>\n",
       "    </tr>\n",
       "  </thead>\n",
       "  <tbody>\n",
       "    <tr>\n",
       "      <th>0</th>\n",
       "      <td>http://astropedia.astrogeology.usgs.gov/download/Mars/Viking/cerberus_enhanced.tif/full.jpg</td>\n",
       "      <td>Cerberus Hemisphere Enhanced</td>\n",
       "    </tr>\n",
       "    <tr>\n",
       "      <th>1</th>\n",
       "      <td>http://astropedia.astrogeology.usgs.gov/download/Mars/Viking/schiaparelli_enhanced.tif/full.jpg</td>\n",
       "      <td>Schiaparelli Hemisphere Enhanced</td>\n",
       "    </tr>\n",
       "    <tr>\n",
       "      <th>2</th>\n",
       "      <td>http://astropedia.astrogeology.usgs.gov/download/Mars/Viking/syrtis_major_enhanced.tif/full.jpg</td>\n",
       "      <td>Syrtis Major Hemisphere Enhanced</td>\n",
       "    </tr>\n",
       "    <tr>\n",
       "      <th>3</th>\n",
       "      <td>http://astropedia.astrogeology.usgs.gov/download/Mars/Viking/syrtis_major_enhanced.tif/full.jpg</td>\n",
       "      <td>Syrtis Major Hemisphere Enhanced</td>\n",
       "    </tr>\n",
       "  </tbody>\n",
       "</table>\n",
       "</div>"
      ],
      "text/plain": [
       "                                                                                              Link  \\\n",
       "0  http://astropedia.astrogeology.usgs.gov/download/Mars/Viking/cerberus_enhanced.tif/full.jpg       \n",
       "1  http://astropedia.astrogeology.usgs.gov/download/Mars/Viking/schiaparelli_enhanced.tif/full.jpg   \n",
       "2  http://astropedia.astrogeology.usgs.gov/download/Mars/Viking/syrtis_major_enhanced.tif/full.jpg   \n",
       "3  http://astropedia.astrogeology.usgs.gov/download/Mars/Viking/syrtis_major_enhanced.tif/full.jpg   \n",
       "\n",
       "                              Title  \n",
       "0  Cerberus Hemisphere Enhanced      \n",
       "1  Schiaparelli Hemisphere Enhanced  \n",
       "2  Syrtis Major Hemisphere Enhanced  \n",
       "3  Syrtis Major Hemisphere Enhanced  "
      ]
     },
     "execution_count": 46,
     "metadata": {},
     "output_type": "execute_result"
    }
   ],
   "source": [
    "#Placing the Mars image and title into a DF\n",
    "Mars_Hemisphere = pd.DataFrame(\n",
    "    {'Title': Astro_title,\n",
    "     'Link': Astro_img,\n",
    "    })\n",
    "pd.set_option('display.max_colwidth', -1)\n",
    "Mars_Hemisphere"
   ]
  },
  {
   "cell_type": "code",
   "execution_count": 47,
   "metadata": {},
   "outputs": [],
   "source": [
    "Mars_Hemisphere.to_html(\"Output/Mars_Hemisphere.html\")"
   ]
  },
  {
   "cell_type": "code",
   "execution_count": null,
   "metadata": {},
   "outputs": [],
   "source": []
  }
 ],
 "metadata": {
  "kernelspec": {
   "display_name": "Python 3",
   "language": "python",
   "name": "python3"
  },
  "language_info": {
   "codemirror_mode": {
    "name": "ipython",
    "version": 3
   },
   "file_extension": ".py",
   "mimetype": "text/x-python",
   "name": "python",
   "nbconvert_exporter": "python",
   "pygments_lexer": "ipython3",
   "version": "3.6.4"
  }
 },
 "nbformat": 4,
 "nbformat_minor": 2
}
