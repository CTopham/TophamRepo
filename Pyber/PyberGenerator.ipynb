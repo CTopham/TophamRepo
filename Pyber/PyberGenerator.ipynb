{
 "cells": [
  {
   "cell_type": "code",
   "execution_count": 25,
   "metadata": {
    "collapsed": false
   },
   "outputs": [],
   "source": [
    "# Environment Setup\n",
    "# ----------------------------------------------------------------\n",
    "# Dependencies\n",
    "import csv\n",
    "import pandas as pd\n",
    "import random\n",
    "import numpy as np\n",
    "import string\n",
    "from faker import Faker\n",
    "fake = Faker()\n",
    "\n",
    "# Output File Names\n",
    "file_output_city_csv = \"generated_data/city_data.csv\"\n",
    "file_output_rides_csv = \"generated_data/ride_data.csv\"\n",
    "\n",
    "# Generator Conditions (Change as needed)\n",
    "# ----------------------------------------------------------------\n",
    "rough_ride_count = 2500\n",
    "rough_driver_count = 950\n",
    "city_count = 120\n",
    "city_types = [\n",
    "    {\n",
    "        \"type\": \"Urban\",\n",
    "        \"fare_range\": (4, 45),\n",
    "        \"percent_of_rides\": 0.65,\n",
    "        \"percent_of_drivers\": 0.65,\n",
    "        \"percentage_of_cities\": 0.55\n",
    "    },\n",
    "    {\n",
    "        \"type\": \"Suburban\",\n",
    "        \"fare_range\": (12, 50),\n",
    "        \"percent_of_rides\": 0.25,\n",
    "        \"percent_of_drivers\": 0.25,\n",
    "        \"percentage_of_cities\": 0.35\n",
    "    },\n",
    "    {\n",
    "        \"type\": \"Rural\",\n",
    "        \"fare_range\": (10, 60),\n",
    "        \"percent_of_rides\": 0.05,\n",
    "        \"percent_of_drivers\": 0.10,\n",
    "        \"percentage_of_cities\": 0.15\n",
    "    }\n",
    "]"
   ]
  },
  {
   "cell_type": "code",
   "execution_count": 26,
   "metadata": {
    "collapsed": false
   },
   "outputs": [
    {
     "data": {
      "text/html": [
       "<div>\n",
       "<table border=\"1\" class=\"dataframe\">\n",
       "  <thead>\n",
       "    <tr style=\"text-align: right;\">\n",
       "      <th></th>\n",
       "      <th>city</th>\n",
       "      <th>driver_count</th>\n",
       "      <th>type</th>\n",
       "    </tr>\n",
       "  </thead>\n",
       "  <tbody>\n",
       "    <tr>\n",
       "      <th>0</th>\n",
       "      <td>Amberhaven</td>\n",
       "      <td>69</td>\n",
       "      <td>Urban</td>\n",
       "    </tr>\n",
       "    <tr>\n",
       "      <th>1</th>\n",
       "      <td>Rodriguezburgh</td>\n",
       "      <td>27</td>\n",
       "      <td>Urban</td>\n",
       "    </tr>\n",
       "    <tr>\n",
       "      <th>2</th>\n",
       "      <td>Daniellebury</td>\n",
       "      <td>72</td>\n",
       "      <td>Urban</td>\n",
       "    </tr>\n",
       "    <tr>\n",
       "      <th>3</th>\n",
       "      <td>West Sethtown</td>\n",
       "      <td>54</td>\n",
       "      <td>Urban</td>\n",
       "    </tr>\n",
       "    <tr>\n",
       "      <th>4</th>\n",
       "      <td>Victoriatown</td>\n",
       "      <td>33</td>\n",
       "      <td>Urban</td>\n",
       "    </tr>\n",
       "  </tbody>\n",
       "</table>\n",
       "</div>"
      ],
      "text/plain": [
       "             city  driver_count   type\n",
       "0      Amberhaven            69  Urban\n",
       "1  Rodriguezburgh            27  Urban\n",
       "2    Daniellebury            72  Urban\n",
       "3   West Sethtown            54  Urban\n",
       "4    Victoriatown            33  Urban"
      ]
     },
     "execution_count": 26,
     "metadata": {},
     "output_type": "execute_result"
    }
   ],
   "source": [
    "# Create a CSV of city data \n",
    "# City | Driver_Count | Type\n",
    "\n",
    "# List will hold the final set of city data \n",
    "cities_data = []\n",
    "\n",
    "# Calculate the driver count for each city type\n",
    "for city_type in city_types:\n",
    "    city_type[\"total_drivers\"] = int(city_type[\"percent_of_drivers\"] * rough_driver_count)\n",
    "    city_type[\"city_count\"] = int(city_type[\"percentage_of_cities\"] * city_count)\n",
    "    \n",
    "    # Use the driver count to create a set number of fake cities each given a random number of drivers\n",
    "    for city in range(city_type[\"city_count\"]):\n",
    "        cities_data.append({\"city\": fake.city(), \n",
    "                       \"type\": city_type[\"type\"], \n",
    "                       \"driver_count\": np.random.randint(1, city_type[\"total_drivers\"] * 0.12)})\n",
    "\n",
    "\n",
    "# Convert the city data into a DataFrame    \n",
    "cities_pd = pd.DataFrame(cities_data)\n",
    "\n",
    "# Export the city data to a csv \n",
    "cities_pd.to_csv(file_output_city_csv, index=False)\n",
    "\n",
    "cities_pd.head()"
   ]
  },
  {
   "cell_type": "code",
   "execution_count": 27,
   "metadata": {
    "collapsed": false
   },
   "outputs": [
    {
     "data": {
      "text/html": [
       "<div>\n",
       "<table border=\"1\" class=\"dataframe\">\n",
       "  <thead>\n",
       "    <tr style=\"text-align: right;\">\n",
       "      <th></th>\n",
       "      <th>city</th>\n",
       "      <th>date</th>\n",
       "      <th>fare</th>\n",
       "      <th>ride_id</th>\n",
       "    </tr>\n",
       "  </thead>\n",
       "  <tbody>\n",
       "    <tr>\n",
       "      <th>0</th>\n",
       "      <td>South Denisefort</td>\n",
       "      <td>2016-05-12 02:13:09</td>\n",
       "      <td>30.00</td>\n",
       "      <td>3805967310653</td>\n",
       "    </tr>\n",
       "    <tr>\n",
       "      <th>1</th>\n",
       "      <td>Parkport</td>\n",
       "      <td>2016-04-26 23:29:55</td>\n",
       "      <td>9.60</td>\n",
       "      <td>6109206352303</td>\n",
       "    </tr>\n",
       "    <tr>\n",
       "      <th>2</th>\n",
       "      <td>Denisefurt</td>\n",
       "      <td>2016-03-20 05:16:02</td>\n",
       "      <td>16.99</td>\n",
       "      <td>2301173462403</td>\n",
       "    </tr>\n",
       "    <tr>\n",
       "      <th>3</th>\n",
       "      <td>East Robinchester</td>\n",
       "      <td>2016-04-26 14:39:45</td>\n",
       "      <td>27.91</td>\n",
       "      <td>1815738910830</td>\n",
       "    </tr>\n",
       "    <tr>\n",
       "      <th>4</th>\n",
       "      <td>Mullinschester</td>\n",
       "      <td>2016-02-12 19:04:55</td>\n",
       "      <td>28.84</td>\n",
       "      <td>7528234108888</td>\n",
       "    </tr>\n",
       "  </tbody>\n",
       "</table>\n",
       "</div>"
      ],
      "text/plain": [
       "                city                date   fare        ride_id\n",
       "0   South Denisefort 2016-05-12 02:13:09  30.00  3805967310653\n",
       "1           Parkport 2016-04-26 23:29:55   9.60  6109206352303\n",
       "2         Denisefurt 2016-03-20 05:16:02  16.99  2301173462403\n",
       "3  East Robinchester 2016-04-26 14:39:45  27.91  1815738910830\n",
       "4     Mullinschester 2016-02-12 19:04:55  28.84  7528234108888"
      ]
     },
     "execution_count": 27,
     "metadata": {},
     "output_type": "execute_result"
    }
   ],
   "source": [
    "# Create a CSV of ride data\n",
    "# Ride ID | City | Date | Fare | \n",
    "\n",
    "# List will hold all the final set of rides\n",
    "rides = []\n",
    "\n",
    "# Loop through all city types\n",
    "for city_type in city_types:\n",
    "    \n",
    "    # Determine the total rides for each city type\n",
    "    city_type[\"total_rides\"] = int(city_type[\"percent_of_rides\"] * rough_ride_count)\n",
    "    \n",
    "    # Choose a city from that city type at random to distribute the rides across cities\n",
    "    for ride in range(city_type[\"total_rides\"]):\n",
    "        \n",
    "        # Create a list of dictionaries for each ride\n",
    "        rides.append({\"ride_id\": fake.ean13(), \n",
    "                      \"date\": fake.date_time_this_year(), \n",
    "                      \"city\": np.random.choice(cities_pd[cities_pd[\"type\"] == city_type[\"type\"]][\"city\"]), \n",
    "                      \"fare\": round(np.random.uniform(city_type[\"fare_range\"][0], city_type[\"fare_range\"][1]), 2)})\n",
    "\n",
    "# Convert the ride list into a data frame\n",
    "rides_pd = pd.DataFrame(rides)\n",
    "\n",
    "# Export the ride data to a csv\n",
    "rides_pd.to_csv(file_output_rides_csv, index=False)\n",
    "\n",
    "rides_pd.head()"
   ]
  },
  {
   "cell_type": "code",
   "execution_count": 28,
   "metadata": {
    "collapsed": false
   },
   "outputs": [
    {
     "data": {
      "text/plain": [
       "city       2375\n",
       "date       2375\n",
       "fare       2375\n",
       "ride_id    2375\n",
       "dtype: int64"
      ]
     },
     "execution_count": 28,
     "metadata": {},
     "output_type": "execute_result"
    }
   ],
   "source": [
    "rides_pd.count()"
   ]
  },
  {
   "cell_type": "code",
   "execution_count": null,
   "metadata": {
    "collapsed": true
   },
   "outputs": [],
   "source": []
  }
 ],
 "metadata": {
  "anaconda-cloud": {},
  "kernelspec": {
   "display_name": "Python [conda env:PythonJS]",
   "language": "python",
   "name": "conda-env-PythonJS-py"
  },
  "language_info": {
   "codemirror_mode": {
    "name": "ipython",
    "version": 2
   },
   "file_extension": ".py",
   "mimetype": "text/x-python",
   "name": "python",
   "nbconvert_exporter": "python",
   "pygments_lexer": "ipython2",
   "version": "2.7.12"
  }
 },
 "nbformat": 4,
 "nbformat_minor": 1
}
