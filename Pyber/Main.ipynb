{
 "cells": [
  {
   "cell_type": "code",
   "execution_count": null,
   "metadata": {},
   "outputs": [],
   "source": [
    "#---Bubble Chart---\n",
    "#Average Fare ($) Per City\n",
    "#Total Number of Rides Per City\n",
    "#Total Number of Drivers Per City\n",
    "#City Type (Urban, Suburban, Rural)\n",
    "\n",
    "#----Pie Chart-----\n",
    "#% of Total Fares by City Type\n",
    "#% of Total Rides by City Type\n",
    "#% of Total Drivers by City Type\n",
    "\n",
    "#Dependencies\n",
    "import pandas as pd\n",
    "import numpy as np\n",
    "from matplotlib import pyplot as plt\n",
    "import seaborn as sns\n",
    "import matplotlib.colors\n",
    "from pylab import *\n",
    "from scipy import *\n",
    "import matplotlib.patches as mpatches"
   ]
  },
  {
   "cell_type": "code",
   "execution_count": null,
   "metadata": {},
   "outputs": [],
   "source": [
    "#Pulling in the data\n",
    "city_path = \"generated_data/city_data.csv\"\n",
    "ride_path = \"generated_data/ride_data.csv\"\n",
    "#Reading data\n",
    "city_df = pd.read_csv(city_path, encoding=\"utf-8\")\n",
    "ride_df = pd.read_csv(ride_path, encoding=\"utf-8\")"
   ]
  },
  {
   "cell_type": "code",
   "execution_count": null,
   "metadata": {},
   "outputs": [],
   "source": [
    "#Looking at DF\n",
    "city_df.head()"
   ]
  },
  {
   "cell_type": "code",
   "execution_count": null,
   "metadata": {},
   "outputs": [],
   "source": [
    "city_df = city_df.sort_values(\"driver_count\",ascending=True)\n",
    "city_df.head()"
   ]
  },
  {
   "cell_type": "code",
   "execution_count": null,
   "metadata": {},
   "outputs": [],
   "source": [
    "#Merging on 'city\n",
    "merge_df = pd.merge(ride_df, city_df, how='outer', on='city')\n",
    "merge_df = merge_df.sort_values(\"city\")\n",
    "merge_df = merge_df.reset_index(drop=True)\n",
    "merge_df.head()"
   ]
  },
  {
   "cell_type": "code",
   "execution_count": null,
   "metadata": {},
   "outputs": [],
   "source": [
    "#Numerating the City Types so they can correspond with bubble color\n",
    "merge_df['type'] = merge_df['type'].str.replace('Urban','1')\n",
    "merge_df['type'] = merge_df['type'].str.replace('Suburban','2')\n",
    "merge_df['type'] = merge_df['type'].str.replace('Rural','3')\n",
    "\n",
    "city_df.dtypes"
   ]
  },
  {
   "cell_type": "code",
   "execution_count": null,
   "metadata": {},
   "outputs": [],
   "source": [
    "#Converting type to integer\n",
    "merge_df['type'] = merge_df['type'].astype(int)\n",
    "merge_df['type'].dtypes"
   ]
  },
  {
   "cell_type": "code",
   "execution_count": null,
   "metadata": {},
   "outputs": [],
   "source": [
    "#Sampling the data to create space on the plot\n",
    "merge_df = merge_df.sample(frac=0.1)\n",
    "merge_df.count()"
   ]
  },
  {
   "cell_type": "code",
   "execution_count": null,
   "metadata": {},
   "outputs": [],
   "source": [
    "#Looping to grab some random samples in the Fares column\n",
    "div = 20\n",
    "lim = len(merge_df) // div\n",
    "samples = [merge_df.iloc[(i * div):(i * div + div), 2]\n",
    "           for i in range(0, lim)]"
   ]
  },
  {
   "cell_type": "code",
   "execution_count": null,
   "metadata": {},
   "outputs": [],
   "source": [
    "# Checking Standard Error Measurements\n",
    "means = [s.mean() for s in samples]\n",
    "sem = [s.sem() for s in samples]\n",
    "fig, ax = plt.subplots()\n",
    "ax.errorbar(np.arange(0, len(means)), means, yerr=sem, fmt=\"o\", color=\"b\",\n",
    "            alpha=0.5, label=\"Mean of Fares\")\n",
    "\n",
    "ax.set_xlim(-0.5, len(means))\n",
    "ax.set_xlabel(\"Sample Number\")\n",
    "ax.set_ylabel(\"Mean of Fares\")\n",
    "\n",
    "plt.legend(loc=\"best\", fontsize=\"small\", fancybox=True)\n",
    "plt.show()"
   ]
  },
  {
   "cell_type": "code",
   "execution_count": null,
   "metadata": {},
   "outputs": [],
   "source": [
    "#Fair per city breakdown\n",
    "fare_per_city = merge_df.groupby(['city'], as_index=False).mean()[['city','fare']]\n",
    "fare_per_city.count()"
   ]
  },
  {
   "cell_type": "code",
   "execution_count": null,
   "metadata": {},
   "outputs": [],
   "source": [
    "#grouping by city and ride, converting to df, renaming column and deleting old column\n",
    "ride_per_city = merge_df.groupby(['city'], as_index=False).count()[['city','ride_id']]\n",
    "ride_per_city['ride count'] = ride_per_city['ride_id']\n",
    "del ride_per_city['ride_id']\n",
    "ride_per_city.count()"
   ]
  },
  {
   "cell_type": "code",
   "execution_count": null,
   "metadata": {},
   "outputs": [],
   "source": [
    "#grouping by city type\n",
    "city_type = merge_df.groupby(['city'], as_index=False).mean()[['city','type']]\n",
    "city_type.count()"
   ]
  },
  {
   "cell_type": "code",
   "execution_count": null,
   "metadata": {
    "scrolled": true
   },
   "outputs": [],
   "source": [
    "#Grabbing drivers per city\n",
    "drivers_per_city = merge_df.groupby(['city'], as_index=False).mean()[['city','driver_count']]\n",
    "drivers_per_city.count()"
   ]
  },
  {
   "cell_type": "code",
   "execution_count": null,
   "metadata": {},
   "outputs": [],
   "source": [
    "x = drivers_per_city['driver_count']\n"
   ]
  },
  {
   "cell_type": "code",
   "execution_count": null,
   "metadata": {},
   "outputs": [],
   "source": [
    "y = fare_per_city['fare']\n"
   ]
  },
  {
   "cell_type": "code",
   "execution_count": null,
   "metadata": {},
   "outputs": [],
   "source": [
    "s = ride_per_city['ride count']\n"
   ]
  },
  {
   "cell_type": "code",
   "execution_count": null,
   "metadata": {},
   "outputs": [],
   "source": [
    "c = city_type['type']\n"
   ]
  },
  {
   "cell_type": "code",
   "execution_count": null,
   "metadata": {},
   "outputs": [],
   "source": [
    "#Explanation\n",
    "\n",
    "#Each bubble is a city.\n",
    "# X axis is the average amount of drivers per city.\n",
    "# Y is the Average Fares per city.\n",
    "# C  is the bubble area: sum of rides in a city.\n",
    "# Z is the color of the bubble - the darker the color the more rural the city.\n",
    "\n",
    "plt.title(\"Car Sharing\")\n",
    "plt.xlabel('Drivers per city')\n",
    "plt.ylabel('Fare')\n",
    "plt.scatter(x, y, s=s*200, c=c, cmap=\"Blues\", alpha=0.5, edgecolors=\"grey\", linewidth=1,)\n",
    "figsize=(100,100)\n",
    "Urban = mpatches.Patch(color='white', label='Urban')\n",
    "Suburban = mpatches.Patch(color='dodgerblue', label='Suburban')\n",
    "Rural = mpatches.Patch(color='blue', label='Rural')\n",
    "plt.legend(handles=[Urban,Suburban,Rural], loc=1)\n",
    "plt.show()"
   ]
  },
  {
   "cell_type": "code",
   "execution_count": null,
   "metadata": {},
   "outputs": [],
   "source": [
    "#Take away\n",
    "#1) Rural areas have higher fairs on average, most likely traveling further\n",
    "#2) Cities with lowers fairs take more rides\n",
    "#3) Urban areas have more drivers in the city\n"
   ]
  },
  {
   "cell_type": "code",
   "execution_count": null,
   "metadata": {},
   "outputs": [],
   "source": [
    "#Merge 2 for pie charts\n",
    "piemerge_df = pd.merge(ride_df, city_df, how='outer', on='city')\n",
    "piemerge_df = piemerge_df.sort_values(\"city\")\n",
    "piemerge_df = piemerge_df.reset_index(drop=True)\n",
    "piemerge_df.head()"
   ]
  },
  {
   "cell_type": "code",
   "execution_count": null,
   "metadata": {},
   "outputs": [],
   "source": [
    "#grouping by type\n",
    "pie_df = piemerge_df.groupby(['type'], as_index=False).sum()[['type','fare','driver_count']]\n",
    "pie_df.head()"
   ]
  },
  {
   "cell_type": "code",
   "execution_count": null,
   "metadata": {},
   "outputs": [],
   "source": [
    "#grouping by ride count to get the count instead of sum\n",
    "ridecount_df = piemerge_df.groupby(['type'], as_index=False).count()[['type','ride_id']]\n",
    "ridecount_df"
   ]
  },
  {
   "cell_type": "code",
   "execution_count": null,
   "metadata": {},
   "outputs": [],
   "source": [
    "#merging into one DF\n",
    "piemerge_df = pd.merge(pie_df, ridecount_df, how='outer', on='type')\n",
    "piemerge_df = piemerge_df.sort_values(\"type\")\n",
    "piemerge_df = piemerge_df.reset_index(drop=True)\n",
    "piemerge_df.head()"
   ]
  },
  {
   "cell_type": "code",
   "execution_count": null,
   "metadata": {},
   "outputs": [],
   "source": [
    "#Total fares by city type\n",
    "colors = ['Gold', 'LightSkyBlue','LightCoral']\n",
    "explode = (0, 0, 0.05)\n",
    "plt.pie(piemerge_df['fare'],labels=piemerge_df['type'],explode=explode, colors=colors,\n",
    "        autopct=\"%1.1f%%\", shadow=True, startangle=40)\n",
    "plt.axis(\"equal\")\n",
    "plt.show"
   ]
  },
  {
   "cell_type": "code",
   "execution_count": null,
   "metadata": {},
   "outputs": [],
   "source": [
    "#Total rides by city type\n",
    "colors = ['Gold', 'LightSkyBlue','LightCoral']\n",
    "explode = (0, 0, 0.05)\n",
    "plt.pie(piemerge_df['ride_id'],labels=piemerge_df['type'],explode=explode, colors=colors,\n",
    "        autopct=\"%1.1f%%\", shadow=True, startangle=40)\n",
    "plt.axis(\"equal\")\n",
    "plt.show"
   ]
  },
  {
   "cell_type": "code",
   "execution_count": null,
   "metadata": {},
   "outputs": [],
   "source": [
    "#Total drivers by city type\n",
    "colors = ['Gold', 'LightSkyBlue','LightCoral']\n",
    "explode = (0.1, 0.09, 0.09)\n",
    "plt.pie(piemerge_df['driver_count'],labels=piemerge_df['type'],explode=explode, colors=colors,\n",
    "        autopct=\"%1.1f%%\", shadow=True, startangle=40)\n",
    "plt.axis(\"equal\")\n",
    "plt.show"
   ]
  },
  {
   "cell_type": "code",
   "execution_count": null,
   "metadata": {},
   "outputs": [],
   "source": []
  }
 ],
 "metadata": {
  "kernelspec": {
   "display_name": "Python 3",
   "language": "python",
   "name": "python3"
  },
  "language_info": {
   "codemirror_mode": {
    "name": "ipython",
    "version": 3
   },
   "file_extension": ".py",
   "mimetype": "text/x-python",
   "name": "python",
   "nbconvert_exporter": "python",
   "pygments_lexer": "ipython3",
   "version": "3.6.4"
  }
 },
 "nbformat": 4,
 "nbformat_minor": 2
}
