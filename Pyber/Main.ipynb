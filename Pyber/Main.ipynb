{
 "cells": [
  {
   "cell_type": "code",
   "execution_count": 1,
   "metadata": {},
   "outputs": [],
   "source": [
    "#---Bubble Chart---\n",
    "#Average Fare ($) Per City\n",
    "#Total Number of Rides Per City\n",
    "#Total Number of Drivers Per City\n",
    "#City Type (Urban, Suburban, Rural)\n",
    "\n",
    "#----Pie Chart-----\n",
    "#% of Total Fares by City Type\n",
    "#% of Total Rides by City Type\n",
    "#% of Total Drivers by City Type\n",
    "\n",
    "#Dependencies\n",
    "import pandas as pd\n",
    "import numpy as np\n",
    "from matplotlib import pyplot as plt\n",
    "import seaborn as sns\n",
    "import matplotlib.colors\n",
    "from pylab import *\n",
    "from scipy import *\n",
    "import matplotlib.patches as mpatches"
   ]
  },
  {
   "cell_type": "code",
   "execution_count": 2,
   "metadata": {},
   "outputs": [],
   "source": [
    "#Pulling in the data\n",
    "city_path = \"generated_data/city_data.csv\"\n",
    "ride_path = \"generated_data/ride_data.csv\"\n",
    "#Reading data\n",
    "city_df = pd.read_csv(city_path, encoding=\"utf-8\")\n",
    "ride_df = pd.read_csv(ride_path, encoding=\"utf-8\")"
   ]
  },
  {
   "cell_type": "code",
   "execution_count": 3,
   "metadata": {},
   "outputs": [
    {
     "data": {
      "text/html": [
       "<div>\n",
       "<style scoped>\n",
       "    .dataframe tbody tr th:only-of-type {\n",
       "        vertical-align: middle;\n",
       "    }\n",
       "\n",
       "    .dataframe tbody tr th {\n",
       "        vertical-align: top;\n",
       "    }\n",
       "\n",
       "    .dataframe thead th {\n",
       "        text-align: right;\n",
       "    }\n",
       "</style>\n",
       "<table border=\"1\" class=\"dataframe\">\n",
       "  <thead>\n",
       "    <tr style=\"text-align: right;\">\n",
       "      <th></th>\n",
       "      <th>city</th>\n",
       "      <th>driver_count</th>\n",
       "      <th>type</th>\n",
       "    </tr>\n",
       "  </thead>\n",
       "  <tbody>\n",
       "    <tr>\n",
       "      <th>0</th>\n",
       "      <td>Tammyburgh</td>\n",
       "      <td>11</td>\n",
       "      <td>Urban</td>\n",
       "    </tr>\n",
       "    <tr>\n",
       "      <th>1</th>\n",
       "      <td>Melissaborough</td>\n",
       "      <td>15</td>\n",
       "      <td>Urban</td>\n",
       "    </tr>\n",
       "    <tr>\n",
       "      <th>2</th>\n",
       "      <td>Port Brianborough</td>\n",
       "      <td>62</td>\n",
       "      <td>Urban</td>\n",
       "    </tr>\n",
       "    <tr>\n",
       "      <th>3</th>\n",
       "      <td>New Katherine</td>\n",
       "      <td>68</td>\n",
       "      <td>Urban</td>\n",
       "    </tr>\n",
       "    <tr>\n",
       "      <th>4</th>\n",
       "      <td>Lake Charlesside</td>\n",
       "      <td>65</td>\n",
       "      <td>Urban</td>\n",
       "    </tr>\n",
       "  </tbody>\n",
       "</table>\n",
       "</div>"
      ],
      "text/plain": [
       "                city  driver_count   type\n",
       "0         Tammyburgh            11  Urban\n",
       "1     Melissaborough            15  Urban\n",
       "2  Port Brianborough            62  Urban\n",
       "3      New Katherine            68  Urban\n",
       "4   Lake Charlesside            65  Urban"
      ]
     },
     "execution_count": 3,
     "metadata": {},
     "output_type": "execute_result"
    }
   ],
   "source": [
    "#Looking at DF\n",
    "city_df.head()"
   ]
  },
  {
   "cell_type": "code",
   "execution_count": 4,
   "metadata": {},
   "outputs": [
    {
     "data": {
      "text/html": [
       "<div>\n",
       "<style scoped>\n",
       "    .dataframe tbody tr th:only-of-type {\n",
       "        vertical-align: middle;\n",
       "    }\n",
       "\n",
       "    .dataframe tbody tr th {\n",
       "        vertical-align: top;\n",
       "    }\n",
       "\n",
       "    .dataframe thead th {\n",
       "        text-align: right;\n",
       "    }\n",
       "</style>\n",
       "<table border=\"1\" class=\"dataframe\">\n",
       "  <thead>\n",
       "    <tr style=\"text-align: right;\">\n",
       "      <th></th>\n",
       "      <th>city</th>\n",
       "      <th>date</th>\n",
       "      <th>fare</th>\n",
       "      <th>ride_id</th>\n",
       "      <th>driver_count</th>\n",
       "      <th>type</th>\n",
       "    </tr>\n",
       "  </thead>\n",
       "  <tbody>\n",
       "    <tr>\n",
       "      <th>0</th>\n",
       "      <td>Adamschester</td>\n",
       "      <td>2017-01-01 13:43:33</td>\n",
       "      <td>48.33</td>\n",
       "      <td>5433192651081</td>\n",
       "      <td>27</td>\n",
       "      <td>Suburban</td>\n",
       "    </tr>\n",
       "    <tr>\n",
       "      <th>1</th>\n",
       "      <td>Adamschester</td>\n",
       "      <td>2017-01-02 16:19:03</td>\n",
       "      <td>31.09</td>\n",
       "      <td>7079690106388</td>\n",
       "      <td>27</td>\n",
       "      <td>Suburban</td>\n",
       "    </tr>\n",
       "    <tr>\n",
       "      <th>2</th>\n",
       "      <td>Adamschester</td>\n",
       "      <td>2017-01-01 04:06:31</td>\n",
       "      <td>12.97</td>\n",
       "      <td>1970667817299</td>\n",
       "      <td>27</td>\n",
       "      <td>Suburban</td>\n",
       "    </tr>\n",
       "    <tr>\n",
       "      <th>3</th>\n",
       "      <td>Adamschester</td>\n",
       "      <td>2017-01-03 06:15:43</td>\n",
       "      <td>39.39</td>\n",
       "      <td>8562770005118</td>\n",
       "      <td>27</td>\n",
       "      <td>Suburban</td>\n",
       "    </tr>\n",
       "    <tr>\n",
       "      <th>4</th>\n",
       "      <td>Adamschester</td>\n",
       "      <td>2017-01-01 16:49:22</td>\n",
       "      <td>14.17</td>\n",
       "      <td>6979569807501</td>\n",
       "      <td>27</td>\n",
       "      <td>Suburban</td>\n",
       "    </tr>\n",
       "  </tbody>\n",
       "</table>\n",
       "</div>"
      ],
      "text/plain": [
       "           city                 date   fare        ride_id  driver_count  \\\n",
       "0  Adamschester  2017-01-01 13:43:33  48.33  5433192651081            27   \n",
       "1  Adamschester  2017-01-02 16:19:03  31.09  7079690106388            27   \n",
       "2  Adamschester  2017-01-01 04:06:31  12.97  1970667817299            27   \n",
       "3  Adamschester  2017-01-03 06:15:43  39.39  8562770005118            27   \n",
       "4  Adamschester  2017-01-01 16:49:22  14.17  6979569807501            27   \n",
       "\n",
       "       type  \n",
       "0  Suburban  \n",
       "1  Suburban  \n",
       "2  Suburban  \n",
       "3  Suburban  \n",
       "4  Suburban  "
      ]
     },
     "execution_count": 4,
     "metadata": {},
     "output_type": "execute_result"
    }
   ],
   "source": [
    "#Merging on 'city\n",
    "merge_df = pd.merge(ride_df, city_df, how='outer', on='city')\n",
    "merge_df = merge_df.sort_values(\"city\")\n",
    "merge_df = merge_df.reset_index(drop=True)\n",
    "merge_df.head()"
   ]
  },
  {
   "cell_type": "code",
   "execution_count": 5,
   "metadata": {},
   "outputs": [],
   "source": [
    "#Numerating the City Types so they can correspond with bubble color\n",
    "merge_df['type'] = merge_df['type'].str.replace('Urban','1')\n",
    "merge_df['type'] = merge_df['type'].str.replace('Suburban','2')\n",
    "merge_df['type'] = merge_df['type'].str.replace('Rural','3')\n"
   ]
  },
  {
   "cell_type": "code",
   "execution_count": 6,
   "metadata": {},
   "outputs": [
    {
     "data": {
      "text/plain": [
       "array([2, 1, 3], dtype=int64)"
      ]
     },
     "execution_count": 6,
     "metadata": {},
     "output_type": "execute_result"
    }
   ],
   "source": [
    "#Converting type to integer\n",
    "merge_df['type'] = merge_df['type'].astype(int)\n",
    "merge_df['type'].unique()"
   ]
  },
  {
   "cell_type": "code",
   "execution_count": 7,
   "metadata": {},
   "outputs": [
    {
     "data": {
      "text/plain": [
       "city            238\n",
       "date            238\n",
       "fare            238\n",
       "ride_id         238\n",
       "driver_count    238\n",
       "type            238\n",
       "dtype: int64"
      ]
     },
     "execution_count": 7,
     "metadata": {},
     "output_type": "execute_result"
    }
   ],
   "source": [
    "#Sampling the data to create space on the plot\n",
    "merge_df = merge_df.sample(frac=0.1)\n",
    "merge_df.count()"
   ]
  },
  {
   "cell_type": "code",
   "execution_count": 8,
   "metadata": {},
   "outputs": [],
   "source": [
    "#Looping to grab some random samples in the Fares column\n",
    "div = 20\n",
    "lim = len(merge_df) // div\n",
    "samples = [merge_df.iloc[(i * div):(i * div + div), 2]\n",
    "           for i in range(0, lim)]"
   ]
  },
  {
   "cell_type": "code",
   "execution_count": 9,
   "metadata": {},
   "outputs": [
    {
     "data": {
      "image/png": "[encoded data removed]",
      "text/plain": [
       "<matplotlib.figure.Figure at 0x1578b9026d8>"
      ]
     },
     "metadata": {},
     "output_type": "display_data"
    }
   ],
   "source": [
    "# Checking Standard Error Measurements\n",
    "means = [s.mean() for s in samples]\n",
    "sem = [s.sem() for s in samples]\n",
    "fig, ax = plt.subplots()\n",
    "ax.errorbar(np.arange(0, len(means)), means, yerr=sem, fmt=\"o\", color=\"b\",\n",
    "            alpha=0.5, label=\"Mean of Fares\")\n",
    "\n",
    "ax.set_xlim(-0.5, len(means))\n",
    "ax.set_xlabel(\"Sample Number\")\n",
    "ax.set_ylabel(\"Mean of Fares\")\n",
    "\n",
    "plt.legend(loc=\"best\", fontsize=\"small\", fancybox=True)\n",
    "plt.show()"
   ]
  },
  {
   "cell_type": "code",
   "execution_count": 10,
   "metadata": {},
   "outputs": [
    {
     "data": {
      "text/html": [
       "<div>\n",
       "<style scoped>\n",
       "    .dataframe tbody tr th:only-of-type {\n",
       "        vertical-align: middle;\n",
       "    }\n",
       "\n",
       "    .dataframe tbody tr th {\n",
       "        vertical-align: top;\n",
       "    }\n",
       "\n",
       "    .dataframe thead th {\n",
       "        text-align: right;\n",
       "    }\n",
       "</style>\n",
       "<table border=\"1\" class=\"dataframe\">\n",
       "  <thead>\n",
       "    <tr style=\"text-align: right;\">\n",
       "      <th></th>\n",
       "      <th>city</th>\n",
       "      <th>date</th>\n",
       "      <th>fare</th>\n",
       "      <th>ride_id</th>\n",
       "      <th>driver_count</th>\n",
       "      <th>type</th>\n",
       "    </tr>\n",
       "  </thead>\n",
       "  <tbody>\n",
       "    <tr>\n",
       "      <th>0</th>\n",
       "      <td>Alexisfort</td>\n",
       "      <td>2017-01-02 20:59:13</td>\n",
       "      <td>34.34</td>\n",
       "      <td>8805663343516</td>\n",
       "      <td>24</td>\n",
       "      <td>1</td>\n",
       "    </tr>\n",
       "    <tr>\n",
       "      <th>1</th>\n",
       "      <td>Alexisfort</td>\n",
       "      <td>2017-01-01 23:04:18</td>\n",
       "      <td>12.96</td>\n",
       "      <td>2646410316386</td>\n",
       "      <td>24</td>\n",
       "      <td>1</td>\n",
       "    </tr>\n",
       "    <tr>\n",
       "      <th>2</th>\n",
       "      <td>Alexisfort</td>\n",
       "      <td>2017-01-01 08:35:47</td>\n",
       "      <td>5.75</td>\n",
       "      <td>689677502842</td>\n",
       "      <td>24</td>\n",
       "      <td>1</td>\n",
       "    </tr>\n",
       "    <tr>\n",
       "      <th>3</th>\n",
       "      <td>Alexisfort</td>\n",
       "      <td>2017-01-01 05:29:25</td>\n",
       "      <td>40.10</td>\n",
       "      <td>9106736762371</td>\n",
       "      <td>24</td>\n",
       "      <td>1</td>\n",
       "    </tr>\n",
       "    <tr>\n",
       "      <th>4</th>\n",
       "      <td>Brianfurt</td>\n",
       "      <td>2017-01-03 00:54:46</td>\n",
       "      <td>31.68</td>\n",
       "      <td>4930297982122</td>\n",
       "      <td>4</td>\n",
       "      <td>1</td>\n",
       "    </tr>\n",
       "  </tbody>\n",
       "</table>\n",
       "</div>"
      ],
      "text/plain": [
       "         city                 date   fare        ride_id  driver_count  type\n",
       "0  Alexisfort  2017-01-02 20:59:13  34.34  8805663343516            24     1\n",
       "1  Alexisfort  2017-01-01 23:04:18  12.96  2646410316386            24     1\n",
       "2  Alexisfort  2017-01-01 08:35:47   5.75   689677502842            24     1\n",
       "3  Alexisfort  2017-01-01 05:29:25  40.10  9106736762371            24     1\n",
       "4   Brianfurt  2017-01-03 00:54:46  31.68  4930297982122             4     1"
      ]
     },
     "execution_count": 10,
     "metadata": {},
     "output_type": "execute_result"
    }
   ],
   "source": [
    "#Breaking down by city types\n",
    "#--------------------------\n",
    "#urban Breakdown\n",
    "urbangroup = merge_df.loc[merge_df['type'] == 1,:]\n",
    "urbangroup = urbangroup.sort_values(\"city\")\n",
    "urbangroup = urbangroup.reset_index(drop=True)\n",
    "urbangroup.head()"
   ]
  },
  {
   "cell_type": "code",
   "execution_count": 11,
   "metadata": {},
   "outputs": [
    {
     "data": {
      "text/html": [
       "<div>\n",
       "<style scoped>\n",
       "    .dataframe tbody tr th:only-of-type {\n",
       "        vertical-align: middle;\n",
       "    }\n",
       "\n",
       "    .dataframe tbody tr th {\n",
       "        vertical-align: top;\n",
       "    }\n",
       "\n",
       "    .dataframe thead th {\n",
       "        text-align: right;\n",
       "    }\n",
       "</style>\n",
       "<table border=\"1\" class=\"dataframe\">\n",
       "  <thead>\n",
       "    <tr style=\"text-align: right;\">\n",
       "      <th></th>\n",
       "      <th>city</th>\n",
       "      <th>date</th>\n",
       "      <th>fare</th>\n",
       "      <th>ride_id</th>\n",
       "      <th>driver_count</th>\n",
       "      <th>type</th>\n",
       "    </tr>\n",
       "  </thead>\n",
       "  <tbody>\n",
       "    <tr>\n",
       "      <th>0</th>\n",
       "      <td>Adamschester</td>\n",
       "      <td>2017-01-01 23:25:56</td>\n",
       "      <td>35.95</td>\n",
       "      <td>8549491628017</td>\n",
       "      <td>27</td>\n",
       "      <td>2</td>\n",
       "    </tr>\n",
       "    <tr>\n",
       "      <th>1</th>\n",
       "      <td>Amberberg</td>\n",
       "      <td>2017-01-01 00:10:50</td>\n",
       "      <td>18.35</td>\n",
       "      <td>2979038106825</td>\n",
       "      <td>13</td>\n",
       "      <td>2</td>\n",
       "    </tr>\n",
       "    <tr>\n",
       "      <th>2</th>\n",
       "      <td>Amberberg</td>\n",
       "      <td>2017-01-02 08:39:01</td>\n",
       "      <td>18.29</td>\n",
       "      <td>5521911046390</td>\n",
       "      <td>13</td>\n",
       "      <td>2</td>\n",
       "    </tr>\n",
       "    <tr>\n",
       "      <th>3</th>\n",
       "      <td>Anthonyfurt</td>\n",
       "      <td>2017-01-02 06:10:52</td>\n",
       "      <td>23.58</td>\n",
       "      <td>8340450977241</td>\n",
       "      <td>17</td>\n",
       "      <td>2</td>\n",
       "    </tr>\n",
       "    <tr>\n",
       "      <th>4</th>\n",
       "      <td>Anthonyfurt</td>\n",
       "      <td>2017-01-02 18:04:58</td>\n",
       "      <td>41.22</td>\n",
       "      <td>2152069612682</td>\n",
       "      <td>17</td>\n",
       "      <td>2</td>\n",
       "    </tr>\n",
       "  </tbody>\n",
       "</table>\n",
       "</div>"
      ],
      "text/plain": [
       "           city                 date   fare        ride_id  driver_count  type\n",
       "0  Adamschester  2017-01-01 23:25:56  35.95  8549491628017            27     2\n",
       "1     Amberberg  2017-01-01 00:10:50  18.35  2979038106825            13     2\n",
       "2     Amberberg  2017-01-02 08:39:01  18.29  5521911046390            13     2\n",
       "3   Anthonyfurt  2017-01-02 06:10:52  23.58  8340450977241            17     2\n",
       "4   Anthonyfurt  2017-01-02 18:04:58  41.22  2152069612682            17     2"
      ]
     },
     "execution_count": 11,
     "metadata": {},
     "output_type": "execute_result"
    }
   ],
   "source": [
    "#suburban Breakdown\n",
    "suburbangroup = merge_df.loc[merge_df['type'] == 2,:]\n",
    "suburbangroup = suburbangroup.sort_values(\"city\")\n",
    "suburbangroup = suburbangroup.reset_index(drop=True)\n",
    "suburbangroup.head()"
   ]
  },
  {
   "cell_type": "code",
   "execution_count": 12,
   "metadata": {},
   "outputs": [
    {
     "data": {
      "text/html": [
       "<div>\n",
       "<style scoped>\n",
       "    .dataframe tbody tr th:only-of-type {\n",
       "        vertical-align: middle;\n",
       "    }\n",
       "\n",
       "    .dataframe tbody tr th {\n",
       "        vertical-align: top;\n",
       "    }\n",
       "\n",
       "    .dataframe thead th {\n",
       "        text-align: right;\n",
       "    }\n",
       "</style>\n",
       "<table border=\"1\" class=\"dataframe\">\n",
       "  <thead>\n",
       "    <tr style=\"text-align: right;\">\n",
       "      <th></th>\n",
       "      <th>city</th>\n",
       "      <th>date</th>\n",
       "      <th>fare</th>\n",
       "      <th>ride_id</th>\n",
       "      <th>driver_count</th>\n",
       "      <th>type</th>\n",
       "    </tr>\n",
       "  </thead>\n",
       "  <tbody>\n",
       "    <tr>\n",
       "      <th>0</th>\n",
       "      <td>Davidsonfurt</td>\n",
       "      <td>2017-01-02 09:47:09</td>\n",
       "      <td>16.36</td>\n",
       "      <td>6392658180499</td>\n",
       "      <td>1</td>\n",
       "      <td>3</td>\n",
       "    </tr>\n",
       "    <tr>\n",
       "      <th>1</th>\n",
       "      <td>Hoganfort</td>\n",
       "      <td>2017-01-03 12:15:48</td>\n",
       "      <td>19.35</td>\n",
       "      <td>685572928589</td>\n",
       "      <td>5</td>\n",
       "      <td>3</td>\n",
       "    </tr>\n",
       "    <tr>\n",
       "      <th>2</th>\n",
       "      <td>Nguyenshire</td>\n",
       "      <td>2017-01-01 09:32:08</td>\n",
       "      <td>17.88</td>\n",
       "      <td>6501330258436</td>\n",
       "      <td>3</td>\n",
       "      <td>3</td>\n",
       "    </tr>\n",
       "    <tr>\n",
       "      <th>3</th>\n",
       "      <td>Port Jameston</td>\n",
       "      <td>2017-01-01 15:47:28</td>\n",
       "      <td>45.63</td>\n",
       "      <td>7714482032277</td>\n",
       "      <td>2</td>\n",
       "      <td>3</td>\n",
       "    </tr>\n",
       "    <tr>\n",
       "      <th>4</th>\n",
       "      <td>Richardsonborough</td>\n",
       "      <td>2017-01-03 05:36:06</td>\n",
       "      <td>34.64</td>\n",
       "      <td>1523382445416</td>\n",
       "      <td>9</td>\n",
       "      <td>3</td>\n",
       "    </tr>\n",
       "  </tbody>\n",
       "</table>\n",
       "</div>"
      ],
      "text/plain": [
       "                city                 date   fare        ride_id  driver_count  \\\n",
       "0       Davidsonfurt  2017-01-02 09:47:09  16.36  6392658180499             1   \n",
       "1          Hoganfort  2017-01-03 12:15:48  19.35   685572928589             5   \n",
       "2        Nguyenshire  2017-01-01 09:32:08  17.88  6501330258436             3   \n",
       "3      Port Jameston  2017-01-01 15:47:28  45.63  7714482032277             2   \n",
       "4  Richardsonborough  2017-01-03 05:36:06  34.64  1523382445416             9   \n",
       "\n",
       "   type  \n",
       "0     3  \n",
       "1     3  \n",
       "2     3  \n",
       "3     3  \n",
       "4     3  "
      ]
     },
     "execution_count": 12,
     "metadata": {},
     "output_type": "execute_result"
    }
   ],
   "source": [
    "#Rural Breakdown\n",
    "ruralgroup = merge_df.loc[merge_df['type'] == 3,:]\n",
    "ruralgroup = ruralgroup.sort_values(\"city\")\n",
    "ruralgroup = ruralgroup.reset_index(drop=True)\n",
    "ruralgroup.head()"
   ]
  },
  {
   "cell_type": "code",
   "execution_count": 13,
   "metadata": {},
   "outputs": [],
   "source": [
    "#Taking the above merges on types and grouping them by data required on the bubble chart then placing them in variables for plotting\n",
    "#----------------------------------------------------------\n",
    "#Urban Fair per city breakdown\n",
    "ufares = urbangroup.groupby(['city'], as_index=False).mean()[['city','fare','driver_count']]\n",
    "#groupin by ride since its a count\n",
    "urides = urbangroup.groupby(['city'], as_index=False).count()[['ride_id',]]\n",
    "urides['ride count'] = urides['ride_id']\n",
    "del urides['ride_id']\n",
    "#urban x y s c setup\n",
    "x = ufares['driver_count']\n",
    "y = ufares['fare']\n",
    "s = urides['ride count']"
   ]
  },
  {
   "cell_type": "code",
   "execution_count": 14,
   "metadata": {},
   "outputs": [],
   "source": [
    "#suburban Fair per city breakdown\n",
    "sfares = suburbangroup.groupby(['city'], as_index=False).mean()[['city','fare','driver_count']]\n",
    "#groupin by ride since its a count\n",
    "srides = suburbangroup.groupby(['city'], as_index=False).count()[['ride_id',]]\n",
    "srides['ride count'] = srides['ride_id']\n",
    "del srides['ride_id']\n",
    "#suburban x y s c setup\n",
    "sx = sfares['driver_count']\n",
    "sy = sfares['fare']\n",
    "ss = srides['ride count']"
   ]
  },
  {
   "cell_type": "code",
   "execution_count": 15,
   "metadata": {},
   "outputs": [],
   "source": [
    "#rural Fair per city breakdown\n",
    "rfares = ruralgroup.groupby(['city'], as_index=False).mean()[['city','fare','driver_count']]\n",
    "#groupin by ride since its a count\n",
    "rrides = ruralgroup.groupby(['city'], as_index=False).count()[['ride_id',]]\n",
    "rrides['ride count'] = rrides['ride_id']\n",
    "del rrides['ride_id']\n",
    "#rural x y s c setup\n",
    "rx = rfares['driver_count']\n",
    "ry = rfares['fare']\n",
    "rs = rrides['ride count']"
   ]
  },
  {
   "cell_type": "code",
   "execution_count": 16,
   "metadata": {},
   "outputs": [
    {
     "data": {
      "image/png": "[encoded data removed]",
      "text/plain": [
       "<matplotlib.figure.Figure at 0x1578b9db8d0>"
      ]
     },
     "metadata": {},
     "output_type": "display_data"
    }
   ],
   "source": [
    "#Explanation\n",
    "\n",
    "#Each bubble is a city.\n",
    "# X axis is the average amount of drivers per city.\n",
    "# Y is the Average Fares per city.\n",
    "# C  is the bubble area: sum of rides in a city.\n",
    "# Z is the color of the bubble - \n",
    "\n",
    "plt.title(\"Car Sharing\")\n",
    "plt.xlabel('Drivers per city')\n",
    "plt.ylabel('Fare')\n",
    "plt.scatter(x, y, s=s*200, c='lightcoral', alpha=0.5, edgecolors=\"grey\", linewidth=1,)\n",
    "plt.scatter(sx, sy, s=ss*200, c='gold', alpha=0.5, edgecolors=\"grey\", linewidth=1,)\n",
    "plt.scatter(rx, ry, s=rs*200, c='lightskyblue', alpha=0.5, edgecolors=\"grey\", linewidth=1,)\n",
    "Urban = mpatches.Patch(color='lightcoral', label='Urban')\n",
    "Suburban = mpatches.Patch(color='gold', label='Suburban')\n",
    "Rural = mpatches.Patch(color='lightskyblue', label='Rural')\n",
    "plt.legend(handles=[Urban,Suburban,Rural], loc=1)\n",
    "\n",
    "\n",
    "\n",
    "plt.show()\n"
   ]
  },
  {
   "cell_type": "code",
   "execution_count": 17,
   "metadata": {},
   "outputs": [],
   "source": [
    "#Take away\n",
    "#1) Rural areas have higher fairs on average, most likely traveling further\n",
    "#2) Cities with lowers fairs take more rides\n",
    "#3) Urban areas have more drivers in the city\n"
   ]
  },
  {
   "cell_type": "code",
   "execution_count": 18,
   "metadata": {},
   "outputs": [
    {
     "data": {
      "text/html": [
       "<div>\n",
       "<style scoped>\n",
       "    .dataframe tbody tr th:only-of-type {\n",
       "        vertical-align: middle;\n",
       "    }\n",
       "\n",
       "    .dataframe tbody tr th {\n",
       "        vertical-align: top;\n",
       "    }\n",
       "\n",
       "    .dataframe thead th {\n",
       "        text-align: right;\n",
       "    }\n",
       "</style>\n",
       "<table border=\"1\" class=\"dataframe\">\n",
       "  <thead>\n",
       "    <tr style=\"text-align: right;\">\n",
       "      <th></th>\n",
       "      <th>city</th>\n",
       "      <th>date</th>\n",
       "      <th>fare</th>\n",
       "      <th>ride_id</th>\n",
       "      <th>driver_count</th>\n",
       "      <th>type</th>\n",
       "    </tr>\n",
       "  </thead>\n",
       "  <tbody>\n",
       "    <tr>\n",
       "      <th>0</th>\n",
       "      <td>Adamschester</td>\n",
       "      <td>2017-01-01 13:43:33</td>\n",
       "      <td>48.33</td>\n",
       "      <td>5433192651081</td>\n",
       "      <td>27</td>\n",
       "      <td>Suburban</td>\n",
       "    </tr>\n",
       "    <tr>\n",
       "      <th>1</th>\n",
       "      <td>Adamschester</td>\n",
       "      <td>2017-01-02 16:19:03</td>\n",
       "      <td>31.09</td>\n",
       "      <td>7079690106388</td>\n",
       "      <td>27</td>\n",
       "      <td>Suburban</td>\n",
       "    </tr>\n",
       "    <tr>\n",
       "      <th>2</th>\n",
       "      <td>Adamschester</td>\n",
       "      <td>2017-01-01 04:06:31</td>\n",
       "      <td>12.97</td>\n",
       "      <td>1970667817299</td>\n",
       "      <td>27</td>\n",
       "      <td>Suburban</td>\n",
       "    </tr>\n",
       "    <tr>\n",
       "      <th>3</th>\n",
       "      <td>Adamschester</td>\n",
       "      <td>2017-01-03 06:15:43</td>\n",
       "      <td>39.39</td>\n",
       "      <td>8562770005118</td>\n",
       "      <td>27</td>\n",
       "      <td>Suburban</td>\n",
       "    </tr>\n",
       "    <tr>\n",
       "      <th>4</th>\n",
       "      <td>Adamschester</td>\n",
       "      <td>2017-01-01 16:49:22</td>\n",
       "      <td>14.17</td>\n",
       "      <td>6979569807501</td>\n",
       "      <td>27</td>\n",
       "      <td>Suburban</td>\n",
       "    </tr>\n",
       "  </tbody>\n",
       "</table>\n",
       "</div>"
      ],
      "text/plain": [
       "           city                 date   fare        ride_id  driver_count  \\\n",
       "0  Adamschester  2017-01-01 13:43:33  48.33  5433192651081            27   \n",
       "1  Adamschester  2017-01-02 16:19:03  31.09  7079690106388            27   \n",
       "2  Adamschester  2017-01-01 04:06:31  12.97  1970667817299            27   \n",
       "3  Adamschester  2017-01-03 06:15:43  39.39  8562770005118            27   \n",
       "4  Adamschester  2017-01-01 16:49:22  14.17  6979569807501            27   \n",
       "\n",
       "       type  \n",
       "0  Suburban  \n",
       "1  Suburban  \n",
       "2  Suburban  \n",
       "3  Suburban  \n",
       "4  Suburban  "
      ]
     },
     "execution_count": 18,
     "metadata": {},
     "output_type": "execute_result"
    }
   ],
   "source": [
    "#Merge 2 for pie charts\n",
    "piemerge_df = pd.merge(ride_df, city_df, how='outer', on='city')\n",
    "piemerge_df = piemerge_df.sort_values(\"city\")\n",
    "piemerge_df = piemerge_df.reset_index(drop=True)\n",
    "piemerge_df.head()"
   ]
  },
  {
   "cell_type": "code",
   "execution_count": 19,
   "metadata": {},
   "outputs": [
    {
     "data": {
      "text/html": [
       "<div>\n",
       "<style scoped>\n",
       "    .dataframe tbody tr th:only-of-type {\n",
       "        vertical-align: middle;\n",
       "    }\n",
       "\n",
       "    .dataframe tbody tr th {\n",
       "        vertical-align: top;\n",
       "    }\n",
       "\n",
       "    .dataframe thead th {\n",
       "        text-align: right;\n",
       "    }\n",
       "</style>\n",
       "<table border=\"1\" class=\"dataframe\">\n",
       "  <thead>\n",
       "    <tr style=\"text-align: right;\">\n",
       "      <th></th>\n",
       "      <th>type</th>\n",
       "      <th>fare</th>\n",
       "      <th>driver_count</th>\n",
       "    </tr>\n",
       "  </thead>\n",
       "  <tbody>\n",
       "    <tr>\n",
       "      <th>0</th>\n",
       "      <td>Rural</td>\n",
       "      <td>4271.69</td>\n",
       "      <td>662</td>\n",
       "    </tr>\n",
       "    <tr>\n",
       "      <th>1</th>\n",
       "      <td>Suburban</td>\n",
       "      <td>18779.26</td>\n",
       "      <td>8774</td>\n",
       "    </tr>\n",
       "    <tr>\n",
       "      <th>2</th>\n",
       "      <td>Urban</td>\n",
       "      <td>40093.25</td>\n",
       "      <td>60935</td>\n",
       "    </tr>\n",
       "  </tbody>\n",
       "</table>\n",
       "</div>"
      ],
      "text/plain": [
       "       type      fare  driver_count\n",
       "0     Rural   4271.69           662\n",
       "1  Suburban  18779.26          8774\n",
       "2     Urban  40093.25         60935"
      ]
     },
     "execution_count": 19,
     "metadata": {},
     "output_type": "execute_result"
    }
   ],
   "source": [
    "#grouping by type\n",
    "pie_df = piemerge_df.groupby(['type'], as_index=False).sum()[['type','fare','driver_count']]\n",
    "pie_df.head()"
   ]
  },
  {
   "cell_type": "code",
   "execution_count": 20,
   "metadata": {},
   "outputs": [
    {
     "data": {
      "text/html": [
       "<div>\n",
       "<style scoped>\n",
       "    .dataframe tbody tr th:only-of-type {\n",
       "        vertical-align: middle;\n",
       "    }\n",
       "\n",
       "    .dataframe tbody tr th {\n",
       "        vertical-align: top;\n",
       "    }\n",
       "\n",
       "    .dataframe thead th {\n",
       "        text-align: right;\n",
       "    }\n",
       "</style>\n",
       "<table border=\"1\" class=\"dataframe\">\n",
       "  <thead>\n",
       "    <tr style=\"text-align: right;\">\n",
       "      <th></th>\n",
       "      <th>type</th>\n",
       "      <th>ride_id</th>\n",
       "    </tr>\n",
       "  </thead>\n",
       "  <tbody>\n",
       "    <tr>\n",
       "      <th>0</th>\n",
       "      <td>Rural</td>\n",
       "      <td>125</td>\n",
       "    </tr>\n",
       "    <tr>\n",
       "      <th>1</th>\n",
       "      <td>Suburban</td>\n",
       "      <td>625</td>\n",
       "    </tr>\n",
       "    <tr>\n",
       "      <th>2</th>\n",
       "      <td>Urban</td>\n",
       "      <td>1625</td>\n",
       "    </tr>\n",
       "  </tbody>\n",
       "</table>\n",
       "</div>"
      ],
      "text/plain": [
       "       type  ride_id\n",
       "0     Rural      125\n",
       "1  Suburban      625\n",
       "2     Urban     1625"
      ]
     },
     "execution_count": 20,
     "metadata": {},
     "output_type": "execute_result"
    }
   ],
   "source": [
    "#grouping by ride count to get the count instead of sum\n",
    "ridecount_df = piemerge_df.groupby(['type'], as_index=False).count()[['type','ride_id']]\n",
    "ridecount_df"
   ]
  },
  {
   "cell_type": "code",
   "execution_count": 21,
   "metadata": {},
   "outputs": [
    {
     "data": {
      "text/html": [
       "<div>\n",
       "<style scoped>\n",
       "    .dataframe tbody tr th:only-of-type {\n",
       "        vertical-align: middle;\n",
       "    }\n",
       "\n",
       "    .dataframe tbody tr th {\n",
       "        vertical-align: top;\n",
       "    }\n",
       "\n",
       "    .dataframe thead th {\n",
       "        text-align: right;\n",
       "    }\n",
       "</style>\n",
       "<table border=\"1\" class=\"dataframe\">\n",
       "  <thead>\n",
       "    <tr style=\"text-align: right;\">\n",
       "      <th></th>\n",
       "      <th>type</th>\n",
       "      <th>fare</th>\n",
       "      <th>driver_count</th>\n",
       "      <th>ride_id</th>\n",
       "    </tr>\n",
       "  </thead>\n",
       "  <tbody>\n",
       "    <tr>\n",
       "      <th>0</th>\n",
       "      <td>Rural</td>\n",
       "      <td>4271.69</td>\n",
       "      <td>662</td>\n",
       "      <td>125</td>\n",
       "    </tr>\n",
       "    <tr>\n",
       "      <th>1</th>\n",
       "      <td>Suburban</td>\n",
       "      <td>18779.26</td>\n",
       "      <td>8774</td>\n",
       "      <td>625</td>\n",
       "    </tr>\n",
       "    <tr>\n",
       "      <th>2</th>\n",
       "      <td>Urban</td>\n",
       "      <td>40093.25</td>\n",
       "      <td>60935</td>\n",
       "      <td>1625</td>\n",
       "    </tr>\n",
       "  </tbody>\n",
       "</table>\n",
       "</div>"
      ],
      "text/plain": [
       "       type      fare  driver_count  ride_id\n",
       "0     Rural   4271.69           662      125\n",
       "1  Suburban  18779.26          8774      625\n",
       "2     Urban  40093.25         60935     1625"
      ]
     },
     "execution_count": 21,
     "metadata": {},
     "output_type": "execute_result"
    }
   ],
   "source": [
    "#merging into one DF\n",
    "finalpie_df = pd.merge(pie_df, ridecount_df, how='outer', on='type')\n",
    "finalpie_df = finalpie_df.sort_values(\"type\")\n",
    "finalpie_df = finalpie_df.reset_index(drop=True)\n",
    "finalpie_df.head()"
   ]
  },
  {
   "cell_type": "code",
   "execution_count": 22,
   "metadata": {},
   "outputs": [
    {
     "data": {
      "text/plain": [
       "<function matplotlib.pyplot.show>"
      ]
     },
     "execution_count": 22,
     "metadata": {},
     "output_type": "execute_result"
    },
    {
     "data": {
      "image/png": "[encoded data removed]",
      "text/plain": [
       "<matplotlib.figure.Figure at 0x1578ba1d4e0>"
      ]
     },
     "metadata": {},
     "output_type": "display_data"
    }
   ],
   "source": [
    "#Total fares by city type\n",
    "colors = ['Gold', 'LightSkyBlue','LightCoral']\n",
    "explode = (0, 0, 0.05)\n",
    "plt.pie(finalpie_df['fare'],labels=finalpie_df['type'],explode=explode, colors=colors,\n",
    "        autopct=\"%1.1f%%\", shadow=True, startangle=40)\n",
    "plt.axis(\"equal\")\n",
    "plt.savefig(\"Fares.png\")\n",
    "plt.show"
   ]
  },
  {
   "cell_type": "code",
   "execution_count": 23,
   "metadata": {},
   "outputs": [
    {
     "data": {
      "text/plain": [
       "<function matplotlib.pyplot.show>"
      ]
     },
     "execution_count": 23,
     "metadata": {},
     "output_type": "execute_result"
    },
    {
     "data": {
      "image/png": "[encoded data removed]",
      "text/plain": [
       "<matplotlib.figure.Figure at 0x1578bb4c278>"
      ]
     },
     "metadata": {},
     "output_type": "display_data"
    }
   ],
   "source": [
    "#Total rides by city type\n",
    "colors = ['Gold', 'LightSkyBlue','LightCoral']\n",
    "explode = (0, 0, 0.05)\n",
    "plt.pie(finalpie_df['ride_id'],labels=finalpie_df['type'],explode=explode, colors=colors,\n",
    "        autopct=\"%1.1f%%\", shadow=True, startangle=40)\n",
    "plt.axis(\"equal\")\n",
    "plt.savefig(\"Rides.png\")\n",
    "plt.show"
   ]
  },
  {
   "cell_type": "code",
   "execution_count": 24,
   "metadata": {},
   "outputs": [
    {
     "data": {
      "text/plain": [
       "<function matplotlib.pyplot.show>"
      ]
     },
     "execution_count": 24,
     "metadata": {},
     "output_type": "execute_result"
    },
    {
     "data": {
      "image/png": "[encoded data removed]",
      "text/plain": [
       "<matplotlib.figure.Figure at 0x1578bb5a8d0>"
      ]
     },
     "metadata": {},
     "output_type": "display_data"
    }
   ],
   "source": [
    "#Total drivers by city type\n",
    "colors = ['Gold', 'LightSkyBlue','LightCoral']\n",
    "explode = (0.0,0.0, 0.05)\n",
    "plt.pie(finalpie_df['driver_count'],labels=finalpie_df['type'],explode=explode, colors=colors,\n",
    "        autopct=\"%1.1f%%\", shadow=True, startangle=40)\n",
    "plt.axis(\"equal\")\n",
    "plt.savefig(\"Drivers.png\")\n",
    "plt.show"
   ]
  },
  {
   "cell_type": "code",
   "execution_count": null,
   "metadata": {},
   "outputs": [],
   "source": []
  }
 ],
 "metadata": {
  "kernelspec": {
   "display_name": "Python 3",
   "language": "python",
   "name": "python3"
  },
  "language_info": {
   "codemirror_mode": {
    "name": "ipython",
    "version": 3
   },
   "file_extension": ".py",
   "mimetype": "text/x-python",
   "name": "python",
   "nbconvert_exporter": "python",
   "pygments_lexer": "ipython3",
   "version": "3.6.4"
  }
 },
 "nbformat": 4,
 "nbformat_minor": 2
}
