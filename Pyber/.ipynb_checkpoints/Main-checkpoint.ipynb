{
 "cells": [
  {
   "cell_type": "code",
   "execution_count": null,
   "metadata": {
    "collapsed": true
   },
   "outputs": [],
   "source": [
    "#---Bubble Chart---\n",
    "#Average Fare ($) Per City\n",
    "#Total Number of Rides Per City\n",
    "#Total Number of Drivers Per City\n",
    "#City Type (Urban, Suburban, Rural)\n",
    "\n",
    "#----Pie Chart-----\n",
    "#% of Total Fares by City Type\n",
    "#% of Total Rides by City Type\n",
    "#% of Total Drivers by City Type\n",
    "\n",
    "#Dependencies\n",
    "import pandas as pd\n",
    "import numpy as np\n",
    "from matplotlib import pyplot as plt\n",
    "import seaborn as sns\n",
    "import matplotlib.colors\n",
    "from pylab import *\n",
    "from scipy import *\n",
    "import matplotlib.patches as mpatches"
   ]
  },
  {
   "cell_type": "code",
   "execution_count": null,
   "metadata": {
    "collapsed": true
   },
   "outputs": [],
   "source": [
    "#Pulling in the data\n",
    "city_path = \"generated_data/city_data.csv\"\n",
    "ride_path = \"generated_data/ride_data.csv\"\n",
    "#Reading data\n",
    "city_df = pd.read_csv(city_path, encoding=\"utf-8\")\n",
    "ride_df = pd.read_csv(ride_path, encoding=\"utf-8\")"
   ]
  },
  {
   "cell_type": "code",
   "execution_count": null,
   "metadata": {},
   "outputs": [],
   "source": [
    "#Looking at DF\n",
    "city_df.head()"
   ]
  },
  {
   "cell_type": "code",
   "execution_count": null,
   "metadata": {},
   "outputs": [],
   "source": [
    "#Merging on 'city\n",
    "merge_df = pd.merge(ride_df, city_df, how='outer', on='city')\n",
    "merge_df = merge_df.sort_values(\"city\")\n",
    "merge_df = merge_df.reset_index(drop=True)\n",
    "merge_df.head()"
   ]
  },
  {
   "cell_type": "code",
   "execution_count": null,
   "metadata": {
    "collapsed": true
   },
   "outputs": [],
   "source": [
    "#Numerating the City Types so they can correspond with bubble color\n",
    "merge_df['type'] = merge_df['type'].str.replace('Urban','1')\n",
    "merge_df['type'] = merge_df['type'].str.replace('Suburban','2')\n",
    "merge_df['type'] = merge_df['type'].str.replace('Rural','3')\n"
   ]
  },
  {
   "cell_type": "code",
   "execution_count": null,
   "metadata": {},
   "outputs": [],
   "source": [
    "#Converting type to integer\n",
    "merge_df['type'] = merge_df['type'].astype(int)\n",
    "merge_df['type'].unique()"
   ]
  },
  {
   "cell_type": "code",
   "execution_count": null,
   "metadata": {},
   "outputs": [],
   "source": [
    "#Sampling the data to create space on the plot\n",
    "merge_df = merge_df.sample(frac=0.1)\n",
    "merge_df.count()"
   ]
  },
  {
   "cell_type": "code",
   "execution_count": null,
   "metadata": {
    "collapsed": true
   },
   "outputs": [],
   "source": [
    "#Looping to grab some random samples in the Fares column\n",
    "div = 20\n",
    "lim = len(merge_df) // div\n",
    "samples = [merge_df.iloc[(i * div):(i * div + div), 2]\n",
    "           for i in range(0, lim)]"
   ]
  },
  {
   "cell_type": "code",
   "execution_count": null,
   "metadata": {},
   "outputs": [],
   "source": [
    "# Checking Standard Error Measurements\n",
    "means = [s.mean() for s in samples]\n",
    "sem = [s.sem() for s in samples]\n",
    "fig, ax = plt.subplots()\n",
    "ax.errorbar(np.arange(0, len(means)), means, yerr=sem, fmt=\"o\", color=\"b\",\n",
    "            alpha=0.5, label=\"Mean of Fares\")\n",
    "\n",
    "ax.set_xlim(-0.5, len(means))\n",
    "ax.set_xlabel(\"Sample Number\")\n",
    "ax.set_ylabel(\"Mean of Fares\")\n",
    "\n",
    "plt.legend(loc=\"best\", fontsize=\"small\", fancybox=True)\n",
    "plt.show()"
   ]
  },
  {
   "cell_type": "code",
   "execution_count": null,
   "metadata": {},
   "outputs": [],
   "source": [
    "#Breaking down by city types\n",
    "#--------------------------\n",
    "#urban Breakdown\n",
    "urbangroup = merge_df.loc[merge_df['type'] == 1,:]\n",
    "urbangroup = urbangroup.sort_values(\"city\")\n",
    "urbangroup = urbangroup.reset_index(drop=True)\n",
    "urbangroup.head()"
   ]
  },
  {
   "cell_type": "code",
   "execution_count": null,
   "metadata": {},
   "outputs": [],
   "source": [
    "#suburban Breakdown\n",
    "suburbangroup = merge_df.loc[merge_df['type'] == 2,:]\n",
    "suburbangroup = suburbangroup.sort_values(\"city\")\n",
    "suburbangroup = suburbangroup.reset_index(drop=True)\n",
    "suburbangroup.head()"
   ]
  },
  {
   "cell_type": "code",
   "execution_count": null,
   "metadata": {},
   "outputs": [],
   "source": [
    "#Rural Breakdown\n",
    "ruralgroup = merge_df.loc[merge_df['type'] == 3,:]\n",
    "ruralgroup = ruralgroup.sort_values(\"city\")\n",
    "ruralgroup = ruralgroup.reset_index(drop=True)\n",
    "ruralgroup.head()"
   ]
  },
  {
   "cell_type": "code",
   "execution_count": null,
   "metadata": {
    "collapsed": true
   },
   "outputs": [],
   "source": [
    "#Taking the above merges on types and grouping them by data required on the bubble chart then placing them in variables for plotting\n",
    "#----------------------------------------------------------\n",
    "#Urban Fair per city breakdown\n",
    "ufares = urbangroup.groupby(['city'], as_index=False).mean()[['city','fare','driver_count']]\n",
    "#groupin by ride since its a count\n",
    "urides = urbangroup.groupby(['city'], as_index=False).count()[['ride_id',]]\n",
    "urides['ride count'] = urides['ride_id']\n",
    "del urides['ride_id']\n",
    "#urban x y s c setup\n",
    "x = ufares['driver_count']\n",
    "y = ufares['fare']\n",
    "s = urides['ride count']"
   ]
  },
  {
   "cell_type": "code",
   "execution_count": null,
   "metadata": {
    "collapsed": true
   },
   "outputs": [],
   "source": [
    "#suburban Fair per city breakdown\n",
    "sfares = suburbangroup.groupby(['city'], as_index=False).mean()[['city','fare','driver_count']]\n",
    "#groupin by ride since its a count\n",
    "srides = suburbangroup.groupby(['city'], as_index=False).count()[['ride_id',]]\n",
    "srides['ride count'] = srides['ride_id']\n",
    "del srides['ride_id']\n",
    "#suburban x y s c setup\n",
    "sx = sfares['driver_count']\n",
    "sy = sfares['fare']\n",
    "ss = srides['ride count']"
   ]
  },
  {
   "cell_type": "code",
   "execution_count": null,
   "metadata": {
    "collapsed": true
   },
   "outputs": [],
   "source": [
    "#rural Fair per city breakdown\n",
    "rfares = ruralgroup.groupby(['city'], as_index=False).mean()[['city','fare','driver_count']]\n",
    "#groupin by ride since its a count\n",
    "rrides = ruralgroup.groupby(['city'], as_index=False).count()[['ride_id',]]\n",
    "rrides['ride count'] = rrides['ride_id']\n",
    "del rrides['ride_id']\n",
    "#rural x y s c setup\n",
    "rx = rfares['driver_count']\n",
    "ry = rfares['fare']\n",
    "rs = rrides['ride count']"
   ]
  },
  {
   "cell_type": "code",
   "execution_count": null,
   "metadata": {},
   "outputs": [],
   "source": [
    "#Explanation\n",
    "\n",
    "#Each bubble is a city.\n",
    "# X axis is the average amount of drivers per city.\n",
    "# Y is the Average Fares per city.\n",
    "# C  is the bubble area: sum of rides in a city.\n",
    "# Z is the color of the bubble - \n",
    "\n",
    "plt.title(\"Car Sharing\")\n",
    "plt.xlabel('Drivers per city')\n",
    "plt.ylabel('Fare')\n",
    "plt.scatter(x, y, s=s*200, c='lightcoral', alpha=0.5, edgecolors=\"grey\", linewidth=1,)\n",
    "plt.scatter(sx, sy, s=ss*200, c='gold', alpha=0.5, edgecolors=\"grey\", linewidth=1,)\n",
    "plt.scatter(rx, ry, s=rs*200, c='lightskyblue', alpha=0.5, edgecolors=\"grey\", linewidth=1,)\n",
    "Urban = mpatches.Patch(color='lightcoral', label='Urban')\n",
    "Suburban = mpatches.Patch(color='gold', label='Suburban')\n",
    "Rural = mpatches.Patch(color='lightskyblue', label='Rural')\n",
    "plt.legend(handles=[Urban,Suburban,Rural], loc=1)\n",
    "\n",
    "\n",
    "\n",
    "plt.show()\n"
   ]
  },
  {
   "cell_type": "code",
   "execution_count": null,
   "metadata": {
    "collapsed": true
   },
   "outputs": [],
   "source": [
    "#Take away\n",
    "#1) Rural areas have higher fairs on average, most likely traveling further\n",
    "#2) Cities with lowers fairs take more rides\n",
    "#3) Urban areas have more drivers in the city\n"
   ]
  },
  {
   "cell_type": "code",
   "execution_count": null,
   "metadata": {},
   "outputs": [],
   "source": [
    "#Merge 2 for pie charts\n",
    "piemerge_df = pd.merge(ride_df, city_df, how='outer', on='city')\n",
    "piemerge_df = piemerge_df.sort_values(\"city\")\n",
    "piemerge_df = piemerge_df.reset_index(drop=True)\n",
    "piemerge_df.head()"
   ]
  },
  {
   "cell_type": "code",
   "execution_count": null,
   "metadata": {},
   "outputs": [],
   "source": [
    "#grouping by type\n",
    "pie_df = piemerge_df.groupby(['type'], as_index=False).sum()[['type','fare','driver_count']]\n",
    "pie_df.head()"
   ]
  },
  {
   "cell_type": "code",
   "execution_count": null,
   "metadata": {},
   "outputs": [],
   "source": [
    "#grouping by ride count to get the count instead of sum\n",
    "ridecount_df = piemerge_df.groupby(['type'], as_index=False).count()[['type','ride_id']]\n",
    "ridecount_df"
   ]
  },
  {
   "cell_type": "code",
   "execution_count": null,
   "metadata": {},
   "outputs": [],
   "source": [
    "#merging into one DF\n",
    "finalpie_df = pd.merge(pie_df, ridecount_df, how='outer', on='type')\n",
    "finalpie_df = finalpie_df.sort_values(\"type\")\n",
    "finalpie_df = finalpie_df.reset_index(drop=True)\n",
    "finalpie_df.head()"
   ]
  },
  {
   "cell_type": "code",
   "execution_count": null,
   "metadata": {},
   "outputs": [],
   "source": [
    "#Total fares by city type\n",
    "colors = ['Gold', 'LightSkyBlue','LightCoral']\n",
    "explode = (0, 0, 0.05)\n",
    "plt.pie(finalpie_df['fare'],labels=finalpie_df['type'],explode=explode, colors=colors,\n",
    "        autopct=\"%1.1f%%\", shadow=True, startangle=40)\n",
    "plt.axis(\"equal\")\n",
    "plt.savefig(\"Fares.png\")\n",
    "plt.show"
   ]
  },
  {
   "cell_type": "code",
   "execution_count": null,
   "metadata": {},
   "outputs": [],
   "source": [
    "#Total rides by city type\n",
    "colors = ['Gold', 'LightSkyBlue','LightCoral']\n",
    "explode = (0, 0, 0.05)\n",
    "plt.pie(finalpie_df['ride_id'],labels=finalpie_df['type'],explode=explode, colors=colors,\n",
    "        autopct=\"%1.1f%%\", shadow=True, startangle=40)\n",
    "plt.axis(\"equal\")\n",
    "plt.savefig(\"Rides.png\")\n",
    "plt.show"
   ]
  },
  {
   "cell_type": "code",
   "execution_count": null,
   "metadata": {},
   "outputs": [],
   "source": [
    "#Total drivers by city type\n",
    "colors = ['Gold', 'LightSkyBlue','LightCoral']\n",
    "explode = (0.0,0.0, 0.05)\n",
    "plt.pie(finalpie_df['driver_count'],labels=finalpie_df['type'],explode=explode, colors=colors,\n",
    "        autopct=\"%1.1f%%\", shadow=True, startangle=40)\n",
    "plt.axis(\"equal\")\n",
    "plt.savefig(\"Drivers.png\")\n",
    "plt.show"
   ]
  }
 ],
 "metadata": {
  "kernelspec": {
   "display_name": "Python 3",
   "language": "python",
   "name": "python3"
  },
  "language_info": {
   "codemirror_mode": {
    "name": "ipython",
    "version": 3
   },
   "file_extension": ".py",
   "mimetype": "text/x-python",
   "name": "python",
   "nbconvert_exporter": "python",
   "pygments_lexer": "ipython3",
   "version": "3.6.3"
  }
 },
 "nbformat": 4,
 "nbformat_minor": 2
}
