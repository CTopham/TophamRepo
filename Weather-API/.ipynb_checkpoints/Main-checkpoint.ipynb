{
 "cells": [
  {
   "cell_type": "code",
   "execution_count": null,
   "metadata": {},
   "outputs": [],
   "source": [
    "#Python weather API project\n",
    "#-------Scatters-------------\n",
    "#Temperature (F) vs. Latitude\n",
    "#Humidity (%) vs. Latitude\n",
    "#Cloudiness (%) vs. Latitude\n",
    "#Wind Speed (mph) vs. Latitude\n",
    "\n",
    "from citipy import citipy\n",
    "import openweathermapy.core as owm\n",
    "import decimal\n",
    "import requests\n",
    "import json\n",
    "import numpy as np\n",
    "import pandas as pd\n",
    "from configapi import gkey\n",
    "import matplotlib.pyplot as plt\n",
    "import random\n",
    "from random import shuffle"
   ]
  },
  {
   "cell_type": "code",
   "execution_count": null,
   "metadata": {},
   "outputs": [],
   "source": [
    "#Generating random numbers for longitude\n",
    "long = []\n",
    "while len(long) < 600:\n",
    "    long.append(random.randint(-1800000, 1800000)/10000)\n",
    "    shuffle(long)"
   ]
  },
  {
   "cell_type": "code",
   "execution_count": null,
   "metadata": {},
   "outputs": [],
   "source": [
    "#Generating random numbers for lattitude (staying under 80's for major cities)\n",
    "lat = []\n",
    "while len(lat) < 600:\n",
    "    lat.append(random.randint(-800000, 800000)/10000)\n",
    "    shuffle(lat)"
   ]
  },
  {
   "cell_type": "code",
   "execution_count": null,
   "metadata": {},
   "outputs": [],
   "source": [
    "#Creating initial DF with my longitude and latitude\n",
    "weather = pd.DataFrame({\"Latitude\": lat, \"Longitude\": long})\n",
    "weather.head()"
   ]
  },
  {
   "cell_type": "code",
   "execution_count": null,
   "metadata": {},
   "outputs": [],
   "source": [
    "#Building columns in my DF to place data\n",
    "weather[\"City\"] = \"\"\n",
    "weather[\"Country\"] = \"\"\n",
    "weather[\"Temperature\"] = \"\"\n",
    "weather[\"Cloudiness\"] = \"\"\n",
    "weather[\"Wind Speed\"] = \"\"\n",
    "weather[\"Humidity\"] = \"\"\n",
    "weather[\"City ID\"] = \"\"\n",
    "weather[\"URL\"] = \"\"\n",
    "weather = weather [[\"City\",\"Country\", \"Temperature\", \"Cloudiness\", \"Wind Speed\", \"Humidity\",\"Latitude\",\"Longitude\",\"City ID\", \"URL\"]]\n",
    "weather.head()"
   ]
  },
  {
   "cell_type": "code",
   "execution_count": null,
   "metadata": {},
   "outputs": [],
   "source": [
    "# Using the Citipy library to pull in cities using the random longitude and lattitude numbers obtained above\n",
    "#Placing the cities in the Dataframe\n",
    "\n",
    "for index, row in weather.iterrows():\n",
    "    latitude = row['Latitude']\n",
    "    longitude = row [\"Longitude\"]\n",
    "    \n",
    "    weather.set_value(index, \"City\", citipy.nearest_city(latitude, longitude).city_name)\n",
    "    weather.set_value(index, \"Country\", citipy.nearest_city(latitude, longitude).country_code)\n",
    "    \n",
    "weather.head()"
   ]
  },
  {
   "cell_type": "code",
   "execution_count": null,
   "metadata": {},
   "outputs": [],
   "source": [
    "#--------------------------------------------------------------------------\n",
    "# Starting API calls\n",
    "#--------------------------------------------------------------------------\n",
    "# Using Imperial metrics to grab Fahrenheit\n",
    "#URL Structure obtained here: https://openweathermap.org/current#data\n",
    "url = \"http://api.openweathermap.org/data/2.5/weather?units=Imperial\""
   ]
  },
  {
   "cell_type": "code",
   "execution_count": null,
   "metadata": {},
   "outputs": [],
   "source": [
    "#Testing an API pull, looking at the JSON\n",
    "print (url + \"&appid=\" + gkey + \"&q=\" + \"Las Vegas\")"
   ]
  },
  {
   "cell_type": "code",
   "execution_count": null,
   "metadata": {},
   "outputs": [],
   "source": [
    "#Looping through the DF: grabbing url, api key, and city. \n",
    "#Building the url \n",
    "#pulling it in json format\n",
    "for index, row in weather.iterrows():\n",
    "    city = row['City']\n",
    "    \n",
    "    try:\n",
    "        url_build = url + \"&appid=\" + gkey + \"&q=\" + city\n",
    "        weather_info = requests.get(url_build).json()\n",
    "        \n",
    "#Placing in DF       \n",
    "\n",
    "        weather.set_value(index, \"Temperature\", weather_info['main']['temp'])\n",
    "        weather.set_value(index, \"Humidity\", weather_info['main']['humidity'])\n",
    "        weather.set_value(index, \"Cloudiness\", weather_info['clouds']['all'])\n",
    "        weather.set_value(index, \"Wind Speed\", weather_info['wind']['speed'])\n",
    "        weather.set_value(index, \"City ID\", weather_info['id'])\n",
    "        weather.set_value(index, \"URL\", url_build)\n",
    "        print(f\"{city},{weather_info['id']}\")\n",
    "\n",
    "\n",
    "#If it does not work then place \"NaN\" in location\n",
    "    except:\n",
    "        weather.set_value(index, \"Temperature\", \"No Data from API\")\n",
    "        weather.set_value(index, \"Humidity\", \"No Data from API\")\n",
    "        weather.set_value(index, \"Cloudiness\", \"No Data from API\")\n",
    "        weather.set_value(index, \"Wind Speed\", \"No Data from API\")\n",
    "        weather.set_value(index, \"City ID\", \"No Data from API\")\n",
    "        weather.set_value(index, \"URL\", \"No Data from API\")\n",
    "        \n",
    "        print(\"NaN\")"
   ]
  },
  {
   "cell_type": "code",
   "execution_count": null,
   "metadata": {},
   "outputs": [],
   "source": [
    "weather.head()"
   ]
  },
  {
   "cell_type": "code",
   "execution_count": null,
   "metadata": {},
   "outputs": [],
   "source": [
    "#Removing the the \"no data\" returns\n",
    "weather_cleaned = weather[weather[\"URL\"]!=\"No Data from API\"]\n",
    "weather_cleaned.count()"
   ]
  },
  {
   "cell_type": "code",
   "execution_count": null,
   "metadata": {},
   "outputs": [],
   "source": [
    "#Creating scatter charts\n",
    "import seaborn as sns\n",
    "sns.set_style(\"whitegrid\")\n",
    "fig, (ax1, ax2, ax3, ax4) = plt.subplots(4, sharex=True,figsize=(15,15))\n",
    "\n",
    "fig.suptitle(\"Weather Around the World\", fontsize=16, fontweight=\"bold\")\n",
    "\n",
    "#Temp vs Latitude\n",
    "ax1.set_xlim(-80, 80)\n",
    "ax1.set_ylim(-50, 120)\n",
    "ax1.set_xlabel(\"Latitude\")\n",
    "ax1.set_ylabel(\"Temperature\")\n",
    "ax1.axvline(x=0)\n",
    "ax1.plot(weather_cleaned[\"Latitude\"], weather_cleaned[\"Temperature\"], linewidth=0, marker='o')\n",
    "\n",
    "\n",
    "#Humidity vs Latitude\n",
    "ax2.set_xlim(-80, 80)\n",
    "ax2.set_ylim(0, 105)\n",
    "ax2.set_xlabel(\"Latitude\")\n",
    "ax2.set_ylabel(\"Humidity\")\n",
    "ax2.axvline(x=0)\n",
    "ax2.plot(weather_cleaned[\"Latitude\"], weather_cleaned[\"Humidity\"], linewidth=0, marker='o', color =\"green\")\n",
    "\n",
    "\n",
    "#Coudiness vs Latitude\n",
    "ax3.set_xlim(-80, 80)\n",
    "ax3.set_ylim(0, 110)\n",
    "ax3.set_xlabel(\"Latitude\")\n",
    "ax3.set_ylabel(\"Cloudiness\")\n",
    "ax3.axvline(x=0)\n",
    "ax3.plot(weather_cleaned[\"Latitude\"], weather_cleaned[\"Cloudiness\"], linewidth=0, marker='o', color =\"grey\")\n",
    "\n",
    "\n",
    "#Wind Speed vs Latitude\n",
    "ax4.set_xlim(-80, 80)\n",
    "ax4.set_ylim(0, 100)\n",
    "ax4.set_xlabel(\"Latitude\")\n",
    "ax4.set_ylabel(\"Wind Speed\")\n",
    "ax4.plot(weather_cleaned[\"Latitude\"], weather_cleaned[\"Wind Speed\"], linewidth=0, marker='o', color =\"chartreuse\")\n",
    "ax4.axvline(x=0)\n",
    "\n",
    "plt.savefig(\"Weather.png\")\n",
    "plt.show()"
   ]
  },
  {
   "cell_type": "code",
   "execution_count": null,
   "metadata": {},
   "outputs": [],
   "source": [
    "weather_cleaned.to_json(\"Weather.json\")"
   ]
  },
  {
   "cell_type": "code",
   "execution_count": null,
   "metadata": {},
   "outputs": [],
   "source": []
  }
 ],
 "metadata": {
  "kernelspec": {
   "display_name": "Python 3",
   "language": "python",
   "name": "python3"
  },
  "language_info": {
   "codemirror_mode": {
    "name": "ipython",
    "version": 3
   },
   "file_extension": ".py",
   "mimetype": "text/x-python",
   "name": "python",
   "nbconvert_exporter": "python",
   "pygments_lexer": "ipython3",
   "version": "3.6.4"
  }
 },
 "nbformat": 4,
 "nbformat_minor": 2
}
