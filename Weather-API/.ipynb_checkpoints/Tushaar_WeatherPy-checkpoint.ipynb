{
 "cells": [
  {
   "cell_type": "code",
   "execution_count": 2,
   "metadata": {},
   "outputs": [
    {
     "ename": "ImportError",
     "evalue": "cannot import name 'api_key'",
     "output_type": "error",
     "traceback": [
      "\u001b[1;31m---------------------------------------------------------------------------\u001b[0m",
      "\u001b[1;31mImportError\u001b[0m                               Traceback (most recent call last)",
      "\u001b[1;32m<ipython-input-2-c6ab89fc507d>\u001b[0m in \u001b[0;36m<module>\u001b[1;34m()\u001b[0m\n\u001b[0;32m     12\u001b[0m \u001b[1;33m\u001b[0m\u001b[0m\n\u001b[0;32m     13\u001b[0m \u001b[1;31m#API config key\u001b[0m\u001b[1;33m\u001b[0m\u001b[1;33m\u001b[0m\u001b[0m\n\u001b[1;32m---> 14\u001b[1;33m \u001b[1;32mfrom\u001b[0m \u001b[0mconfigapi\u001b[0m \u001b[1;32mimport\u001b[0m \u001b[0mapi_key\u001b[0m\u001b[1;33m\u001b[0m\u001b[0m\n\u001b[0m",
      "\u001b[1;31mImportError\u001b[0m: cannot import name 'api_key'"
     ]
    }
   ],
   "source": [
    "# Dependencies\n",
    "import csv\n",
    "import matplotlib.pyplot as plt\n",
    "import numpy as np\n",
    "import requests\n",
    "import pandas as pd\n",
    "import openweathermapy.core as owm\n",
    "from citipy import citipy\n",
    "from pprint import pprint\n",
    "import seaborn as sns\n",
    "\n",
    "\n",
    "#API config key\n",
    "from configapi import api_key"
   ]
  },
  {
   "cell_type": "code",
   "execution_count": null,
   "metadata": {},
   "outputs": [],
   "source": [
    "# Create latitudes and longitudes\n",
    "\n",
    "latitude = np.random.uniform(-90,90,100) # Random list of 100 items with a range of -90 to +90\n",
    "longitude = np.random.uniform(-180,180,100) # Random list of 100 items with a range of -180 + 180\n",
    "\n",
    "print (latitude)\n",
    "print (longitude)"
   ]
  },
  {
   "cell_type": "code",
   "execution_count": null,
   "metadata": {
    "scrolled": true
   },
   "outputs": [],
   "source": [
    "# Create initial Cities Dataframe for 10 Latitudes and Longitudes\n",
    "City_Df = pd.DataFrame({\"Latitude\": latitude, \"Longitude\": longitude})\n",
    "City_Df.head()"
   ]
  },
  {
   "cell_type": "code",
   "execution_count": null,
   "metadata": {},
   "outputs": [],
   "source": [
    "# Add additional columns for Cities, Temperature, Humidity, Cloudiness and Wind Speed to our City_Df\n",
    "# Note that we used \"\" to specify initial entry.\n",
    "\n",
    "City_Df[\"City\"] = \"\"\n",
    "City_Df[\"Country Code\"] = \"\"\n",
    "City_Df[\"Temperature\"] = \"\"\n",
    "City_Df[\"Cloudiness\"] = \"\"\n",
    "City_Df[\"Wind Speed\"] = \"\"\n",
    "City_Df[\"Humidity\"] = \"\"\n",
    "City_Df[\"URL\"] = \"\"\n",
    "City_Df.head()"
   ]
  },
  {
   "cell_type": "code",
   "execution_count": null,
   "metadata": {},
   "outputs": [],
   "source": [
    "# Pull the values of Cities for each Latitude and Longitude and append those values in the City column\n",
    "\n",
    "\n",
    "# Loop through the Cities_Df and run a latitude/longitude search for each city and its respective country code,\n",
    "# and append the corresponding values\n",
    "\n",
    "for index, row in City_Df.iterrows():\n",
    "    latitude = row['Latitude']\n",
    "    longitude = row [\"Longitude\"]\n",
    "    \n",
    "    City_Df.set_value(index, \"City\", citipy.nearest_city(latitude, longitude).city_name)\n",
    "    City_Df.set_value(index, \"Country Code\", citipy.nearest_city(latitude, longitude).country_code)\n",
    "\n",
    "City_Df.head()\n"
   ]
  },
  {
   "cell_type": "code",
   "execution_count": null,
   "metadata": {},
   "outputs": [],
   "source": [
    "# Save config information\n",
    "# This method is being used because in HW they have asked us to print the URLs for each city\n",
    "url = \"http://api.openweathermap.org/data/2.5/weather?units=Imperial\""
   ]
  },
  {
   "cell_type": "code",
   "execution_count": null,
   "metadata": {},
   "outputs": [],
   "source": []
  },
  {
   "cell_type": "code",
   "execution_count": null,
   "metadata": {},
   "outputs": [],
   "source": [
    "# Create settings dictionary with information we're interested in\n",
    "# This is because we will feed settings into the openweathermapy.core package \n",
    "# This is a good method but it will not help us out in our current assignment because we need to print the URLs\n",
    "settings = {\"units\": \"imperial\", \"appid\": api_key}"
   ]
  },
  {
   "cell_type": "code",
   "execution_count": null,
   "metadata": {
    "scrolled": false
   },
   "outputs": [],
   "source": [
    "for index, row in City_Df.iterrows():\n",
    "    city = row['City']\n",
    "    country = row [\"Country Code\"]\n",
    "    city_country = str(city)+ \",\" + str(country)\n",
    "    \n",
    "    try:\n",
    "        #current_weather = owm.get_current(city_country, **settings)\n",
    "        current_weather_url = url + \"&appid=\" + api_key + \"&q=\" + city_country\n",
    "        current_weather = requests.get(current_weather_url).json()\n",
    "        #print (current_weather_url)\n",
    "        \n",
    "        \n",
    "        City_Df.set_value(index, \"Temperature\", current_weather['main']['temp'])\n",
    "        City_Df.set_value(index, \"Humidity\", current_weather['main']['humidity'])\n",
    "        City_Df.set_value(index, \"Cloudiness\", current_weather['clouds']['all'])\n",
    "        City_Df.set_value(index, \"Wind Speed\", current_weather['wind']['speed'])\n",
    "        City_Df.set_value(index, \"URL\", current_weather_url)\n",
    "\n",
    "\n",
    "    \n",
    "    except:\n",
    "        City_Df.set_value(index, \"Temperature\", \"No Data from API\")\n",
    "        City_Df.set_value(index, \"Humidity\", \"No Data from API\")\n",
    "        City_Df.set_value(index, \"Cloudiness\", \"No Data from API\")\n",
    "        City_Df.set_value(index, \"Wind Speed\", \"No Data from API\")\n",
    "        City_Df.set_value(index, \"URL\", \"No Data from API\")\n",
    "        print(\"No Data found\")\n",
    "        \n",
    "\n",
    "City_Df = City_Df[[\"City\", \"Country Code\", \"Latitude\", \"Longitude\",\"Temperature\", \"Humidity\", \"Cloudiness\", \"Wind Speed\", \"URL\"]]\n",
    "\n",
    "City_Df.head()\n"
   ]
  },
  {
   "cell_type": "code",
   "execution_count": null,
   "metadata": {},
   "outputs": [],
   "source": [
    "City_Df.to_csv(\"City_Df.csv\", header = True)"
   ]
  },
  {
   "cell_type": "code",
   "execution_count": null,
   "metadata": {},
   "outputs": [],
   "source": [
    "# Now filtering out the rows which do not have any API data in our City Dataframe\n",
    "City_Df_Filter = City_Df[City_Df[\"Temperature\"]!=\"No Data from API\"]\n",
    "\n",
    "City_Df_Filter\n",
    "City_Df_Filter.to_csv(\"City_Df_Clean.csv\", header = True)"
   ]
  },
  {
   "cell_type": "code",
   "execution_count": null,
   "metadata": {},
   "outputs": [],
   "source": [
    "# Checking the data types for our dataframe\n",
    "City_Df_Filter.dtypes"
   ]
  },
  {
   "cell_type": "code",
   "execution_count": null,
   "metadata": {},
   "outputs": [],
   "source": [
    "# Use Seaborn\n",
    "sns.set()\n",
    "\n",
    "# Build a scatter plot for Temperature (F) vs. Latitude\n",
    "\n",
    "plt.scatter(City_Df_Filter[\"Latitude\"], City_Df_Filter[\"Temperature\"], marker = \"o\" , color = \"maroon\",)\n",
    "plt.xlim(-100,100)\n",
    "\n",
    "# Incorporate the other graph properties\n",
    "plt.title(\"Temperature in World Cities\")\n",
    "plt.ylabel(\"Temperature (Farenheit)\")\n",
    "plt.xlabel(\"Latitude\")\n",
    "plt.grid(True)\n",
    "plt.show()"
   ]
  },
  {
   "cell_type": "code",
   "execution_count": null,
   "metadata": {},
   "outputs": [],
   "source": [
    "dir(owm) # Checking the function definition directory structure of the openweathermapy function"
   ]
  },
  {
   "cell_type": "code",
   "execution_count": null,
   "metadata": {},
   "outputs": [],
   "source": [
    "# Use Seaborn\n",
    "sns.set()\n",
    "\n",
    "# Build a scatter plot for Temperature (F) vs. Latitude\n",
    "\n",
    "plt.scatter(City_Df_Filter[\"Latitude\"], City_Df_Filter[\"Humidity\"], marker = \"o\" , color = \"coral\",)\n",
    "plt.xlim(-100,100)\n",
    "\n",
    "# Incorporate the other graph properties\n",
    "plt.title(\"Humidity in World Cities\")\n",
    "plt.ylabel(\"Humidity (Percentage)\")\n",
    "plt.xlabel(\"Latitude\")\n",
    "plt.grid(True)\n",
    "plt.show()"
   ]
  },
  {
   "cell_type": "code",
   "execution_count": null,
   "metadata": {},
   "outputs": [],
   "source": [
    "# Use Seaborn\n",
    "sns.set()\n",
    "\n",
    "# Build a scatter plot for Temperature (F) vs. Latitude\n",
    "\n",
    "plt.scatter(City_Df_Filter[\"Latitude\"], City_Df_Filter[\"Cloudiness\"], marker = \"o\" , color = \"turquoise\",)\n",
    "plt.xlim(-100,100)\n",
    "\n",
    "# Incorporate the other graph properties\n",
    "plt.title(\"Cloudiness in World Cities\")\n",
    "plt.ylabel(\"Cloudiness (Percentage)\")\n",
    "plt.xlabel(\"Latitude\")\n",
    "plt.grid(True)\n",
    "plt.show()"
   ]
  },
  {
   "cell_type": "code",
   "execution_count": null,
   "metadata": {},
   "outputs": [],
   "source": [
    "# Use Seaborn\n",
    "sns.set()\n",
    "\n",
    "# Build a scatter plot for Temperature (F) vs. Latitude\n",
    "\n",
    "plt.scatter(City_Df_Filter[\"Latitude\"], City_Df_Filter[\"Wind Speed\"], marker = \"o\" , color = \"darkblue\",)\n",
    "plt.xlim(-100,100)\n",
    "\n",
    "# Incorporate the other graph properties\n",
    "plt.title(\"Windspeed in World Cities\")\n",
    "plt.ylabel(\"Windspeed (mph)\")\n",
    "plt.xlabel(\"Latitude\")\n",
    "plt.grid(True)\n",
    "plt.show()"
   ]
  },
  {
   "cell_type": "code",
   "execution_count": null,
   "metadata": {},
   "outputs": [],
   "source": []
  }
 ],
 "metadata": {
  "kernelspec": {
   "display_name": "Python 3",
   "language": "python",
   "name": "python3"
  },
  "language_info": {
   "codemirror_mode": {
    "name": "ipython",
    "version": 3
   },
   "file_extension": ".py",
   "mimetype": "text/x-python",
   "name": "python",
   "nbconvert_exporter": "python",
   "pygments_lexer": "ipython3",
   "version": "3.6.4"
  },
  "varInspector": {
   "cols": {
    "lenName": 16,
    "lenType": 16,
    "lenVar": 40
   },
   "kernels_config": {
    "python": {
     "delete_cmd_postfix": "",
     "delete_cmd_prefix": "del ",
     "library": "var_list.py",
     "varRefreshCmd": "print(var_dic_list())"
    },
    "r": {
     "delete_cmd_postfix": ") ",
     "delete_cmd_prefix": "rm(",
     "library": "var_list.r",
     "varRefreshCmd": "cat(var_dic_list()) "
    }
   },
   "types_to_exclude": [
    "module",
    "function",
    "builtin_function_or_method",
    "instance",
    "_Feature"
   ],
   "window_display": false
  }
 },
 "nbformat": 4,
 "nbformat_minor": 2
}
