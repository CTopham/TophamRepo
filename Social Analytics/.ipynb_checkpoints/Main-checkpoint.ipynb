{
 "cells": [
  {
   "cell_type": "code",
   "execution_count": null,
   "metadata": {},
   "outputs": [],
   "source": [
    "#Analyzing the news sentiment\n",
    "#BBC, CBS, CNN, Fox, and New York times.\n",
    "#The first plot: scatter from the past 100 tweets of each outlet, each plot is the compound. sort by time stamp\n",
    "#second plot: bar plot of overall sentiment of each outlet,  aggregate the compound sentiment\n",
    "\n",
    "#Dependencies\n",
    "import json\n",
    "import tweepy\n",
    "import numpy as np\n",
    "import pandas as pd\n",
    "import seaborn as sns\n",
    "import matplotlib.pyplot as plt\n",
    "import time\n",
    "from datetime import datetime\n",
    "from textblob import TextBlob\n",
    "import matplotlib.patches as mpatches\n",
    "\n",
    "#Keys to the kingdom\n",
    "from config import Consumer\n",
    "from config import ConsumerSecret\n",
    "from config import Access\n",
    "from config import AccessSecret\n",
    "\n",
    "# Setup Tweepy API Authentication\n",
    "auth = tweepy.OAuthHandler(Consumer, ConsumerSecret)\n",
    "auth.set_access_token(Access, AccessSecret)\n",
    "api = tweepy.API(auth, parser=tweepy.parsers.JSONParser())\n",
    "\n",
    "#Vader for the sentiment analytics\n",
    "from vaderSentiment.vaderSentiment import SentimentIntensityAnalyzer\n",
    "analyzer = SentimentIntensityAnalyzer()"
   ]
  },
  {
   "cell_type": "code",
   "execution_count": null,
   "metadata": {},
   "outputs": [],
   "source": [
    "target_tags = [\"@BBC\", \"@CBS\", \"@CNN\", \"@FoxNews\",\"@nytimes\"]"
   ]
  },
  {
   "cell_type": "code",
   "execution_count": null,
   "metadata": {},
   "outputs": [],
   "source": [
    "#Pulling data from Twitter API\n",
    "counter = 0\n",
    "sentiments = []\n",
    "while counter < 4:\n",
    "    for tag in target_tags:\n",
    "        target_user = tag\n",
    "        tweet_count = 0\n",
    "        for x in range(5):\n",
    "            public_tweets = api.user_timeline(target_user)\n",
    "            for tweet in public_tweets:\n",
    "                compound = analyzer.polarity_scores(tweet[\"text\"])[\"compound\"]\n",
    "                pos = analyzer.polarity_scores(tweet[\"text\"])[\"pos\"]\n",
    "                neu = analyzer.polarity_scores(tweet[\"text\"])[\"neu\"]\n",
    "                neg = analyzer.polarity_scores(tweet[\"text\"])[\"neg\"]\n",
    "                raw_time = tweet[\"created_at\"]\n",
    "                converted_time = datetime.strptime(raw_time, \"%a %b %d %H:%M:%S %z %Y\")\n",
    "                words = tweet[\"text\"]\n",
    "                print(analyzer.polarity_scores(tweet[\"text\"]))\n",
    "                sentiments.append({\"Date\": converted_time,\n",
    "                                   \"Tweet\": words,\n",
    "                                   \"Compound\": compound,\n",
    "                                   \"Positive\": pos,\n",
    "                                   \"Negative\": neu,\n",
    "                                   \"Neutral\": neg,\n",
    "                                   \"Outlet\": tag,\n",
    "                                   \"Tweets Ago\": tweet_count,})\n",
    "                counter = counter + 1 \n",
    "                tweet_count = tweet_count + 1\n",
    "                converted_time = []\n",
    "                words = []\n",
    "\n"
   ]
  },
  {
   "cell_type": "code",
   "execution_count": null,
   "metadata": {},
   "outputs": [],
   "source": [
    "sentiments_pd = pd.DataFrame.from_dict(sentiments)\n",
    "sentiments_pd.head()"
   ]
  },
  {
   "cell_type": "code",
   "execution_count": null,
   "metadata": {},
   "outputs": [],
   "source": [
    "#Re-ordering the DataFrame\n",
    "sentiments_pd = sentiments_pd[[\"Outlet\", \"Date\", \"Tweet\", \"Compound\", \"Positive\", \"Neutral\", \"Negative\", \"Tweets Ago\"]]\n",
    "sentiments_pd.tail()"
   ]
  },
  {
   "cell_type": "code",
   "execution_count": null,
   "metadata": {},
   "outputs": [],
   "source": [
    "#Checking to ensure I pulled all outlets\n",
    "sentiments_pd[\"Outlet\"].unique()"
   ]
  },
  {
   "cell_type": "code",
   "execution_count": null,
   "metadata": {},
   "outputs": [],
   "source": [
    "#Sorting by date\n",
    "sentiments_pd= sentiments_pd.sort_values(\"Date\", ascending=False)"
   ]
  },
  {
   "cell_type": "code",
   "execution_count": null,
   "metadata": {},
   "outputs": [],
   "source": [
    "#Plotting\n",
    "import seaborn as sns\n",
    "sns.set_style(\"whitegrid\")\n",
    "plt.figure(figsize=(20,5))\n",
    "plt.title(\"Tweet Sentiment\")\n",
    "plt.xlabel('Tweets Ago')\n",
    "plt.ylabel('Tweet Polarity')\n",
    "\n",
    "bbc = sentiments_pd.loc[sentiments_pd[\"Outlet\"] == \"@BBC\",:]\n",
    "plt.scatter(bbc[\"Tweets Ago\"], bbc[\"Compound\"], c='darkviolet', s=100, alpha=0.5, edgecolors=\"grey\", linewidth=1)\n",
    "\n",
    "cbs = sentiments_pd.loc[sentiments_pd[\"Outlet\"] == \"@CBS\",:]\n",
    "plt.scatter(cbs[\"Tweets Ago\"], cbs[\"Compound\"], c='lime', s=100, alpha=0.5, edgecolors=\"grey\", linewidth=1,)\n",
    "\n",
    "cnn = sentiments_pd.loc[sentiments_pd[\"Outlet\"] == \"@CNN\",:]\n",
    "plt.scatter(cnn[\"Tweets Ago\"], cnn[\"Compound\"], c='red', s=100, alpha=0.5, edgecolors=\"grey\", linewidth=1,)\n",
    "\n",
    "FoxNews = sentiments_pd.loc[sentiments_pd[\"Outlet\"] == \"@FoxNews\",:]\n",
    "plt.scatter(FoxNews[\"Tweets Ago\"], FoxNews[\"Compound\"], c='Orange', s=100, alpha=0.5, edgecolors=\"grey\", linewidth=1,)\n",
    "\n",
    "NYTimes = sentiments_pd.loc[sentiments_pd[\"Outlet\"] == \"@nytimes\",:]\n",
    "plt.scatter(NYTimes[\"Tweets Ago\"], NYTimes[\"Compound\"], c='Navy', s=100, alpha=0.5, edgecolors=\"grey\", linewidth=1,)\n",
    "\n",
    "BBC = mpatches.Patch(color='darkviolet', label='BBC')\n",
    "CBS = mpatches.Patch(color='lime', label='CBS')\n",
    "CNN = mpatches.Patch(color='red', label='CNN')\n",
    "FoxNews = mpatches.Patch(color='Orange', label='FoxNews')\n",
    "NYTimes = mpatches.Patch(color='Navy', label='NYTimes')\n",
    "plt.legend(handles=[BBC,CBS,CNN,FoxNews,NYTimes], loc=1)\n",
    "plt.savefig(\"Compound_Scatter.png\")\n",
    "plt.show()\n"
   ]
  },
  {
   "cell_type": "code",
   "execution_count": null,
   "metadata": {},
   "outputs": [],
   "source": [
    "#Grouping by outlet then creating a new DF for the bar chart\n",
    "bar_prep = sentiments_pd.groupby(['Outlet'],as_index=False).mean()[['Outlet','Compound']]\n",
    "bar_prep.head()"
   ]
  },
  {
   "cell_type": "code",
   "execution_count": null,
   "metadata": {},
   "outputs": [],
   "source": [
    "#Bar Chart\n",
    "sns.set_style(\"whitegrid\")\n",
    "plt.figure(figsize=(20,5))\n",
    "plt.title(\"Average Media Sentiment 03/30/2018\")\n",
    "plt.xlabel('News Outlet')\n",
    "plt.ylabel('Tweet Polarity')\n",
    "my_colors = 'rgbkymc'\n",
    "#Ticks\n",
    "x_axis = np.arange(len(bar_prep[\"Outlet\"]))\n",
    "tick_locations = [value+0.4 for value in x_axis]\n",
    "#Plot\n",
    "plt.bar(x_axis, bar_prep[\"Compound\"], color=my_colors, alpha=0.5, align=\"edge\")\n",
    "plt.xticks(tick_locations, bar_prep[\"Outlet\"], rotation=\"vertical\")\n",
    "\n",
    "plt.savefig(\"Compound_Bar.png\")\n",
    "plt.show()"
   ]
  },
  {
   "cell_type": "code",
   "execution_count": null,
   "metadata": {},
   "outputs": [],
   "source": [
    "writer = pd.ExcelWriter('output.xlsx',options={'remove_timezone': True})\n",
    "sentiments_pd.to_excel(writer,'Sheet1')"
   ]
  },
  {
   "cell_type": "code",
   "execution_count": null,
   "metadata": {},
   "outputs": [],
   "source": [
    "# Three Trends:\n",
    "# 1) CBS usually has higher positive sentiment\n",
    "# 2) Fox usually has negative sentiment\n",
    "# 3) NYTimes is in the middle\n"
   ]
  },
  {
   "cell_type": "code",
   "execution_count": null,
   "metadata": {},
   "outputs": [],
   "source": [
    "#End of code "
   ]
  }
 ],
 "metadata": {
  "kernelspec": {
   "display_name": "Python 3",
   "language": "python",
   "name": "python3"
  },
  "language_info": {
   "codemirror_mode": {
    "name": "ipython",
    "version": 3
   },
   "file_extension": ".py",
   "mimetype": "text/x-python",
   "name": "python",
   "nbconvert_exporter": "python",
   "pygments_lexer": "ipython3",
   "version": "3.6.4"
  }
 },
 "nbformat": 4,
 "nbformat_minor": 2
}
