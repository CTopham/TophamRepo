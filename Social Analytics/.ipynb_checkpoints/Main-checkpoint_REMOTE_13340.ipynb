{
 "cells": [
  {
   "cell_type": "code",
   "execution_count": 1,
   "metadata": {},
   "outputs": [
    {
     "ename": "ModuleNotFoundError",
     "evalue": "No module named 'config'",
     "output_type": "error",
     "traceback": [
      "\u001b[1;31m---------------------------------------------------------------------------\u001b[0m",
      "\u001b[1;31mModuleNotFoundError\u001b[0m                       Traceback (most recent call last)",
      "\u001b[1;32m<ipython-input-1-457149057d7e>\u001b[0m in \u001b[0;36m<module>\u001b[1;34m()\u001b[0m\n\u001b[0;32m     16\u001b[0m \u001b[1;33m\u001b[0m\u001b[0m\n\u001b[0;32m     17\u001b[0m \u001b[1;31m#Keys to the kingdom\u001b[0m\u001b[1;33m\u001b[0m\u001b[1;33m\u001b[0m\u001b[0m\n\u001b[1;32m---> 18\u001b[1;33m \u001b[1;32mfrom\u001b[0m \u001b[0mconfig\u001b[0m \u001b[1;32mimport\u001b[0m \u001b[0mConsumer\u001b[0m\u001b[1;33m\u001b[0m\u001b[0m\n\u001b[0m\u001b[0;32m     19\u001b[0m \u001b[1;32mfrom\u001b[0m \u001b[0mconfig\u001b[0m \u001b[1;32mimport\u001b[0m \u001b[0mConsumerSecret\u001b[0m\u001b[1;33m\u001b[0m\u001b[0m\n\u001b[0;32m     20\u001b[0m \u001b[1;32mfrom\u001b[0m \u001b[0mconfig\u001b[0m \u001b[1;32mimport\u001b[0m \u001b[0mAccess\u001b[0m\u001b[1;33m\u001b[0m\u001b[0m\n",
      "\u001b[1;31mModuleNotFoundError\u001b[0m: No module named 'config'"
     ]
    }
   ],
   "source": [
    "#Analyzing the news sentiment\n",
    "#BBC, CBS, CNN, Fox, and New York times.\n",
    "#The first plot: scatter from the past 100 tweets of each outlet, each plot is the comppound. sort by time stamp\n",
    "#second plot: bar plot of overall sentiment of each outlet,  aggregate the compound sentiment\n",
    "\n",
    "\n",
    "#Dependencies\n",
    "import json\n",
    "import tweepy\n",
    "import numpy as np\n",
    "import pandas as pd\n",
    "import seaborn as sns\n",
    "import matplotlib.pyplot as plt\n",
    "import time\n",
    "from textblob import TextBlob\n",
    "\n",
    "#Keys to the kingdom\n",
    "from config import Consumer\n",
    "from config import ConsumerSecret\n",
    "from config import Access\n",
    "from config import AccessSecret\n",
    "\n",
    "# Setup Tweepy API Authentication\n",
    "auth = tweepy.OAuthHandler(Consumer, ConsumerSecret)\n",
    "auth.set_access_token(Access, AccessSecret)\n",
    "api = tweepy.API(auth, parser=tweepy.parsers.JSONParser())\n",
    "\n",
    "#Vader for the sentiment analytics\n",
    "from vaderSentiment.vaderSentiment import SentimentIntensityAnalyzer\n",
    "analyzer = SentimentIntensityAnalyzer()"
   ]
  },
  {
   "cell_type": "code",
   "execution_count": null,
   "metadata": {
    "collapsed": true
   },
   "outputs": [],
   "source": [
    "# Target Search Term\n",
    "Outlet_Data = [{'Outlet': \"@BBC\"}, \n",
    "               {'Outlet': \"@CBS\"},\n",
    "               {'Outlet': \"@CNN\"},\n",
    "               {'Outlet': \"@FoxNews\"},\n",
    "               {'Outlet': \"@nytimes\"}]\n",
    "Outlet_Data = pd.DataFrame(Outlet_Data)\n",
    "#Building columns in my DF to place data\n",
    "Outlet_Data[\"Outlet\"] = Outlet_Data[\"Outlet\"].astype (str)\n",
    "Outlet_Data[\"Compound\"] = \"\"\n",
    "Outlet_Data[\"Postive\"] = \"\"\n",
    "Outlet_Data[\"Neutral\"] = \"\"\n",
    "Outlet_Data[\"Negative\"] = \"\"\n",
    "Outlet_Data[\"Date\"] = \"\"\n",
    "Outlet_Data[\"Tweets Ago\"] = \"\"\n",
    "Outlet_Data.head()"
   ]
  },
  {
   "cell_type": "code",
   "execution_count": null,
   "metadata": {
    "collapsed": true
   },
   "outputs": [],
   "source": [
    "target_tags = [\"@BBC\", \"@CBS\", \"@CNN\", \"@FoxNews\",\"@nytimes\"]"
   ]
  },
  {
   "cell_type": "code",
   "execution_count": null,
   "metadata": {
    "collapsed": true
   },
   "outputs": [],
   "source": [
    "for tag in target_tags:\n",
    "    target_user = tag\n",
    "    counter = 1\n",
    "    sentiments = []\n",
    "    for x in range(5):\n",
    "        public_tweets = api.user_timeline(target_user)\n",
    "        for tweet in public_tweets:\n",
    "            compound = analyzer.polarity_scores(tweet[\"text\"])[\"compound\"]\n",
    "            pos = analyzer.polarity_scores(tweet[\"text\"])[\"pos\"]\n",
    "            neu = analyzer.polarity_scores(tweet[\"text\"])[\"neu\"]\n",
    "            neg = analyzer.polarity_scores(tweet[\"text\"])[\"neg\"]\n",
    "            tweets_ago = counter\n",
    "            print(analyzer.polarity_scores(tweet[\"text\"]))\n",
    "            sentiments.append({\"Date\": tweet[\"created_at\"], \n",
    "                               \"Compound\": compound,\n",
    "                               \"Positive\": pos,\n",
    "                               \"Negative\": neu,\n",
    "                               \"Neutral\": neg,\n",
    "                               \"Outlet\": tag,\n",
    "                               \"Tweets Ago\": counter,})\n",
    "            counter = counter + 1\n"
   ]
  },
  {
   "cell_type": "code",
   "execution_count": null,
   "metadata": {
    "collapsed": true
   },
   "outputs": [],
   "source": [
    "sentiments_pd = pd.DataFrame.from_dict(sentiments)\n",
    "sentiments_pd.head()"
   ]
  },
  {
   "cell_type": "code",
   "execution_count": null,
   "metadata": {
    "collapsed": true
   },
   "outputs": [],
   "source": []
  }
 ],
 "metadata": {
  "kernelspec": {
   "display_name": "Python 3",
   "language": "python",
   "name": "python3"
  },
  "language_info": {
   "codemirror_mode": {
    "name": "ipython",
    "version": 3
   },
   "file_extension": ".py",
   "mimetype": "text/x-python",
   "name": "python",
   "nbconvert_exporter": "python",
   "pygments_lexer": "ipython3",
   "version": "3.6.3"
  }
 },
 "nbformat": 4,
 "nbformat_minor": 2
}
